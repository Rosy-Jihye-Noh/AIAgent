{
 "cells": [
  {
   "cell_type": "code",
   "execution_count": 20,
   "id": "ed1c3473",
   "metadata": {},
   "outputs": [],
   "source": [
    "from dotenv import load_dotenv\n",
    "import os\n",
    "from glob import glob"
   ]
  },
  {
   "cell_type": "markdown",
   "id": "88fc3c3f",
   "metadata": {},
   "source": [
    "## 벡터저장소 로드"
   ]
  },
  {
   "cell_type": "code",
   "execution_count": null,
   "id": "c121d95a",
   "metadata": {},
   "outputs": [
    {
     "name": "stdout",
     "output_type": "stream",
     "text": [
      "벡터 저장소에 저장된 문서 수 : 22\n"
     ]
    }
   ],
   "source": [
    "from langchain_chroma import Chroma\n",
    "from langchain_openai import OpenAIEmbeddings\n",
    "\n",
    "#OpenAI 임베딩 모델(text-embedding-3-small)을 준비\n",
    "embeddings = OpenAIEmbeddings(\n",
    "    model = 'text-embedding-3-small'\n",
    ")\n",
    "\n",
    "#Chroma 벡터DB를 기존 저장소(chroma_db)에서 불러옴\n",
    "vectorstore = Chroma(    \n",
    "    embedding_function=embeddings,\n",
    "    collection_name=\"chroma_test\",\n",
    "    persist_directory='./chroma_db'\n",
    ")\n",
    "\n",
    "print(f'벡터 저장소에 저장된 문서 수 : {vectorstore._collection.count()}')"
   ]
  },
  {
   "cell_type": "markdown",
   "id": "8a053cda",
   "metadata": {},
   "source": [
    "## 프롬프트 템플릿 및 LLM 준비"
   ]
  },
  {
   "cell_type": "code",
   "execution_count": null,
   "id": "6e150fe2",
   "metadata": {},
   "outputs": [
    {
     "name": "stdout",
     "output_type": "stream",
     "text": [
      "input_variables=['query'] messages=[SystemMessagePromptTemplate(prompt=PromptTemplate(input_variables=[], template='You are a helpful assistant.')), HumanMessagePromptTemplate(prompt=PromptTemplate(input_variables=['query'], template='{query}'))]\n"
     ]
    }
   ],
   "source": [
    "#다중 메세지 전송\n",
    "from langchain_openai import ChatOpenAI\n",
    "from langchain_core.prompts import ChatPromptTemplate\n",
    "\n",
    "#OpenAI LLM(gpt-4o-mini) 인스턴스 준비\n",
    "llm = ChatOpenAI (\n",
    "    model='gpt-4o-mini',\n",
    "    temperature=0.3,\n",
    "    max_tokens = 100 \n",
    ")\n",
    "\n",
    "\n",
    "#시스템/유저 역할로 구성된 메시지 프롬프트 템플릿 생성\n",
    "messages = [\n",
    "    (\"system\", \"You are a helpful assistant.\"),\n",
    "    (\"user\", \"{query}\")\n",
    "]\n",
    "\n",
    "prompt = ChatPromptTemplate.from_messages(messages)\n",
    "\n",
    "print(prompt)"
   ]
  },
  {
   "cell_type": "code",
   "execution_count": null,
   "id": "abaab8db",
   "metadata": {},
   "outputs": [
    {
     "name": "stdout",
     "output_type": "stream",
     "text": [
      "['query']\n"
     ]
    }
   ],
   "source": [
    "#프롬프트 템플릿의 입력 변수 확인\n",
    "print(prompt.input_variables)"
   ]
  },
  {
   "cell_type": "code",
   "execution_count": null,
   "id": "43290b46",
   "metadata": {},
   "outputs": [
    {
     "name": "stdout",
     "output_type": "stream",
     "text": [
      "messages=[SystemMessage(content='You are a helpful assistant.'), HumanMessage(content='테슬라 창업자는 누구인가요?')]\n"
     ]
    }
   ],
   "source": [
    "#실제질의로 프롬프트 생성 및 출력력\n",
    "prompt_text = prompt.format_prompt(query='테슬라 창업자는 누구인가요?')\n",
    "print(prompt_text)"
   ]
  },
  {
   "cell_type": "code",
   "execution_count": null,
   "id": "42d561eb",
   "metadata": {},
   "outputs": [
    {
     "name": "stdout",
     "output_type": "stream",
     "text": [
      "테슬라의 창립자는 엘론 머스크(Elon Musk), 마틴 에버하드(Martin Eberhard), 마크 타페닝(Mark Tarpenning), 제프 스프링어(Jeffrey Brian Straubel)입니다. 테슬라는 2003년에 설립되었으며, 엘론 머스크는 2004년에 투자자로 참여한 후 CEO로 취임하여 회사의 발전에 큰 영향을 미쳤습니다. 이후\n"
     ]
    }
   ],
   "source": [
    "#프롬프트를 LLM에 직접 전달하여 응답 출력력\n",
    "response = llm.invoke(prompt_text)\n",
    "print(response.content)"
   ]
  },
  {
   "cell_type": "code",
   "execution_count": null,
   "id": "830966fa",
   "metadata": {},
   "outputs": [
    {
     "name": "stdout",
     "output_type": "stream",
     "text": [
      "first=ChatPromptTemplate(input_variables=['query'], messages=[SystemMessagePromptTemplate(prompt=PromptTemplate(input_variables=[], template='You are a helpful assistant.')), HumanMessagePromptTemplate(prompt=PromptTemplate(input_variables=['query'], template='{query}'))]) last=ChatOpenAI(client=<openai.resources.chat.completions.completions.Completions object at 0x0000022FD2555E90>, async_client=<openai.resources.chat.completions.completions.AsyncCompletions object at 0x0000022FD24D3610>, root_client=<openai.OpenAI object at 0x0000022FD1A7B810>, root_async_client=<openai.AsyncOpenAI object at 0x0000022FD2555190>, model_name='gpt-4o-mini', temperature=0.3, openai_api_key=SecretStr('**********'), openai_proxy='', max_tokens=100)\n"
     ]
    }
   ],
   "source": [
    "# LCEL 체인 구성 : 프롬프트와 LLM을 파이프라인(체인)으로 연결\n",
    "chain = prompt | llm\n",
    "\n",
    "#체인의 입력 스키마 확인\n",
    "print(chain)\n"
   ]
  },
  {
   "cell_type": "code",
   "execution_count": 26,
   "id": "9c1955e5",
   "metadata": {},
   "outputs": [
    {
     "name": "stdout",
     "output_type": "stream",
     "text": [
      "{'properties': {'query': {'title': 'Query', 'type': 'string'}},\n",
      " 'required': ['query'],\n",
      " 'title': 'PromptInput',\n",
      " 'type': 'object'}\n"
     ]
    }
   ],
   "source": [
    "from pprint import pprint\n",
    "pprint(chain.input_schema.schema())\n"
   ]
  },
  {
   "cell_type": "code",
   "execution_count": null,
   "id": "4a420372",
   "metadata": {},
   "outputs": [
    {
     "name": "stdout",
     "output_type": "stream",
     "text": [
      "테슬라의 창립자는 엘론 머스크(Elon Musk), 마틴 에버하르드(Martin Eberhard), 제프리 브라이언(Jeffrey Brian), 이안 라이트(Ian Wright), 그리고 JB 스트라우벨(JB Straubel)입니다. 테슬라는 2003년에 설립되었으며, 엘론 머스크는 2004년에 투자자로 참여한 후 CEO로 취임하여 회사를 이끌어\n"
     ]
    }
   ],
   "source": [
    "#체인에 질의 전달 후 응답 출력\n",
    "response = chain.invoke({\"query\": '테슬라 창업자는 누구인가요?'})\n",
    "print(response.content)"
   ]
  },
  {
   "cell_type": "markdown",
   "id": "c94a9235",
   "metadata": {},
   "source": [
    "### Prompt + LLM + Output Parser\n",
    "#### StrOutputParser\n",
    "LLM 응답을 문자열로 변환하는 파서(StrOutputParser)"
   ]
  },
  {
   "cell_type": "code",
   "execution_count": 28,
   "id": "a85387d1",
   "metadata": {},
   "outputs": [
    {
     "data": {
      "text/plain": [
       "AIMessage(content='테슬라의 창립자는 엘론 머스크(Elon Musk), 마틴 에버하르드(Martin Eberhard), 제프리 브라이언(Jeffrey Brian), 이안 라이트(Ian Wright), 그리고 JB 스트라우벨(JB Straubel)입니다. 테슬라는 2003년에 설립되었으며, 엘론 머스크는 2004년에 투자자로 참여한 후 CEO로 취임하여 회사를 이끌어', additional_kwargs={'refusal': None}, response_metadata={'token_usage': {'completion_tokens': 100, 'prompt_tokens': 27, 'total_tokens': 127, 'completion_tokens_details': {'accepted_prediction_tokens': 0, 'audio_tokens': 0, 'reasoning_tokens': 0, 'rejected_prediction_tokens': 0}, 'prompt_tokens_details': {'audio_tokens': 0, 'cached_tokens': 0}}, 'model_name': 'gpt-4o-mini-2024-07-18', 'system_fingerprint': 'fp_62a23a81ef', 'finish_reason': 'length', 'logprobs': None}, id='run-06737b0a-50f3-4134-82f7-d0d6144b06da-0', usage_metadata={'input_tokens': 27, 'output_tokens': 100, 'total_tokens': 127})"
      ]
     },
     "execution_count": 28,
     "metadata": {},
     "output_type": "execute_result"
    }
   ],
   "source": [
    "response"
   ]
  },
  {
   "cell_type": "code",
   "execution_count": 33,
   "id": "a11dc63a",
   "metadata": {},
   "outputs": [
    {
     "data": {
      "text/plain": [
       "'테슬라의 창립자는 엘론 머스크(Elon Musk), 마틴 에버하르드(Martin Eberhard), 제프리 브라이언(Jeffrey Brian), 이안 라이트(Ian Wright), 그리고 JB 스트라우벨(JB Straubel)입니다. 테슬라는 2003년에 설립되었으며, 엘론 머스크는 2004년에 투자자로 참여한 후 CEO로 취임하여 회사를 이끌어'"
      ]
     },
     "execution_count": 33,
     "metadata": {},
     "output_type": "execute_result"
    }
   ],
   "source": [
    "from langchain_core.output_parsers import StrOutputParser\n",
    "output_parser = StrOutputParser()\n",
    "output_parser.invoke(response)"
   ]
  },
  {
   "cell_type": "code",
   "execution_count": null,
   "id": "da52164e",
   "metadata": {},
   "outputs": [
    {
     "name": "stdout",
     "output_type": "stream",
     "text": [
      "리비안(Rivian)은 2009년에 설립되었습니다. 이 회사는 전기차를 개발하는 미국의 자동차 제조업체로, 특히 전기 픽업트럭과 SUV에 주력하고 있습니다.\n"
     ]
    }
   ],
   "source": [
    "#프롬프트 → LLM → 파서로 이어지는 체인 구성\n",
    "str_chain = prompt | llm | output_parser\n",
    "\n",
    "query = '리비안의 설립년도는 언제인가요?'\n",
    "str_response = str_chain.invoke(query)\n",
    "print(str_response)"
   ]
  },
  {
   "cell_type": "markdown",
   "id": "2826b854",
   "metadata": {},
   "source": [
    "##### JsonOutputParser - Json 출력"
   ]
  },
  {
   "cell_type": "code",
   "execution_count": 41,
   "id": "28e7c631",
   "metadata": {},
   "outputs": [
    {
     "name": "stdout",
     "output_type": "stream",
     "text": [
      "content='```json\\n{\\n  \"회사\": \"테슬라\",\\n  \"창립자\": [\\n    {\\n      \"이름\": \"마틴 에버하드\",\\n      \"역할\": \"공동 창립자\"\\n    },\\n    {\\n      \"이름\": \"마크 타페닝\",\\n      \"역할\": \"공동 창립자\"\\n    },\\n    {\\n      \"이름\": \"엘론 머스크\",\\n      \"역할\": \"주요 투자자' additional_kwargs={'refusal': None} response_metadata={'token_usage': {'completion_tokens': 100, 'prompt_tokens': 35, 'total_tokens': 135, 'completion_tokens_details': {'accepted_prediction_tokens': 0, 'audio_tokens': 0, 'reasoning_tokens': 0, 'rejected_prediction_tokens': 0}, 'prompt_tokens_details': {'audio_tokens': 0, 'cached_tokens': 0}}, 'model_name': 'gpt-4o-mini-2024-07-18', 'system_fingerprint': 'fp_34a54ae93c', 'finish_reason': 'length', 'logprobs': None} id='run-362566e4-0b13-4a42-9260-ca79952c7b70-0' usage_metadata={'input_tokens': 35, 'output_tokens': 100, 'total_tokens': 135}\n",
      "==============\n",
      "{'회사': '테슬라', '창립자': [{'이름': '마틴 에버하드', '역할': '공동 창립자'}, {'이름': '마크 타페닝', '역할': '공동 창립자'}, {'이름': '엘론 머스크', '역할': '주요 투자자'}]}\n"
     ]
    }
   ],
   "source": [
    "from langchain_core.output_parsers import JsonOutputParser\n",
    "\n",
    "json_parser = JsonOutputParser()\n",
    "\n",
    "json_response = chain.invoke('테슬라 창업자는 누구인가요? JSON 형식으로 올려주세요.')\n",
    "print(json_response)\n",
    "print('==============')\n",
    "\n",
    "json_parser_output = json_parser.invoke(json_response)\n",
    "print(json_parser_output)\n"
   ]
  },
  {
   "cell_type": "markdown",
   "id": "e16cea53",
   "metadata": {},
   "source": [
    "##### PydanticOutParser"
   ]
  },
  {
   "cell_type": "code",
   "execution_count": 47,
   "id": "8f1d9cab",
   "metadata": {},
   "outputs": [],
   "source": [
    "from langchain_core.output_parsers import PydanticOutputParser\n",
    "from langchain_core.pydantic_v1 import BaseModel, Field\n",
    "\n",
    "#PydanticOutParser를 Person 객체와 연결결\n",
    "class Person(BaseModel):\n",
    "    name: str = Field(description=\"The name of the person\")\n",
    "    title: str = Field(description=\"The title or position of the person\")\n",
    "\n",
    "pydantic_parser = PydanticOutputParser(pydantic_object=Person)\n",
    "#print('Pydantic Output Parser prompt:')\n",
    "#print(pydantic_parser.get_format_instructions())\n",
    "#print('=======================')\n",
    "\n",
    "prompt = ChatPromptTemplate.from_messages([\n",
    "    ('system', \"Answer the user query. Wrap the output in 'json' tags\\n{format_instructions}\"),\n",
    "    ('user', \"{query}\"),\n",
    "]).partial(format_instructions=pydantic_parser.get_format_instructions())"
   ]
  },
  {
   "cell_type": "code",
   "execution_count": 48,
   "id": "4d99a4e5",
   "metadata": {},
   "outputs": [
    {
     "data": {
      "text/plain": [
       "Person(name='엘론 머스크', title='CEO 및 창립자')"
      ]
     },
     "execution_count": 48,
     "metadata": {},
     "output_type": "execute_result"
    }
   ],
   "source": [
    "person_chain = prompt | llm | pydantic_parser\n",
    "\n",
    "response = person_chain.invoke({\"query\": \"테슬라 창업자는 누구인가요?\"})\n",
    "response"
   ]
  },
  {
   "cell_type": "markdown",
   "id": "53f979e7",
   "metadata": {},
   "source": [
    "## 출력방식"
   ]
  },
  {
   "cell_type": "markdown",
   "id": "30aa8b6a",
   "metadata": {},
   "source": [
    "### Stream"
   ]
  },
  {
   "cell_type": "code",
   "execution_count": 50,
   "id": "7e8e30fb",
   "metadata": {},
   "outputs": [
    {
     "name": "stdout",
     "output_type": "stream",
     "text": [
      "테슬라의 창립자는 엘론 머스크(Elon Musk)가 아닙니다. 테슬라는 2003년에 마틴 에버하드(Martin Eberhard)와 마크 타페닝(Mark Tarpenning)에 의해 설립되었습니다. 이후 엘론 머스크가 2004년에 투자자로 참여하게 되고, 이후 CEO로 취임하면서 회사의 비전을 주도하게 되었습니다. 엘론 머스크는 테슬라"
     ]
    }
   ],
   "source": [
    "import time\n",
    "\n",
    "for chunk in llm.stream('테슬라 창업자는 누구인가요?'):\n",
    "    print(chunk.content, end='', flush=True)\n",
    "    time.sleep(0.1)"
   ]
  },
  {
   "cell_type": "markdown",
   "id": "d83fb99b",
   "metadata": {},
   "source": [
    "### Batch"
   ]
  },
  {
   "cell_type": "code",
   "execution_count": 53,
   "id": "13bdf875",
   "metadata": {},
   "outputs": [
    {
     "name": "stdout",
     "output_type": "stream",
     "text": [
      "==================================\u001b[1m Ai Message \u001b[0m==================================\n",
      "\n",
      "테슬라의 창립자는 엘론 머스크(Elon Musk)가 아닙니다. 테슬라는 2003년에 마틴 에버하드(Martin Eberhard)와 마크 타페닝(Mark Tarpenning)에 의해 설립되었습니다. 엘론 머스크는 2004년에 테슬라에 투자하고 이후 CEO로 취임하면서 회사의 주요 인물로 자리잡았습니다. 따라서 엘론 머스크는 테슬라\n",
      "\n",
      "==================================\u001b[1m Ai Message \u001b[0m==================================\n",
      "\n",
      "리비안(Rivian)은 2009년에 설립되었습니다. 이 회사는 전기차를 개발하고 생산하는 데 주력하고 있으며, 특히 전기 픽업트럭과 SUV 모델로 주목받고 있습니다.\n",
      "\n"
     ]
    }
   ],
   "source": [
    "questions = [\n",
    "    \"테슬라 창업자는 누구인가요?\",\n",
    "    \"리비안의 설립년도는 언제인가요?\"\n",
    "]\n",
    "\n",
    "responses = llm.batch(questions)\n",
    "\n",
    "for response in responses:\n",
    "    response.pretty_print()\n",
    "    print()"
   ]
  },
  {
   "cell_type": "markdown",
   "id": "7949226d",
   "metadata": {},
   "source": [
    "## Runnable"
   ]
  },
  {
   "cell_type": "code",
   "execution_count": null,
   "id": "6d0a3dcc",
   "metadata": {},
   "outputs": [
    {
     "name": "stdout",
     "output_type": "stream",
     "text": [
      "검색된 문서 수 : 2\n",
      "('테슬라(Tesla, Inc.)는 텍사스주 오스틴에 본사를 둔 미국의 대표적인 전기차 제조업체입니다. 2003년 마틴 에버하드(CEO)와 '\n",
      " '마크 타페닝(CFO)에 의해 설립된 테슬라는 2004년 페이팔과 Zip2의 공동 창업자인 일론 머스크의 참여로 큰 전환점을 맞았습니다. '\n",
      " '머스크는 최대 주주이자 회장으로서 회사를 현재의 성공으로 이끌었습니다. 회사 이름은 유명한 물리학자이자 전기공학자인 니콜라 테슬라의 '\n",
      " '이름을 따서 지어졌습니다. 테슬라는 2010년 6월 나스닥에 상장되었습니다.\\n'\n",
      " '테슬라(Tesla, Inc.)는 텍사스주 오스틴에 본사를 둔 미국의 대표적인 전기차 제조업체입니다. 2003년 마틴 에버하드(CEO)와 '\n",
      " '마크 타페닝(CFO)에 의해 설립된 테슬라는 2004년 페이팔과 Zip2의 공동 창업자인 일론 머스크의 참여로 큰 전환점을 맞았습니다. '\n",
      " '머스크는 최대 주주이자 회장으로서 회사를 현재의 성공으로 이끌었습니다. 회사 이름은 유명한 물리학자이자 전기공학자인 니콜라 테슬라의 '\n",
      " '이름을 따서 지어졌습니다. 테슬라는 2010년 6월 나스닥에 상장되었습니다.')\n"
     ]
    }
   ],
   "source": [
    "# 문서 검색기 생성\n",
    "retriever = vectorstore.as_retriever(\n",
    "    search_kwargs={\"k\":2}, # 가장 유사한 문서 2개 반환\n",
    ")\n",
    "\n",
    "query = '테슬라 창업자는 누구인가요?'\n",
    "retrived_docs = retriever.invoke(query) # 쿼리에 대해 문서 검색\n",
    "print(f\"검색된 문서 수 : {len(retrived_docs)}\")\n",
    "\n",
    "retrived_docs_text = \"\\n\".join([doc.page_content for doc in retrived_docs])\n",
    "pprint(retrived_docs_text)\n",
    "#검색된 문서 개수와 내용을 출력"
   ]
  },
  {
   "cell_type": "code",
   "execution_count": null,
   "id": "58774613",
   "metadata": {},
   "outputs": [
    {
     "data": {
      "text/plain": [
       "{'question': '테슬라 창업자는 누구인가요?'}"
      ]
     },
     "execution_count": 63,
     "metadata": {},
     "output_type": "execute_result"
    }
   ],
   "source": [
    "from langchain_core.runnables import RunnablePassthrough\n",
    "from langchain_core.runnables import RunnableParallel\n",
    "\n",
    "#입력값을 그대로 반환하는 RunnablePassthrough를 병렬 실행 구조(RunnableParallel)로 감쌉니다\n",
    "\n",
    "runnable = RunnableParallel(\n",
    "    question=RunnablePassthrough()\n",
    ")\n",
    "\n",
    "runnable.invoke(\"테슬라 창업자는 누구인가요?\")\n",
    "\n",
    "#입력값(\"테슬라 창업자는 누구인가요?\")을 그대로 question 키로 반환"
   ]
  },
  {
   "cell_type": "code",
   "execution_count": null,
   "id": "d4a48ad8",
   "metadata": {},
   "outputs": [
    {
     "data": {
      "text/plain": [
       "{'question': '테슬라 창업자는 누구인가요?', 'word_count': 3}"
      ]
     },
     "execution_count": 68,
     "metadata": {},
     "output_type": "execute_result"
    }
   ],
   "source": [
    "from langchain_core.runnables import RunnableLambda\n",
    "\n",
    "def count_num_words(text):\n",
    "    return len(text.split())\n",
    "\n",
    "runnable = RunnableParallel( #병렬처리를 위함->빠른 성능\n",
    "    question=RunnablePassthrough(), #있는 그대로의 모습 #입력값을 question 키로 그대로 반환\n",
    "    word_count=RunnableLambda(count_num_words) #입력값을 함수로 가공 #입력값의 단어 수를 word_count 키로 반환\n",
    ")\n",
    "\n",
    "runnable.invoke(\"테슬라 창업자는 누구인가요?\")\n"
   ]
  },
  {
   "cell_type": "markdown",
   "id": "5a8a847b",
   "metadata": {},
   "source": [
    "## Prompt 템플릿 생성"
   ]
  },
  {
   "cell_type": "code",
   "execution_count": null,
   "id": "d73b5e6c",
   "metadata": {},
   "outputs": [
    {
     "name": "stdout",
     "output_type": "stream",
     "text": [
      "================================\u001b[1m Human Message \u001b[0m=================================\n",
      "\n",
      "\n",
      "Answer the question based only on the following context.\n",
      "Do not user any external knowledge.\n",
      "If the answer is not in the context, say \"I don't know.\"\n",
      "\n",
      "[Context]\n",
      "\u001b[33;1m\u001b[1;3m{context}\u001b[0m\n",
      "\n",
      "[Question]\n",
      "\u001b[33;1m\u001b[1;3m{question}\u001b[0m\n",
      "\n",
      "[Answer]\n",
      "\n"
     ]
    }
   ],
   "source": [
    "from langchain_core.prompts import ChatPromptTemplate\n",
    "\n",
    "template = \"\"\"\n",
    "Answer the question based only on the following context.\n",
    "Do not user any external knowledge.\n",
    "If the answer is not in the context, say \"I don't know.\"\n",
    "\n",
    "[Context]\n",
    "{context}\n",
    "\n",
    "[Question]\n",
    "{question}\n",
    "\n",
    "[Answer]\n",
    "\"\"\"\n",
    "\n",
    "prompt = ChatPromptTemplate.from_template(template)\n",
    "\n",
    "prompt.pretty_print() #프롬프트 템플릿의 내용을 보기 좋게 출력해주는 함수\n",
    "\n"
   ]
  },
  {
   "cell_type": "code",
   "execution_count": null,
   "id": "c6e3ebc0",
   "metadata": {},
   "outputs": [
    {
     "name": "stdout",
     "output_type": "stream",
     "text": [
      "('테슬라(Tesla, Inc.)는 텍사스주 오스틴에 본사를 둔 미국의 대표적인 전기차 제조업체입니다. 2003년 마틴 에버하드(CEO)와 '\n",
      " '마크 타페닝(CFO)에 의해 설립된 테슬라는 2004년 페이팔과 Zip2의 공동 창업자인 일론 머스크의 참여로 큰 전환점을 맞았습니다. '\n",
      " '머스크는 최대 주주이자 회장으로서 회사를 현재의 성공으로 이끌었습니다. 회사 이름은 유명한 물리학자이자 전기공학자인 니콜라 테슬라의 '\n",
      " '이름을 따서 지어졌습니다. 테슬라는 2010년 6월 나스닥에 상장되었습니다.\\n'\n",
      " '\\n'\n",
      " '테슬라(Tesla, Inc.)는 텍사스주 오스틴에 본사를 둔 미국의 대표적인 전기차 제조업체입니다. 2003년 마틴 에버하드(CEO)와 '\n",
      " '마크 타페닝(CFO)에 의해 설립된 테슬라는 2004년 페이팔과 Zip2의 공동 창업자인 일론 머스크의 참여로 큰 전환점을 맞았습니다. '\n",
      " '머스크는 최대 주주이자 회장으로서 회사를 현재의 성공으로 이끌었습니다. 회사 이름은 유명한 물리학자이자 전기공학자인 니콜라 테슬라의 '\n",
      " '이름을 따서 지어졌습니다. 테슬라는 2010년 6월 나스닥에 상장되었습니다.')\n"
     ]
    }
   ],
   "source": [
    "# 벡터 검색기 : 쿼리와 가장 유사한 문서 2개 반환\n",
    "retriever = vectorstore.as_retriever(\n",
    "    search_kwargs={\"k\":2}\n",
    ")\n",
    "\n",
    "# 문서 포맷터 함수 : 검색된 여러 docs의 page_content를 줄바꿈 2개로 이어 하나의 긴 문자열로 만듦듦\n",
    "def format_docs(docs):\n",
    "    return \"\\n\\n\".join([doc.page_content for doc in docs])\n",
    "\n",
    "# 체인 구성 : retriever의 결과를 format_docs에 넘기는 chain을 만듦\n",
    "retriever_chain = retriever | format_docs\n",
    "\n",
    "# 체인 실행 : 질문을 체인에 넣어서 실행\n",
    "response = retriever_chain.invoke(\"테슬라 창업자는 누구인가요?\")\n",
    "pprint(response) # pretty-print의 약자\n",
    "\n",
    "#이 전체 내용이 context에 들어가는 것임"
   ]
  },
  {
   "cell_type": "markdown",
   "id": "b9f33032",
   "metadata": {},
   "source": [
    "#### RAG Chain 연결"
   ]
  },
  {
   "cell_type": "code",
   "execution_count": null,
   "id": "dcb631e7",
   "metadata": {},
   "outputs": [
    {
     "name": "stdout",
     "output_type": "stream",
     "text": [
      "테슬라의 창업자는 마틴 에버하드와 마크 타페닝입니다.\n"
     ]
    }
   ],
   "source": [
    "from langchain_core.output_parsers import StrOutputParser\n",
    "from langchain_openai import ChatOpenAI\n",
    "\n",
    "\n",
    "llm = ChatOpenAI(\n",
    "    model = \"gpt-4o-mini\",\n",
    "    temperature = 0,\n",
    "    max_tokens = 100 # 최대 답변 토큰큰\n",
    "    \n",
    ")\n",
    "\n",
    "# LLM 체인 생성\n",
    "rag_chain = (\n",
    "    {\"context\": retriever_chain, \"question\": RunnablePassthrough()} # context에는 retriever_chain을 전달, question에는 RunnablePassthrough(입력값 그대로) 전달\n",
    "    | prompt # 위 두값을 prompt에 넣고\n",
    "    | llm # llm에 전달\n",
    "    | StrOutputParser() #llm의 응답을 stroutputparser 문자열로 변환환\n",
    ")\n",
    "\n",
    "# RAG 체인 실행\n",
    "response = rag_chain.invoke(\"테슬라 창업자는 누구인가요?\") #질문을 체인에 넣어서 실행행\n",
    "print(response)"
   ]
  },
  {
   "cell_type": "code",
   "execution_count": 74,
   "id": "99eacda7",
   "metadata": {},
   "outputs": [
    {
     "name": "stdout",
     "output_type": "stream",
     "text": [
      "Running on local URL:  http://127.0.0.1:7861\n",
      "\n",
      "To create a public link, set `share=True` in `launch()`.\n"
     ]
    },
    {
     "data": {
      "text/html": [
       "<div><iframe src=\"http://127.0.0.1:7861/\" width=\"100%\" height=\"500\" allow=\"autoplay; camera; microphone; clipboard-read; clipboard-write;\" frameborder=\"0\" allowfullscreen></iframe></div>"
      ],
      "text/plain": [
       "<IPython.core.display.HTML object>"
      ]
     },
     "metadata": {},
     "output_type": "display_data"
    },
    {
     "data": {
      "text/plain": []
     },
     "execution_count": 74,
     "metadata": {},
     "output_type": "execute_result"
    },
    {
     "name": "stderr",
     "output_type": "stream",
     "text": [
      "c:\\Users\\KOSALOVE\\AppData\\Local\\pypoetry\\Cache\\virtualenvs\\langchain-env-I6Y7WdhY-py3.11\\Lib\\site-packages\\gradio\\analytics.py:106: UserWarning: IMPORTANT: You are using gradio version 4.44.0, however version 4.44.1 is available, please upgrade. \n",
      "--------\n",
      "  warnings.warn(\n"
     ]
    }
   ],
   "source": [
    "import gradio as gr\n",
    "\n",
    "def answer_invoke(message, history):\n",
    "    response = rag_chain.invoke(message)\n",
    "    return response\n",
    "\n",
    "demo = gr.ChatInterface(fn=answer_invoke, title='QA Bot')\n",
    "\n",
    "demo.launch()"
   ]
  },
  {
   "cell_type": "code",
   "execution_count": 75,
   "id": "73651e85",
   "metadata": {},
   "outputs": [
    {
     "name": "stdout",
     "output_type": "stream",
     "text": [
      "Closing server running on port: 7861\n"
     ]
    }
   ],
   "source": [
    "demo.close()"
   ]
  },
  {
   "cell_type": "code",
   "execution_count": null,
   "id": "9624fcbb",
   "metadata": {},
   "outputs": [],
   "source": []
  }
 ],
 "metadata": {
  "kernelspec": {
   "display_name": "langchain-env-I6Y7WdhY-py3.11",
   "language": "python",
   "name": "python3"
  },
  "language_info": {
   "codemirror_mode": {
    "name": "ipython",
    "version": 3
   },
   "file_extension": ".py",
   "mimetype": "text/x-python",
   "name": "python",
   "nbconvert_exporter": "python",
   "pygments_lexer": "ipython3",
   "version": "3.11.9"
  }
 },
 "nbformat": 4,
 "nbformat_minor": 5
}
