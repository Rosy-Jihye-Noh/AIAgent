{
 "cells": [
  {
   "cell_type": "code",
   "execution_count": 1,
   "id": "65b65a3a",
   "metadata": {},
   "outputs": [],
   "source": [
    "from dotenv import load_dotenv\n",
    "import os\n",
    "from glob import glob\n",
    "\n",
    "from pprint import pprint\n",
    "import json"
   ]
  },
  {
   "cell_type": "markdown",
   "id": "914ab812",
   "metadata": {},
   "source": [
    "## 파일 불러오기"
   ]
  },
  {
   "cell_type": "markdown",
   "id": "76784299",
   "metadata": {},
   "source": [
    "## 1. PDF"
   ]
  },
  {
   "cell_type": "code",
   "execution_count": 2,
   "id": "6eeca7f3",
   "metadata": {},
   "outputs": [
    {
     "data": {
      "text/plain": [
       "15"
      ]
     },
     "execution_count": 2,
     "metadata": {},
     "output_type": "execute_result"
    }
   ],
   "source": [
    "from langchain_community.document_loaders import PyPDFLoader\n",
    "\n",
    "pdf_loader = PyPDFLoader('./data/transformer.pdf')\n",
    "pdf_docs = pdf_loader.load()\n",
    "\n",
    "len(pdf_docs)"
   ]
  },
  {
   "cell_type": "code",
   "execution_count": 3,
   "id": "4440f848",
   "metadata": {},
   "outputs": [
    {
     "data": {
      "text/plain": [
       "list"
      ]
     },
     "execution_count": 3,
     "metadata": {},
     "output_type": "execute_result"
    }
   ],
   "source": [
    "type(pdf_docs)"
   ]
  },
  {
   "cell_type": "code",
   "execution_count": 4,
   "id": "3e8c0570",
   "metadata": {},
   "outputs": [
    {
     "data": {
      "text/plain": [
       "Document(metadata={'source': './data/transformer.pdf', 'page': 0}, page_content='Provided proper attribution is provided, Google hereby grants permission to\\nreproduce the tables and figures in this paper solely for use in journalistic or\\nscholarly works.\\nAttention Is All You Need\\nAshish Vaswani∗\\nGoogle Brain\\navaswani@google.comNoam Shazeer∗\\nGoogle Brain\\nnoam@google.comNiki Parmar∗\\nGoogle Research\\nnikip@google.comJakob Uszkoreit∗\\nGoogle Research\\nusz@google.com\\nLlion Jones∗\\nGoogle Research\\nllion@google.comAidan N. Gomez∗ †\\nUniversity of Toronto\\naidan@cs.toronto.eduŁukasz Kaiser∗\\nGoogle Brain\\nlukaszkaiser@google.com\\nIllia Polosukhin∗ ‡\\nillia.polosukhin@gmail.com\\nAbstract\\nThe dominant sequence transduction models are based on complex recurrent or\\nconvolutional neural networks that include an encoder and a decoder. The best\\nperforming models also connect the encoder and decoder through an attention\\nmechanism. We propose a new simple network architecture, the Transformer,\\nbased solely on attention mechanisms, dispensing with recurrence and convolutions\\nentirely. Experiments on two machine translation tasks show these models to\\nbe superior in quality while being more parallelizable and requiring significantly\\nless time to train. Our model achieves 28.4 BLEU on the WMT 2014 English-\\nto-German translation task, improving over the existing best results, including\\nensembles, by over 2 BLEU. On the WMT 2014 English-to-French translation task,\\nour model establishes a new single-model state-of-the-art BLEU score of 41.8 after\\ntraining for 3.5 days on eight GPUs, a small fraction of the training costs of the\\nbest models from the literature. We show that the Transformer generalizes well to\\nother tasks by applying it successfully to English constituency parsing both with\\nlarge and limited training data.\\n∗Equal contribution. Listing order is random. Jakob proposed replacing RNNs with self-attention and started\\nthe effort to evaluate this idea. Ashish, with Illia, designed and implemented the first Transformer models and\\nhas been crucially involved in every aspect of this work. Noam proposed scaled dot-product attention, multi-head\\nattention and the parameter-free position representation and became the other person involved in nearly every\\ndetail. Niki designed, implemented, tuned and evaluated countless model variants in our original codebase and\\ntensor2tensor. Llion also experimented with novel model variants, was responsible for our initial codebase, and\\nefficient inference and visualizations. Lukasz and Aidan spent countless long days designing various parts of and\\nimplementing tensor2tensor, replacing our earlier codebase, greatly improving results and massively accelerating\\nour research.\\n†Work performed while at Google Brain.\\n‡Work performed while at Google Research.\\n31st Conference on Neural Information Processing Systems (NIPS 2017), Long Beach, CA, USA.arXiv:1706.03762v7  [cs.CL]  2 Aug 2023')"
      ]
     },
     "execution_count": 4,
     "metadata": {},
     "output_type": "execute_result"
    }
   ],
   "source": [
    "pdf_docs[0]"
   ]
  },
  {
   "cell_type": "code",
   "execution_count": 5,
   "id": "c8e1976c",
   "metadata": {},
   "outputs": [
    {
     "name": "stdout",
     "output_type": "stream",
     "text": [
      "Provided proper attribution is provided, Google hereby grants permission to\n",
      "reproduce the tables and figures in this paper solely for use in journalistic or\n",
      "scholarly works.\n",
      "Attention Is All You Need\n",
      "Ashish Vaswani∗\n",
      "Google Brain\n",
      "avaswani@google.comNoam Shazeer∗\n",
      "Google Brain\n",
      "noam@google.comNiki Parmar∗\n",
      "Google Research\n",
      "nikip@google.comJakob Uszkoreit∗\n",
      "Google Research\n",
      "usz@google.com\n",
      "Llion Jones∗\n",
      "Google Research\n",
      "llion@google.comAidan N. Gomez∗ †\n",
      "University of Toronto\n",
      "aidan@cs.toronto.eduŁukasz Kaiser∗\n",
      "Google Brain\n",
      "lukaszkaiser@google.com\n",
      "Illia Polosukhin∗ ‡\n",
      "illia.polosukhin@gmail.com\n",
      "Abstract\n",
      "The dominant sequence transduction models are based on complex recurrent or\n",
      "convolutional neural networks that include an encoder and a decoder. The best\n",
      "performing models also connect the encoder and decoder through an attention\n",
      "mechanism. We propose a new simple network architecture, the Transformer,\n",
      "based solely on attention mechanisms, dispensing with recurrence and convolutions\n",
      "entirely. Experiments on two machine translation tasks show these models to\n",
      "be superior in quality while being more parallelizable and requiring significantly\n",
      "less time to train. Our model achieves 28.4 BLEU on the WMT 2014 English-\n",
      "to-German translation task, improving over the existing best results, including\n",
      "ensembles, by over 2 BLEU. On the WMT 2014 English-to-French translation task,\n",
      "our model establishes a new single-model state-of-the-art BLEU score of 41.8 after\n",
      "training for 3.5 days on eight GPUs, a small fraction of the training costs of the\n",
      "best models from the literature. We show that the Transformer generalizes well to\n",
      "other tasks by applying it successfully to English constituency parsing both with\n",
      "large and limited training data.\n",
      "∗Equal contribution. Listing order is random. Jakob proposed replacing RNNs with self-attention and started\n",
      "the effort to evaluate this idea. Ashish, with Illia, designed and implemented the first Transformer models and\n",
      "has been crucially involved in every aspect of this work. Noam proposed scaled dot-product attention, multi-head\n",
      "attention and the parameter-free position representation and became the other person involved in nearly every\n",
      "detail. Niki designed, implemented, tuned and evaluated countless model variants in our original codebase and\n",
      "tensor2tensor. Llion also experimented with novel model variants, was responsible for our initial codebase, and\n",
      "efficient inference and visualizations. Lukasz and Aidan spent countless long days designing various parts of and\n",
      "implementing tensor2tensor, replacing our earlier codebase, greatly improving results and massively accelerating\n",
      "our research.\n",
      "†Work performed while at Google Brain.\n",
      "‡Work performed while at Google Research.\n",
      "31st Conference on Neural Information Processing Systems (NIPS 2017), Long Beach, CA, USA.arXiv:1706.03762v7  [cs.CL]  2 Aug 2023\n"
     ]
    }
   ],
   "source": [
    "print(pdf_docs[0].page_content)"
   ]
  },
  {
   "cell_type": "code",
   "execution_count": 6,
   "id": "85eb9ee3",
   "metadata": {},
   "outputs": [
    {
     "name": "stdout",
     "output_type": "stream",
     "text": [
      "{'source': './data/transformer.pdf', 'page': 0}\n"
     ]
    }
   ],
   "source": [
    "print(pdf_docs[0].metadata)"
   ]
  },
  {
   "cell_type": "markdown",
   "id": "d04fedc4",
   "metadata": {},
   "source": [
    "#### 2. 웹 문서"
   ]
  },
  {
   "cell_type": "code",
   "execution_count": 7,
   "id": "37f7d726",
   "metadata": {},
   "outputs": [
    {
     "name": "stderr",
     "output_type": "stream",
     "text": [
      "USER_AGENT environment variable not set, consider setting it to identify your requests.\n"
     ]
    },
    {
     "data": {
      "text/plain": [
       "2"
      ]
     },
     "execution_count": 7,
     "metadata": {},
     "output_type": "execute_result"
    }
   ],
   "source": [
    "from langchain_community.document_loaders import WebBaseLoader\n",
    "\n",
    "web_loader = WebBaseLoader([\"https://python.langchain.com\",\"https://js.langchain.com\"])\n",
    "\n",
    "web_docs = web_loader.load() #웹 문서를 읽어와서 리스트 형태로 web_docs에 저장\n",
    "\n",
    "len(web_docs) #가져온 web_docs의 개수(즉, 리스트의 길이)를 반환"
   ]
  },
  {
   "cell_type": "code",
   "execution_count": 9,
   "id": "8522d85c",
   "metadata": {},
   "outputs": [
    {
     "name": "stdout",
     "output_type": "stream",
     "text": [
      "\n",
      "\n",
      "\n",
      "\n",
      "\n",
      "Introduction | 🦜️🔗 LangChain\n",
      "\n",
      "\n",
      "\n",
      "\n",
      "\n",
      "\n",
      "Skip to main contentWe are growing and hiring for multiple roles for LangChain, LangGraph and LangSmith.  Join our team!IntegrationsAPI ReferenceMoreContributingPeopleError referenceLangSmithLangGraphLangChain HubLangChain JS/TSv0.3v0.3v0.2v0.1💬SearchIntroductionTutorialsBuild a Question Answering application over a Graph DatabaseTutorialsBuild a simple LLM application with chat models and prompt templatesBuild a ChatbotBuild a Retrieval Augmented Generation (RAG) App: Part 2Build an Extraction ChainBuild an AgentTaggingBuild a Retrieval Augmented Generation (RAG) App: Part 1Build a semantic search engineBuild a Question/Answering system over SQL dataSummarize TextHow-to guidesHow-to guidesHow to use tools in a chainHow to use a vectorstore as a retrieverHow to add memory to chatbotsHow to use example selectorsHow to add a semantic layer over graph databaseHow to invoke runnables in parallelHow to stream chat model responsesHow to add default invocation args to a RunnableHow to add retrieval to chatbotsHow to use few shot examples in chat modelsHow to do tool/function callingHow to install LangChain packagesHow to add examples to the prompt for query analysisHow to use few shot examplesHow to run custom functionsHow to use output parsers to parse an LLM response into structured formatHow to handle cases where no queries are generatedHow to route between sub-chainsHow to return structured data from a modelHow to summarize text through parallelizationHow to summarize text through iterative refinementHow to summarize text in a single LLM callHow to use toolkitsHow to add ad-hoc tool calling capability to LLMs and Chat ModelsBuild an Agent with AgentExecutor (Legacy)How to construct knowledge graphsHow to partially format prompt templatesHow to handle multiple queries when doing query analysisHow to use built-in tools and toolkitsHow to pass through arguments from one step to the nextHow to compose prompts togetherHow to handle multiple retrievers when doing query analysisHow to add values to a chain's stateHow to construct filters for query analysisHow to configure runtime chain internalsHow deal with high cardinality categoricals when doing query analysisCustom Document LoaderHow to use the MultiQueryRetrieverHow to add scores to retriever resultsCachingHow to use callbacks in async environmentsHow to attach callbacks to a runnableHow to propagate callbacks  constructorHow to dispatch custom callback eventsHow to pass callbacks in at runtimeHow to split by characterHow to cache chat model responsesHow to handle rate limitsHow to init any model in one lineHow to track token usage in ChatModelsHow to add tools to chatbotsHow to split codeHow to do retrieval with contextual compressionHow to convert Runnables to ToolsHow to create custom callback handlersHow to create a custom chat model classCustom EmbeddingsHow to create a custom LLM classCustom RetrieverHow to create toolsHow to debug your LLM appsHow to load CSVsHow to load documents from a directoryHow to load HTMLHow to load JSONHow to load MarkdownHow to load Microsoft Office filesHow to load PDFsHow to load web pagesHow to create a dynamic (self-constructing) chainText embedding modelsHow to combine results from multiple retrieversHow to select examples from a LangSmith datasetHow to select examples by lengthHow to select examples by maximal marginal relevance (MMR)How to select examples by n-gram overlapHow to select examples by similarityHow to use reference examples when doing extractionHow to handle long text when doing extractionHow to use prompting alone (no tool calling) to do extractionHow to add fallbacks to a runnableHow to filter messagesHybrid SearchHow to use the LangChain indexing APIHow to inspect runnablesLangChain Expression Language CheatsheetHow to cache LLM responsesHow to track token usage for LLMsRun models locallyHow to get log probabilitiesHow to reorder retrieved results to mitigate the \"lost in the middle\" effectHow to split Markdown by HeadersHow to merge consecutive messages of the same typeHow to add message historyHow to migrate from legacy LangChain agents to LangGraphHow to retrieve using multiple vectors per documentHow to pass multimodal data to modelsHow to use multimodal promptsHow to create a custom Output ParserHow to use the output-fixing parserHow to parse JSON outputHow to retry when a parsing error occursHow to parse text from message objectsHow to parse XML outputHow to parse YAML outputHow to use the Parent Document RetrieverHow to use LangChain with different Pydantic versionsHow to add chat historyHow to get a RAG application to add citationsHow to do per-user retrievalHow to get your RAG application to return sourcesHow to stream results from your RAG applicationHow to split JSON dataHow to recursively split text by charactersResponse metadataHow to pass runtime secrets to runnablesHow to do \"self-querying\" retrievalHow to split text based on semantic similarityHow to chain runnablesHow to save and load LangChain objectsHow to split text by tokensHow to split HTMLHow to do question answering over CSVsHow to deal with large databases when doing SQL question-answeringHow to better prompt when doing SQL question-answeringHow to do query validation as part of SQL question-answeringHow to stream runnablesHow to stream responses from an LLMHow to use a time-weighted vector store retrieverHow to return artifacts from a toolHow to use chat models to call toolsHow to disable parallel tool callingHow to force models to call a toolHow to access the RunnableConfig from a toolHow to pass tool outputs to chat modelsHow to pass run time values to toolsHow to stream events from a toolHow to stream tool callsHow to convert tools to OpenAI FunctionsHow to handle tool errorsHow to use few-shot prompting with tool callingHow to add a human-in-the-loop for toolsHow to bind model-specific toolsHow to trim messagesHow to create and query vector storesConceptual guideAgentsArchitectureAsync programming with langchainCallbacksChat historyChat modelsDocument loadersEmbedding modelsEvaluationExample selectorsFew-shot promptingConceptual guideKey-value storesLangChain Expression Language (LCEL)MessagesMultimodalityOutput parsersPrompt TemplatesRetrieval augmented generation (RAG)RetrievalRetrieversRunnable interfaceStreamingStructured outputsTestingString-in, string-out llmsText splittersTokensTool callingToolsTracingVector storesWhy LangChain?Ecosystem🦜🛠️ LangSmith🦜🕸️ LangGraphVersionsv0.3v0.2Pydantic compatibilityMigrating from v0.0 chainsHow to migrate from v0.0 chainsMigrating from ConstitutionalChainMigrating from ConversationalChainMigrating from ConversationalRetrievalChainMigrating from LLMChainMigrating from LLMMathChainMigrating from LLMRouterChainMigrating from MapReduceDocumentsChainMigrating from MapRerankDocumentsChainMigrating from MultiPromptChainMigrating from RefineDocumentsChainMigrating from RetrievalQAMigrating from StuffDocumentsChainUpgrading to LangGraph memoryHow to migrate to LangGraph memoryHow to use BaseChatMessageHistory with LangGraphMigrating off ConversationBufferMemory or ConversationStringBufferMemoryMigrating off ConversationBufferWindowMemory or ConversationTokenBufferMemoryMigrating off ConversationSummaryMemory or ConversationSummaryBufferMemoryA Long-Term Memory AgentRelease policySecurity PolicyIntroductionOn this pageIntroduction\n",
      "LangChain is a framework for developing applications powered by large language models (LLMs).\n",
      "LangChain simplifies every stage of the LLM application lifecycle:\n",
      "\n",
      "Development: Build your applications using LangChain's open-source components and third-party integrations.\n",
      "Use LangGraph to build stateful agents with first-class streaming and human-in-the-loop support.\n",
      "Productionization: Use LangSmith to inspect, monitor and evaluate your applications, so that you can continuously optimize and deploy with confidence.\n",
      "Deployment: Turn your LangGraph applications into production-ready APIs and Assistants with LangGraph Platform.\n",
      "\n",
      "\n",
      "\n",
      "LangChain implements a standard interface for large language models and related\n",
      "technologies, such as embedding models and vector stores, and integrates with\n",
      "hundreds of providers. See the integrations page for\n",
      "more.\n",
      "\n",
      "Select chat model:Google Gemini▾OpenAIAnthropicAzureGoogle GeminiGoogle VertexAWSGroqCohereNVIDIAFireworks AIMistral AITogether AIIBM watsonxDatabricksxAIPerplexitypip install -qU \"langchain[google-genai]\"import getpassimport osif not os.environ.get(\"GOOGLE_API_KEY\"):  os.environ[\"GOOGLE_API_KEY\"] = getpass.getpass(\"Enter API key for Google Gemini: \")from langchain.chat_models import init_chat_modelmodel = init_chat_model(\"gemini-2.0-flash\", model_provider=\"google_genai\")\n",
      "model.invoke(\"Hello, world!\")\n",
      "noteThese docs focus on the Python LangChain library. Head here for docs on the JavaScript LangChain library.\n",
      "Architecture​\n",
      "The LangChain framework consists of multiple open-source libraries. Read more in the\n",
      "Architecture page.\n",
      "\n",
      "langchain-core: Base abstractions for chat models and other components.\n",
      "Integration packages (e.g. langchain-openai, langchain-anthropic, etc.): Important integrations have been split into lightweight packages that are co-maintained by the LangChain team and the integration developers.\n",
      "langchain: Chains, agents, and retrieval strategies that make up an application's cognitive architecture.\n",
      "langchain-community: Third-party integrations that are community maintained.\n",
      "langgraph: Orchestration framework for combining LangChain components into production-ready applications with persistence, streaming, and other key features. See LangGraph documentation.\n",
      "\n",
      "Guides​\n",
      "Tutorials​\n",
      "If you're looking to build something specific or are more of a hands-on learner, check out our tutorials section.\n",
      "This is the best place to get started.\n",
      "These are the best ones to get started with:\n",
      "\n",
      "Build a Simple LLM Application\n",
      "Build a Chatbot\n",
      "Build an Agent\n",
      "Introduction to LangGraph\n",
      "\n",
      "Explore the full list of LangChain tutorials here, and check out other LangGraph tutorials here. To learn more about LangGraph, check out our first LangChain Academy course, Introduction to LangGraph, available here.\n",
      "How-to guides​\n",
      "Here you’ll find short answers to “How do I….?” types of questions.\n",
      "These how-to guides don’t cover topics in depth – you’ll find that material in the Tutorials and the API Reference.\n",
      "However, these guides will help you quickly accomplish common tasks using chat models,\n",
      "vector stores, and other common LangChain components.\n",
      "Check out LangGraph-specific how-tos here.\n",
      "Conceptual guide​\n",
      "Introductions to all the key parts of LangChain you’ll need to know! Here you'll find high level explanations of all LangChain concepts.\n",
      "For a deeper dive into LangGraph concepts, check out this page.\n",
      "Integrations​\n",
      "LangChain is part of a rich ecosystem of tools that integrate with our framework and build on top of it.\n",
      "If you're looking to get up and running quickly with chat models, vector stores,\n",
      "or other LangChain components from a specific provider, check out our growing list of integrations.\n",
      "API reference​\n",
      "Head to the reference section for full documentation of all classes and methods in the LangChain Python packages.\n",
      "Ecosystem​\n",
      "🦜🛠️ LangSmith​\n",
      "Trace and evaluate your language model applications and intelligent agents to help you move from prototype to production.\n",
      "🦜🕸️ LangGraph​\n",
      "Build stateful, multi-actor applications with LLMs. Integrates smoothly with LangChain, but can be used without it. LangGraph powers production-grade agents, trusted by Linkedin, Uber, Klarna, GitLab, and many more.\n",
      "Additional resources​\n",
      "Versions​\n",
      "See what changed in v0.3, learn how to migrate legacy code, read up on our versioning policies, and more.\n",
      "Security​\n",
      "Read up on security best practices to make sure you're developing safely with LangChain.\n",
      "Contributing​\n",
      "Check out the developer's guide for guidelines on contributing and help getting your dev environment set up.Edit this pageWas this page helpful?NextTutorialsArchitectureGuidesTutorialsHow-to guidesConceptual guideIntegrationsAPI referenceEcosystem🦜🛠️ LangSmith🦜🕸️ LangGraphAdditional resourcesVersionsSecurityContributingCommunityTwitterGitHubOrganizationPythonJS/TSMoreHomepageBlogYouTubeCopyright © 2025 LangChain, Inc.\n",
      "\n",
      "\n"
     ]
    }
   ],
   "source": [
    "print(web_docs[0].page_content)"
   ]
  },
  {
   "cell_type": "code",
   "execution_count": 8,
   "id": "8fd0b716",
   "metadata": {},
   "outputs": [
    {
     "name": "stdout",
     "output_type": "stream",
     "text": [
      "{'source': 'https://python.langchain.com', 'title': 'Introduction | 🦜️🔗 LangChain', 'description': 'LangChain is a framework for developing applications powered by large language models (LLMs).', 'language': 'en'}\n"
     ]
    }
   ],
   "source": [
    "print(web_docs[0].metadata)"
   ]
  },
  {
   "cell_type": "markdown",
   "id": "50cdabb1",
   "metadata": {},
   "source": [
    "### 3. JSON 파일"
   ]
  },
  {
   "cell_type": "code",
   "execution_count": 9,
   "id": "f7736d88",
   "metadata": {},
   "outputs": [
    {
     "name": "stdout",
     "output_type": "stream",
     "text": [
      "문서의 수: 5\n",
      "--------------------------------------------------\n",
      "첫 번째 문서의 내용: 안녕하세요 여러분, 오늘 회의 시간 확인차 연락드립니다.\n",
      "--------------------------------------------------\n",
      "첫 번째 문서의 메타데이터: {'source': 'D:\\\\edu_data\\\\AI_prompt\\\\workspace\\\\ai_agent_work2\\\\langchain_env\\\\data\\\\kakao_chat.json', 'seq_num': 1}\n"
     ]
    }
   ],
   "source": [
    "from langchain_community.document_loaders import JSONLoader\n",
    "\n",
    "json_loader = JSONLoader(\n",
    "    file_path=\"./data/kakao_chat.json\",\n",
    "    jq_schema=\".messages[].content\", #타겟 # jq 문법: messages 배열의 각 content만 추출\n",
    "    text_content=True # content를 텍스트(문자열)로 저장\n",
    ")\n",
    "\n",
    "json_docs = json_loader.load() # 설정대로 파일을 읽어서 문서 리스트로 만듦\n",
    "\n",
    "print(\"문서의 수:\", len(json_docs))\n",
    "print('-'*50)\n",
    "print(\"첫 번째 문서의 내용:\", json_docs[0].page_content)\n",
    "print('-'*50)\n",
    "print(\"첫 번째 문서의 메타데이터:\", json_docs[0].metadata)"
   ]
  },
  {
   "cell_type": "code",
   "execution_count": null,
   "id": "a2b56c5c",
   "metadata": {},
   "outputs": [
    {
     "name": "stdout",
     "output_type": "stream",
     "text": [
      "문서의 수: 5\n",
      "--------------------------------------------------\n",
      "첫 번째 문서의 내용: {\"sender\": \"\\uae40\\ucca0\\uc218\", \"timestamp\": \"2023-09-15 09:30:22\", \"content\": \"\\uc548\\ub155\\ud558\\uc138\\uc694 \\uc5ec\\ub7ec\\ubd84, \\uc624\\ub298 \\ud68c\\uc758 \\uc2dc\\uac04 \\ud655\\uc778\\ucc28 \\uc5f0\\ub77d\\ub4dc\\ub9bd\\ub2c8\\ub2e4.\"}\n",
      "--------------------------------------------------\n",
      "첫 번째 문서의 메타데이터: {'source': 'D:\\\\edu_data\\\\AI_prompt\\\\workspace\\\\ai_agent_work2\\\\langchain_env\\\\data\\\\kakao_chat.json', 'seq_num': 1}\n"
     ]
    }
   ],
   "source": [
    "from langchain_community.document_loaders import JSONLoader\n",
    "\n",
    "json_loader = JSONLoader(\n",
    "    file_path=\"./data/kakao_chat.json\", \n",
    "    jq_schema=\".messages[]\", # jq 문법: messages 배열의 각 전체 객체 추출\n",
    "    text_content=False, # content를 JSON 문자열로 저장\n",
    ")\n",
    "\n",
    "json_docs = json_loader.load() # 설정대로 파일을 읽어서 문서 리스트로 만듦\n",
    "\n",
    "print(\"문서의 수:\", len(json_docs))\n",
    "print('-'*50)\n",
    "print(\"첫 번째 문서의 내용:\", json_docs[0].page_content) # 첫 번째 메시지의 전체 JSON 문자열 출력\n",
    "print('-'*50) \n",
    "print(\"첫 번째 문서의 메타데이터:\", json_docs[0].metadata)"
   ]
  },
  {
   "cell_type": "code",
   "execution_count": 16,
   "id": "f3b4d5f9",
   "metadata": {},
   "outputs": [
    {
     "ename": "JSONDecodeError",
     "evalue": "Expecting value: line 1 column 1 (char 0)",
     "output_type": "error",
     "traceback": [
      "\u001b[1;31m---------------------------------------------------------------------------\u001b[0m",
      "\u001b[1;31mJSONDecodeError\u001b[0m                           Traceback (most recent call last)",
      "Cell \u001b[1;32mIn[16], line 8\u001b[0m\n\u001b[0;32m      5\u001b[0m decoded_json_docs \u001b[38;5;241m=\u001b[39m []\n\u001b[0;32m      6\u001b[0m \u001b[38;5;28;01mfor\u001b[39;00m doc \u001b[38;5;129;01min\u001b[39;00m json_docs:\n\u001b[1;32m----> 8\u001b[0m     decoded_data \u001b[38;5;241m=\u001b[39m \u001b[43mjson\u001b[49m\u001b[38;5;241;43m.\u001b[39;49m\u001b[43mloads\u001b[49m\u001b[43m(\u001b[49m\u001b[43mdoc\u001b[49m\u001b[38;5;241;43m.\u001b[39;49m\u001b[43mpage_content\u001b[49m\u001b[43m)\u001b[49m \u001b[38;5;66;03m# JSON 문자열 → 파이썬 dict로 변환\u001b[39;00m\n\u001b[0;32m      9\u001b[0m     \u001b[38;5;66;03m#가공 없이 그대로 쓸 거라면, 이 과정 없이 바로 doc.page_content를 써도 됨됨\u001b[39;00m\n\u001b[0;32m     10\u001b[0m     \n\u001b[0;32m     11\u001b[0m     \u001b[38;5;66;03m# (방법1) 딕셔너리+메타데이터로 저장\u001b[39;00m\n\u001b[1;32m   (...)\u001b[0m\n\u001b[0;32m     18\u001b[0m     \n\u001b[0;32m     19\u001b[0m     \u001b[38;5;66;03m# (방법2)  Document 객체로 저장\u001b[39;00m\n\u001b[0;32m     20\u001b[0m     document_obj \u001b[38;5;241m=\u001b[39m Document(\n\u001b[0;32m     21\u001b[0m         page_content\u001b[38;5;241m=\u001b[39mjson\u001b[38;5;241m.\u001b[39mdumps(decoded_data, ensure_ascii\u001b[38;5;241m=\u001b[39m\u001b[38;5;28;01mFalse\u001b[39;00m),  \u001b[38;5;66;03m# dict를 다시 JSON 문자열로\u001b[39;00m\n\u001b[0;32m     22\u001b[0m         metadata\u001b[38;5;241m=\u001b[39mdoc\u001b[38;5;241m.\u001b[39mmetadata)\n",
      "File \u001b[1;32m~\\AppData\\Local\\Programs\\Python\\Python311\\Lib\\json\\__init__.py:346\u001b[0m, in \u001b[0;36mloads\u001b[1;34m(s, cls, object_hook, parse_float, parse_int, parse_constant, object_pairs_hook, **kw)\u001b[0m\n\u001b[0;32m    341\u001b[0m     s \u001b[38;5;241m=\u001b[39m s\u001b[38;5;241m.\u001b[39mdecode(detect_encoding(s), \u001b[38;5;124m'\u001b[39m\u001b[38;5;124msurrogatepass\u001b[39m\u001b[38;5;124m'\u001b[39m)\n\u001b[0;32m    343\u001b[0m \u001b[38;5;28;01mif\u001b[39;00m (\u001b[38;5;28mcls\u001b[39m \u001b[38;5;129;01mis\u001b[39;00m \u001b[38;5;28;01mNone\u001b[39;00m \u001b[38;5;129;01mand\u001b[39;00m object_hook \u001b[38;5;129;01mis\u001b[39;00m \u001b[38;5;28;01mNone\u001b[39;00m \u001b[38;5;129;01mand\u001b[39;00m\n\u001b[0;32m    344\u001b[0m         parse_int \u001b[38;5;129;01mis\u001b[39;00m \u001b[38;5;28;01mNone\u001b[39;00m \u001b[38;5;129;01mand\u001b[39;00m parse_float \u001b[38;5;129;01mis\u001b[39;00m \u001b[38;5;28;01mNone\u001b[39;00m \u001b[38;5;129;01mand\u001b[39;00m\n\u001b[0;32m    345\u001b[0m         parse_constant \u001b[38;5;129;01mis\u001b[39;00m \u001b[38;5;28;01mNone\u001b[39;00m \u001b[38;5;129;01mand\u001b[39;00m object_pairs_hook \u001b[38;5;129;01mis\u001b[39;00m \u001b[38;5;28;01mNone\u001b[39;00m \u001b[38;5;129;01mand\u001b[39;00m \u001b[38;5;129;01mnot\u001b[39;00m kw):\n\u001b[1;32m--> 346\u001b[0m     \u001b[38;5;28;01mreturn\u001b[39;00m \u001b[43m_default_decoder\u001b[49m\u001b[38;5;241;43m.\u001b[39;49m\u001b[43mdecode\u001b[49m\u001b[43m(\u001b[49m\u001b[43ms\u001b[49m\u001b[43m)\u001b[49m\n\u001b[0;32m    347\u001b[0m \u001b[38;5;28;01mif\u001b[39;00m \u001b[38;5;28mcls\u001b[39m \u001b[38;5;129;01mis\u001b[39;00m \u001b[38;5;28;01mNone\u001b[39;00m:\n\u001b[0;32m    348\u001b[0m     \u001b[38;5;28mcls\u001b[39m \u001b[38;5;241m=\u001b[39m JSONDecoder\n",
      "File \u001b[1;32m~\\AppData\\Local\\Programs\\Python\\Python311\\Lib\\json\\decoder.py:337\u001b[0m, in \u001b[0;36mJSONDecoder.decode\u001b[1;34m(self, s, _w)\u001b[0m\n\u001b[0;32m    332\u001b[0m \u001b[38;5;28;01mdef\u001b[39;00m\u001b[38;5;250m \u001b[39m\u001b[38;5;21mdecode\u001b[39m(\u001b[38;5;28mself\u001b[39m, s, _w\u001b[38;5;241m=\u001b[39mWHITESPACE\u001b[38;5;241m.\u001b[39mmatch):\n\u001b[0;32m    333\u001b[0m \u001b[38;5;250m    \u001b[39m\u001b[38;5;124;03m\"\"\"Return the Python representation of ``s`` (a ``str`` instance\u001b[39;00m\n\u001b[0;32m    334\u001b[0m \u001b[38;5;124;03m    containing a JSON document).\u001b[39;00m\n\u001b[0;32m    335\u001b[0m \n\u001b[0;32m    336\u001b[0m \u001b[38;5;124;03m    \"\"\"\u001b[39;00m\n\u001b[1;32m--> 337\u001b[0m     obj, end \u001b[38;5;241m=\u001b[39m \u001b[38;5;28;43mself\u001b[39;49m\u001b[38;5;241;43m.\u001b[39;49m\u001b[43mraw_decode\u001b[49m\u001b[43m(\u001b[49m\u001b[43ms\u001b[49m\u001b[43m,\u001b[49m\u001b[43m \u001b[49m\u001b[43midx\u001b[49m\u001b[38;5;241;43m=\u001b[39;49m\u001b[43m_w\u001b[49m\u001b[43m(\u001b[49m\u001b[43ms\u001b[49m\u001b[43m,\u001b[49m\u001b[43m \u001b[49m\u001b[38;5;241;43m0\u001b[39;49m\u001b[43m)\u001b[49m\u001b[38;5;241;43m.\u001b[39;49m\u001b[43mend\u001b[49m\u001b[43m(\u001b[49m\u001b[43m)\u001b[49m\u001b[43m)\u001b[49m\n\u001b[0;32m    338\u001b[0m     end \u001b[38;5;241m=\u001b[39m _w(s, end)\u001b[38;5;241m.\u001b[39mend()\n\u001b[0;32m    339\u001b[0m     \u001b[38;5;28;01mif\u001b[39;00m end \u001b[38;5;241m!=\u001b[39m \u001b[38;5;28mlen\u001b[39m(s):\n",
      "File \u001b[1;32m~\\AppData\\Local\\Programs\\Python\\Python311\\Lib\\json\\decoder.py:355\u001b[0m, in \u001b[0;36mJSONDecoder.raw_decode\u001b[1;34m(self, s, idx)\u001b[0m\n\u001b[0;32m    353\u001b[0m     obj, end \u001b[38;5;241m=\u001b[39m \u001b[38;5;28mself\u001b[39m\u001b[38;5;241m.\u001b[39mscan_once(s, idx)\n\u001b[0;32m    354\u001b[0m \u001b[38;5;28;01mexcept\u001b[39;00m \u001b[38;5;167;01mStopIteration\u001b[39;00m \u001b[38;5;28;01mas\u001b[39;00m err:\n\u001b[1;32m--> 355\u001b[0m     \u001b[38;5;28;01mraise\u001b[39;00m JSONDecodeError(\u001b[38;5;124m\"\u001b[39m\u001b[38;5;124mExpecting value\u001b[39m\u001b[38;5;124m\"\u001b[39m, s, err\u001b[38;5;241m.\u001b[39mvalue) \u001b[38;5;28;01mfrom\u001b[39;00m\u001b[38;5;250m \u001b[39m\u001b[38;5;28;01mNone\u001b[39;00m\n\u001b[0;32m    356\u001b[0m \u001b[38;5;28;01mreturn\u001b[39;00m obj, end\n",
      "\u001b[1;31mJSONDecodeError\u001b[0m: Expecting value: line 1 column 1 (char 0)"
     ]
    }
   ],
   "source": [
    "from langchain_core.documents import Document\n",
    "\n",
    "# JSON 문자열을 파싱해서 LangChain의 Document 객체로 다시 만드는 과정\n",
    "\n",
    "decoded_json_docs = []\n",
    "for doc in json_docs:\n",
    "    \n",
    "    decoded_data = json.loads(doc.page_content) # JSON 문자열 → 파이썬 dict로 변환\n",
    "    #가공 없이 그대로 쓸 거라면, 이 과정 없이 바로 doc.page_content를 써도 됨됨\n",
    "    \n",
    "    # (방법1) 딕셔너리+메타데이터로 저장\n",
    "    # decoded_json_docs.append(\n",
    "    #     {\n",
    "    #         \"page_content\": json.dumps(decoded_data, ensure_ascii=False), #dict를 다시 JSON 문자열로 \n",
    "    #         \"metadata\": doc.metadata\n",
    "    #     }\n",
    "    # )\n",
    "    \n",
    "    # (방법2)  Document 객체로 저장\n",
    "    document_obj = Document(\n",
    "        page_content=json.dumps(decoded_data, ensure_ascii=False),  # dict를 다시 JSON 문자열로\n",
    "        metadata=doc.metadata)\n",
    "    \n",
    "    decoded_json_docs.append(document_obj)\n",
    "    \n",
    "print(\"문서의 수:\", len(decoded_json_docs))\n",
    "print('-'*50)\n",
    "#print(\"첫 번째 문서의 내용:\", decoded_json_docs[0]['page_content'])\n",
    "print(\"첫 번째 문서의 내용:\", decoded_json_docs[0].page_content)\n",
    "print('-'*50) \n",
    "#print(\"첫 번째 문서의 메타데이터:\", decoded_json_docs[0]['metadata'])\n",
    "print(\"첫 번째 문서의 메타데이터:\", decoded_json_docs[0].metadata)"
   ]
  },
  {
   "cell_type": "code",
   "execution_count": 19,
   "id": "ec76c98f",
   "metadata": {},
   "outputs": [
    {
     "name": "stdout",
     "output_type": "stream",
     "text": [
      "문서의 수: 5\n",
      "--------------------------------------------------\n",
      "첫 번째 문서의 내용: 안녕하세요 여러분, 오늘 회의 시간 확인차 연락드립니다.\n",
      "--------------------------------------------------\n",
      "첫 번째 문서의 메타데이터: {'source': 'D:\\\\edu_data\\\\AI_prompt\\\\workspace\\\\ai_agent_work2\\\\langchain_env\\\\data\\\\kakao_chat.jsonl', 'seq_num': 1}\n"
     ]
    }
   ],
   "source": [
    "# jsonl 파일 로드 하기\n",
    "jsonl_loader = JSONLoader(\n",
    "    file_path=\"./data/kakao_chat.jsonl\",\n",
    "    jq_schema=\".content\",\n",
    "    json_lines=True,\n",
    ")\n",
    "\n",
    "jsonl_docs = jsonl_loader.load()\n",
    "\n",
    "\n",
    "print(\"문서의 수:\", len(jsonl_docs))\n",
    "print('-'*50)\n",
    "print(\"첫 번째 문서의 내용:\", jsonl_docs[0].page_content)\n",
    "print('-'*50) \n",
    "print(\"첫 번째 문서의 메타데이터:\", jsonl_docs[0].metadata)"
   ]
  },
  {
   "cell_type": "markdown",
   "id": "363df6bc",
   "metadata": {},
   "source": [
    "### 4. CSV 파일"
   ]
  },
  {
   "cell_type": "code",
   "execution_count": 11,
   "id": "a00c3cbb",
   "metadata": {},
   "outputs": [
    {
     "name": "stdout",
     "output_type": "stream",
     "text": [
      "문서의 수: 10\n",
      "--------------------------------------------------\n",
      "첫번째 문서의 내용:  Team: KIA 타이거즈\n",
      "City: 광주\n",
      "Founded: 1982\n",
      "Home Stadium: 광주-기아 챔피언스 필드\n",
      "Championships: 11\n",
      "Introduction: KBO 리그의 전통 강호로, 역대 최다 우승 기록을 보유하고 있다. '타이거즈 스피릿'으로 유명하며, 양현종, 안치홍 등 스타 선수들을 배출했다. 광주를 연고로 하는 유일한 프로야구팀으로 지역 사랑이 강하다.\n",
      "--------------------------------------------------\n",
      "첫 번째 문서의 메타데이터: {'source': './data/kbo_teams_2023.csv', 'row': 0}\n"
     ]
    }
   ],
   "source": [
    "from langchain_community.document_loaders import CSVLoader\n",
    "\n",
    "csv_loader = CSVLoader(file_path=\"./data/kbo_teams_2023.csv\", encoding=\"utf-8\")\n",
    "\n",
    "csv_docs = csv_loader.load()\n",
    "\n",
    "print(\"문서의 수:\", len(csv_docs))\n",
    "print('-'*50)\n",
    "print(\"첫번째 문서의 내용: \", csv_docs[0].page_content)\n",
    "print('-'*50)\n",
    "print(\"첫 번째 문서의 메타데이터:\", csv_docs[0].metadata)\n"
   ]
  },
  {
   "cell_type": "markdown",
   "id": "dd2ca46b",
   "metadata": {},
   "source": [
    "## 문서 청킹"
   ]
  },
  {
   "cell_type": "markdown",
   "id": "6aa2f605",
   "metadata": {},
   "source": [
    "### RecursiveCharacterTextSplitter"
   ]
  },
  {
   "cell_type": "code",
   "execution_count": null,
   "id": "8fd72620",
   "metadata": {},
   "outputs": [
    {
     "name": "stdout",
     "output_type": "stream",
     "text": [
      "생성된 텍스트 청크 수: 52\n",
      "각 청크의 길이 [981, 910, 975, 451, 932, 998, 904, 907, 995, 385, 926, 953, 216, 920, 996, 829, 975, 910, 906, 870, 929, 961, 945, 997, 195, 977, 968, 947, 933, 965, 938, 915, 733, 952, 945, 948, 618, 980, 989, 994, 624, 945, 914, 946, 918, 988, 929, 929, 849, 812, 814, 817]\n"
     ]
    }
   ],
   "source": [
    "from pydoc import text\n",
    "from langchain_text_splitters import RecursiveCharacterTextSplitter\n",
    "\n",
    "text_splitter = RecursiveCharacterTextSplitter(\n",
    "    chunk_size=1000, #청크 크기\n",
    "    chunk_overlap=200, #청크 간의 겹치는 부분 크기 #문서의 특징을 보면서 정해야함.\n",
    "    length_function = len, #글자 수를 기준으로 분할\n",
    "    separators = [\"\\n\\n\", \"\\n\", \",\", \"\"] #구분자 #구분자가 \\n\\n만 있으면 청크크기가 1000이어도 1000을 넘을 수 있음. 그래서 큰 청크에서 시작해서 더 작은 단위로 가는 것 추천천\n",
    ")\n",
    "\n",
    "texts = text_splitter.split_documents(pdf_docs)\n",
    "print(f'생성된 텍스트 청크 수: {len(texts)}')\n",
    "print(f'각 청크의 길이 {list(len(text.page_content) for text in texts)}')"
   ]
  },
  {
   "cell_type": "code",
   "execution_count": 15,
   "id": "e190ad19",
   "metadata": {},
   "outputs": [
    {
     "name": "stdout",
     "output_type": "stream",
     "text": [
      "Provided proper attribution is provided, Google hereby grants permission to\n",
      "reproduce the tables and figures in this paper solely for use in journalistic or\n",
      "scholarly works.\n",
      "Attention Is All You Need\n",
      "\n",
      "--------------------------------------------------------------------------------------------------------------------------------------------------------------------------------------------------------\n",
      "the encoder and decoder through an attention\n",
      "mechanism. We propose a new simple network architecture, the Transformer,\n",
      "based solely on attention mechanisms, dispensing with recurrence and convolutions\n",
      "================================================================================================================================================================================================================================================================================================================================================================================================================================================================================================================================================================================================================================================================================================================================================================================================================================================================================================================================================================================================================================================================================================================================================================================================================================================================================================================================================================================================================================================================================================================================================================================================================================================================================================================================================================================================================================================================================================================================================================================================================================================================================\n",
      "\n",
      "mechanism. We propose a new simple network architecture, the Transformer,\n",
      "based solely on attention mechanisms, dispensing with recurrence and convolutions\n",
      "entirely. Experiments on two machine transla\n",
      "--------------------------------------------------------------------------------------------------------------------------------------------------------------------------------------------------------\n",
      "the\n",
      "best models from the literature. We show that the Transformer generalizes well to\n",
      "other tasks by applying it successfully to English constituency parsing both with\n",
      "large and limited training data.\n",
      "================================================================================================================================================================================================================================================================================================================================================================================================================================================================================================================================================================================================================================================================================================================================================================================================================================================================================================================================================================================================================================================================================================================================================================================================================================================================================================================================================================================================================================================================================================================================================================================================================================================================================================================================================================================================================================================================================================================================================================================================================================================================================\n",
      "\n",
      "best models from the literature. We show that the Transformer generalizes well to\n",
      "other tasks by applying it successfully to English constituency parsing both with\n",
      "large and limited training data.\n",
      "∗Eq\n",
      "--------------------------------------------------------------------------------------------------------------------------------------------------------------------------------------------------------\n",
      " experimented with novel model variants, was responsible for our initial codebase, and\n",
      "efficient inference and visualizations. Lukasz and Aidan spent countless long days designing various parts of and\n",
      "================================================================================================================================================================================================================================================================================================================================================================================================================================================================================================================================================================================================================================================================================================================================================================================================================================================================================================================================================================================================================================================================================================================================================================================================================================================================================================================================================================================================================================================================================================================================================================================================================================================================================================================================================================================================================================================================================================================================================================================================================================================================================\n",
      "\n",
      "efficient inference and visualizations. Lukasz and Aidan spent countless long days designing various parts of and\n",
      "implementing tensor2tensor, replacing our earlier codebase, greatly improving results \n",
      "--------------------------------------------------------------------------------------------------------------------------------------------------------------------------------------------------------\n",
      "ormed while at Google Brain.\n",
      "‡Work performed while at Google Research.\n",
      "31st Conference on Neural Information Processing Systems (NIPS 2017), Long Beach, CA, USA.arXiv:1706.03762v7  [cs.CL]  2 Aug 2023\n",
      "================================================================================================================================================================================================================================================================================================================================================================================================================================================================================================================================================================================================================================================================================================================================================================================================================================================================================================================================================================================================================================================================================================================================================================================================================================================================================================================================================================================================================================================================================================================================================================================================================================================================================================================================================================================================================================================================================================================================================================================================================================================================================\n",
      "\n",
      "1 Introduction\n",
      "Recurrent neural networks, long short-term memory [ 13] and gated recurrent [ 7] neural networks\n",
      "in particular, have been firmly established as state of the art approaches in sequence m\n",
      "--------------------------------------------------------------------------------------------------------------------------------------------------------------------------------------------------------\n",
      "\n",
      "sequential nature precludes parallelization within training examples, which becomes critical at longer\n",
      "sequence lengths, as memory constraints limit batching across examples. Recent work has achieved\n",
      "================================================================================================================================================================================================================================================================================================================================================================================================================================================================================================================================================================================================================================================================================================================================================================================================================================================================================================================================================================================================================================================================================================================================================================================================================================================================================================================================================================================================================================================================================================================================================================================================================================================================================================================================================================================================================================================================================================================================================================================================================================================================================\n",
      "\n"
     ]
    }
   ],
   "source": [
    "for text in texts[:5]:\n",
    "    print(text.page_content[:200])\n",
    "    print('-'*200)\n",
    "    print(text.page_content[-200:])\n",
    "    print('='*2000)\n",
    "    print()"
   ]
  },
  {
   "cell_type": "code",
   "execution_count": 22,
   "id": "fdc94502",
   "metadata": {},
   "outputs": [
    {
     "name": "stdout",
     "output_type": "stream",
     "text": [
      "생성된 텍스트 청크 수: 5\n",
      "각 청크의 길이 [31, 25, 19, 39, 27]\n",
      "안녕하세요 여러분, 오늘 회의 시간 확인차 연락드립니다.\n",
      "--------------------------------------------------\n",
      "안녕하세요 여러분, 오늘 회의 시간 확인차 연락드립니다.\n",
      "==================================================\n",
      "\n",
      "네, 안녕하세요. 오후 2시에 하기로 했어요.\n",
      "--------------------------------------------------\n",
      "네, 안녕하세요. 오후 2시에 하기로 했어요.\n",
      "==================================================\n",
      "\n",
      "확인했습니다. 회의실은 어디인가요?\n",
      "--------------------------------------------------\n",
      "확인했습니다. 회의실은 어디인가요?\n",
      "==================================================\n",
      "\n",
      "3층 대회의실입니다. 프로젝트 진행 상황 정리해오시는 거 잊지 마세요!\n",
      "--------------------------------------------------\n",
      "3층 대회의실입니다. 프로젝트 진행 상황 정리해오시는 거 잊지 마세요!\n",
      "==================================================\n",
      "\n",
      "네, 모두 준비했습니다. 회의 때 뵙겠습니다 :)\n",
      "--------------------------------------------------\n",
      "네, 모두 준비했습니다. 회의 때 뵙겠습니다 :)\n",
      "==================================================\n",
      "\n"
     ]
    }
   ],
   "source": [
    "#문장을 구분하여 분할(마침표, 느낌표, 물음표 다음에 공백이 오는 경우 문자의 끝으로 판단)\n",
    "from langchain_text_splitters import CharacterTextSplitter\n",
    "\n",
    "text_splitter = CharacterTextSplitter(\n",
    "    chunk_size=1000,\n",
    "    chunk_overlap=0,\n",
    "    separator=r'(?<=[.!?])\\s+', #구분자\n",
    "    is_separator_regex=True, #구분자가 정규표현식인지 여부\n",
    "    keep_separator=True #구분자를 청크에 포함할지 여부\n",
    ")\n",
    "\n",
    "\n",
    "texts = text_splitter.split_documents(jsonl_docs)\n",
    "print(f'생성된 텍스트 청크 수: {len(texts)}')\n",
    "print(f'각 청크의 길이 {list(len(text.page_content) for text in texts)}')\n",
    "\n",
    "\n",
    "for text in texts[:5]:\n",
    "    print(text.page_content[:50])\n",
    "    print('-'*50)\n",
    "    print(text.page_content[-500:])\n",
    "    print('='*50)\n",
    "    print()"
   ]
  },
  {
   "cell_type": "code",
   "execution_count": 24,
   "id": "1d6a90a7",
   "metadata": {},
   "outputs": [
    {
     "name": "stdout",
     "output_type": "stream",
     "text": [
      "생성된 텍스트 청크 수: 3\n",
      "각 청크의 길이 [1140, 1374, 337]\n"
     ]
    }
   ],
   "source": [
    "from langchain_text_splitters import RecursiveCharacterTextSplitter\n",
    "\n",
    "text_splitter = RecursiveCharacterTextSplitter.from_tiktoken_encoder(\n",
    "    chunk_size=300,\n",
    "    chunk_overlap=0,\n",
    "    encoding_name=\"cl100k_base\", #tiktoken 인코딩 이름\n",
    "    #model_name=\"gpt-40-mini\" #모델이름을 써도 알아서 tokenizer 이름이 들어감\n",
    "\n",
    ")\n",
    "\n",
    "chunks = text_splitter.split_documents(pdf_docs[:1])\n",
    "\n",
    "print(f'생성된 텍스트 청크 수: {len(chunks)}')\n",
    "print(f'각 청크의 길이 {list(len(text.page_content) for text in chunks)}')"
   ]
  },
  {
   "cell_type": "code",
   "execution_count": null,
   "id": "dd80a9db",
   "metadata": {},
   "outputs": [
    {
     "data": {
      "text/plain": [
       "XLMRobertaTokenizerFast(name_or_path='BAAI/bge-m3', vocab_size=250002, model_max_length=8192, is_fast=True, padding_side='right', truncation_side='right', special_tokens={'bos_token': '<s>', 'eos_token': '</s>', 'unk_token': '<unk>', 'sep_token': '</s>', 'pad_token': '<pad>', 'cls_token': '<s>', 'mask_token': '<mask>'}, clean_up_tokenization_spaces=True),  added_tokens_decoder={\n",
       "\t0: AddedToken(\"<s>\", rstrip=False, lstrip=False, single_word=False, normalized=False, special=True),\n",
       "\t1: AddedToken(\"<pad>\", rstrip=False, lstrip=False, single_word=False, normalized=False, special=True),\n",
       "\t2: AddedToken(\"</s>\", rstrip=False, lstrip=False, single_word=False, normalized=False, special=True),\n",
       "\t3: AddedToken(\"<unk>\", rstrip=False, lstrip=False, single_word=False, normalized=False, special=True),\n",
       "\t250001: AddedToken(\"<mask>\", rstrip=False, lstrip=True, single_word=False, normalized=False, special=True),\n",
       "}"
      ]
     },
     "execution_count": 26,
     "metadata": {},
     "output_type": "execute_result"
    }
   ],
   "source": [
    "from transformers import AutoTokenizer\n",
    "\n",
    "#허깅페이스\n",
    "tokenizer = AutoTokenizer.from_pretrained(\"BAAI/bge-m3\")\n",
    "\n",
    "tokenizer"
   ]
  },
  {
   "cell_type": "code",
   "execution_count": 27,
   "id": "fd417007",
   "metadata": {},
   "outputs": [
    {
     "name": "stdout",
     "output_type": "stream",
     "text": [
      "[0, 107687, 5, 20451, 54272, 16367, 5, 2]\n"
     ]
    }
   ],
   "source": [
    "tokens = tokenizer.encode(\"안녕하세요. 반갑습니다.\")\n",
    "print(tokens)"
   ]
  },
  {
   "cell_type": "code",
   "execution_count": 29,
   "id": "246cc7fe",
   "metadata": {},
   "outputs": [
    {
     "name": "stdout",
     "output_type": "stream",
     "text": [
      "['<s>', '▁안녕하세요', '.', '▁반', '갑', '습니다', '.', '</s>']\n"
     ]
    }
   ],
   "source": [
    "print(tokenizer.convert_ids_to_tokens(tokens))"
   ]
  },
  {
   "cell_type": "code",
   "execution_count": 30,
   "id": "b1c55c5d",
   "metadata": {},
   "outputs": [
    {
     "name": "stdout",
     "output_type": "stream",
     "text": [
      "<s> 안녕하세요. 반갑습니다.</s>\n"
     ]
    }
   ],
   "source": [
    "print(tokenizer.decode(tokens))"
   ]
  },
  {
   "cell_type": "markdown",
   "id": "eba2d9d8",
   "metadata": {},
   "source": [
    "## 문서 임베딩(imbedding) 모델\n",
    "\n",
    "### 1. OpenAI"
   ]
  },
  {
   "cell_type": "code",
   "execution_count": 31,
   "id": "59e6d72a",
   "metadata": {},
   "outputs": [
    {
     "data": {
      "text/plain": [
       "OpenAIEmbeddings(client=<openai.resources.embeddings.Embeddings object at 0x0000022726A21AD0>, async_client=<openai.resources.embeddings.AsyncEmbeddings object at 0x000002277F9848D0>, model='text-embedding-3-small', dimensions=None, deployment='text-embedding-ada-002', openai_api_version='', openai_api_base=None, openai_api_type='', openai_proxy='', embedding_ctx_length=8191, openai_api_key=SecretStr('**********'), openai_organization=None, allowed_special=None, disallowed_special=None, chunk_size=1000, max_retries=2, request_timeout=None, headers=None, tiktoken_enabled=True, tiktoken_model_name=None, show_progress_bar=False, model_kwargs={}, skip_empty=False, default_headers=None, default_query=None, retry_min_seconds=4, retry_max_seconds=20, http_client=None, http_async_client=None, check_embedding_ctx_length=True)"
      ]
     },
     "execution_count": 31,
     "metadata": {},
     "output_type": "execute_result"
    }
   ],
   "source": [
    "from langchain_openai import OpenAIEmbeddings\n",
    "\n",
    "embeddings_model = OpenAIEmbeddings(model=\"text-embedding-3-small\")\n",
    "\n",
    "embeddings_model\n",
    "\n"
   ]
  },
  {
   "cell_type": "code",
   "execution_count": 33,
   "id": "5ee16598",
   "metadata": {},
   "outputs": [
    {
     "data": {
      "text/plain": [
       "8191"
      ]
     },
     "execution_count": 33,
     "metadata": {},
     "output_type": "execute_result"
    }
   ],
   "source": [
    "embeddings_model.embedding_ctx_length"
   ]
  },
  {
   "cell_type": "code",
   "execution_count": null,
   "id": "ea6297a0",
   "metadata": {},
   "outputs": [
    {
     "name": "stdout",
     "output_type": "stream",
     "text": [
      "임베딩 벡터의 개수 : 5\n",
      "임베딩 벡터의 차원: 1536\n",
      "[-0.002310403622686863, 0.012099752202630043, -0.002436630427837372, 0.015039036981761456, 0.018447164446115494, -0.04565808176994324, -0.003119608387351036, 0.046956416219472885, -0.018239790573716164, -0.031881313771009445, 0.006847810931503773, 0.006965021602809429, -0.018591422587633133, -0.027138788253068924, 0.004891293589025736, -0.015580009669065475, -0.041546691209077835, 0.010053073056042194, 0.05157271400094032, -0.045874472707509995, -0.01464232336729765, -0.027751890942454338, -0.018753714859485626, -0.022702815011143684, 0.004363845102488995, -0.03981557860970497, 0.05031044781208038, 0.017716851085424423, 0.00028372881934046745, -0.023333948105573654, 0.048976048827171326, -0.015273458324372768, -0.029933813959360123, -0.06159874051809311, 0.02044876292347908, 0.03537960350513458, 0.002585398033261299, -0.006807237863540649, -0.005130222998559475, 0.02477654255926609, 0.00756459916010499, 0.02753550186753273, -0.0025651114992797375, 0.025984713807702065, -0.017996354028582573, 0.005590049549937248, -0.025840455666184425, 0.0036064835730940104, 0.0075150104239583015, 0.056657858192920685, -0.025010963901877403, 0.030096106231212616, 0.007974836975336075, -0.03480256721377373, -0.0020331551786512136, 0.09542755782604218, 0.01380381640046835, 0.0292846467345953, 0.003762013278901577, 0.030276430770754814, 0.015165263786911964, 0.01509313378483057, 0.0036650889087468386, 0.02093563787639141, -0.0518612340092659, -0.024379828944802284, 0.036389417946338654, 0.026183070614933968, -0.01988975703716278, -0.02921251766383648, 0.008971127681434155, -0.019637303426861763, -0.04508104547858238, 0.02122415602207184, -0.000698756193742156, -0.012388271279633045, -0.0649167075753212, 0.025461774319410324, 0.01275793556123972, 0.024379828944802284, -0.004253396764397621, 0.0005328016122803092, 0.048002295196056366, -0.059939756989479065, -0.009241614490747452, -0.02282904088497162, -0.00111462885979563, -0.057667672634124756, -0.05326776206493378, -0.004670396447181702, -0.030492819845676422, 0.049012113362550735, 0.0043886397033929825, 0.0041722506284713745, -0.05305137485265732, 0.03235015645623207, 0.061057768762111664, -0.052149754017591476, 0.0037980780471116304, 0.02787811867892742, -0.05168091133236885, -0.005729801021516323, 0.0318993479013443, 0.05474642291665077, 0.001877625472843647, -0.021620869636535645, -0.007194934878498316, 0.019835660234093666, -0.021692998707294464, 0.008159669116139412, -0.010161267593502998, -0.004936374258249998, -0.07566402852535248, 0.040609005838632584, -0.05795619264245033, -0.01954714208841324, 0.02850925363600254, -0.023297883570194244, -0.023388046771287918, -0.0073527186177670956, -0.023496240377426147, 0.02962726354598999, 0.03447798267006874, -0.004454007372260094, -0.01800536923110485, -0.0248126070946455, 0.014948874711990356, -0.03269277513027191, -0.025083092972636223, -0.004357083234935999, -0.004864244721829891, -0.026615848764777184, -0.012135817669332027, 0.02798631228506565, 0.041727013885974884, -0.016526710242033005, 0.005242925602942705, 0.0251912884414196, -0.001341161085292697, -0.05326776206493378, 0.019258622080087662, -0.019529107958078384, 0.01779799722135067, 0.012784983962774277, -0.028942031785845757, -0.05251040309667587, -0.012929243966937065, 0.01793324016034603, 0.03988770768046379, 0.041546691209077835, -0.046920351684093475, -0.01880781166255474, -0.07057888060808182, -0.039238542318344116, -0.05052683502435684, 0.024163439869880676, 0.0005026536528021097, 0.03278293460607529, -0.011856314726173878, -0.028635479509830475, 0.008231799118220806, -0.008191226050257683, -0.03319768235087395, 0.009971926920115948, -0.026110941544175148, 0.040609005838632584, -0.022342165932059288, 0.046920351684093475, -0.018681585788726807, 0.002396057592704892, -0.027842054143548012, -0.010386672802269459, -0.024488024413585663, -0.021260220557451248, 0.005842503625899553, 0.014651339501142502, 0.021368416026234627, 0.01573328487575054, -0.049048177897930145, -0.026237167418003082, -0.030961662530899048, -0.018681585788726807, -0.0002795024774968624, 0.027030594646930695, -0.008358025923371315, -0.024794574826955795, 0.016689002513885498, -0.04771377891302109, -0.029122354462742805, 0.019384849816560745, 0.03651564568281174, 0.026128973811864853, 0.019222557544708252, 0.043566323816776276, 0.008258847519755363, -0.026615848764777184, -0.0011743612121790648, -0.05377266928553581, -0.010756337083876133, -0.0032345650251954794, 0.028942031785845757, -0.040500812232494354, -0.025389645248651505, -0.01397512387484312, 0.012262044474482536, 0.00656830845400691, 0.04187127575278282, 0.006784697063267231, -0.03161082789301872, -0.026814205572009087, -0.01869961805641651, -0.02551587112247944, 0.07328374683856964, 0.00046461651800200343, -0.03409930318593979, -0.06033647060394287, 0.020304502919316292, 0.007587139960378408, -0.014083318412303925, 0.03011413849890232, -0.006577324587851763, -0.008141636848449707, 0.013028422370553017, -0.005220384802669287, 0.005184320267289877, -0.0026192087680101395, 0.021692998707294464, -0.036245159804821014, 0.02593061700463295, -0.03418946638703346, -0.023568371310830116, 0.02977152168750763, 0.0028333435766398907, -0.00833999365568161, 0.0023442143574357033, -0.01326284371316433, -0.011730087921023369, -0.02272084727883339, 0.011459602043032646, 0.0057388171553611755, 0.008425647392868996, -0.00024780488456599414, -0.005125714931637049, -0.020015984773635864, -0.008646544069051743, -0.00591463316231966, -0.0004423577629495412, 0.027355177327990532, -0.00403024535626173, -0.011802217923104763, 0.01794225536286831, -0.028797771781682968, 0.023532304912805557, -0.02115202695131302, 0.011360423639416695, 0.004638839513063431, 0.030042007565498352, -0.026814205572009087, 0.005450298544019461, -0.0020162498112767935, -0.01451609656214714, 0.013641524128615856, -0.026201102882623672, -0.032332126051187515, 0.013217762112617493, 0.007271572481840849, -0.002925759879872203, 0.027156822383403778, -0.03887789323925972, -0.026147006079554558, -0.013289892114698887, 0.04035655036568642, 0.014633307233452797, -0.025389645248651505, -0.04075326398015022, 0.012433351948857307, -0.03689432889223099, 0.021692998707294464, -0.02246839366853237, 0.05052683502435684, -0.052330076694488525, 0.029951846227049828, 0.04573021084070206, -0.003597467439249158, -0.00174689048435539, 3.349380858708173e-05, -0.036659907549619675, -0.020917605608701706, -0.012262044474482536, -0.06286101043224335, 0.06253642588853836, 0.0021548739168792963, -0.01587754487991333, 0.04320567473769188, 0.02977152168750763, -0.01769881881773472, -0.011468618176877499, 0.046848222613334656, -0.005247433669865131, 0.00660437298938632, 0.023856889456510544, -0.05838897079229355, -0.017770947888493538, -0.02055695652961731, 0.004859736654907465, 0.023983115330338478, -0.04944489151239395, 0.01605786755681038, -0.0021965738851577044, -0.03696645796298981, -0.015589025802910328, 0.007289605215191841, 0.07443781942129135, 0.009038749150931835, -0.0274273082613945, -0.01626524142920971, -0.017428332939743996, -0.0570906363427639, 0.002955062547698617, -0.017220959067344666, -0.014759534038603306, 0.03812053054571152, 0.012334173545241356, -0.02795024774968624, -0.03056494891643524, 0.012703838758170605, -0.0008695006836205721, 0.01936681754887104, -0.014687404967844486, -0.04735312983393669, 0.07169689238071442, 0.06159874051809311, -0.030492819845676422, 0.004985963460057974, -0.008204749785363674, -0.03440585359930992, -0.02679617330431938, 0.014209545217454433, -0.05081535503268242, -0.03590254485607147, -0.05636933818459511, 0.02149464190006256, -0.048110492527484894, 0.050130121409893036, 0.010305526666343212, 0.0001662363501964137, -0.0021019037812948227, 0.007753939833492041, 0.019619271159172058, -0.0006102846236899495, 0.018825843930244446, -0.0112882936373353, -0.01751849427819252, -0.020394664257764816, -0.0369303934276104, -0.006550275720655918, -0.047064609825611115, -0.008678101003170013, -0.02425360307097435, -0.04024835675954819, -0.04839900881052017, -0.0013276367681100965, 0.03786807879805565, 0.042628634721040726, 0.03985164314508438, 0.010017008520662785, 0.002522284397855401, -0.026687977835536003, -0.007086740341037512, 0.0016082662623375654, -0.03235015645623207, -0.0003755814686883241, 0.011982541531324387, -0.07144443690776825, -0.009313743561506271, -0.029879717156291008, -0.01845617964863777, 0.0270486269146204, -0.045802343636751175, 0.01612098142504692, 0.02630929835140705, 0.05499887466430664, 0.007375258952379227, -0.0225765872746706, -0.032259996980428696, 0.005364644341170788, -0.01106288842856884, -0.012658757157623768, -0.06870350986719131, 0.032223932445049286, 0.029158420860767365, -0.03200754150748253, -0.029302679002285004, 0.003845413215458393, -0.012361222878098488, -0.027319112792611122, -0.018789779394865036, -0.05539558827877045, -0.0395631268620491, 0.024488024413585663, -0.03150263428688049, -0.030997727066278458, -0.02436179667711258, 0.021999549120664597, 0.014525112695991993, -0.04032048583030701, 0.05622508004307747, 0.059723369777202606, 0.009737505577504635, 0.03458617627620697, 0.004284953232854605, -0.06257249414920807, 0.038481179624795914, -0.00038966929423622787, -0.03510911762714386, -0.049120306968688965, -0.01985369250178337, 0.033305875957012177, 0.020827442407608032, 0.0006728345761075616, 0.01947501115500927, 0.027337145060300827, 0.03995983675122261, -0.03458617627620697, 0.007064200006425381, 0.02044876292347908, 0.037327107042074203, 0.0052699740044772625, 0.05283498391509056, -0.012225979007780552, -0.004823671653866768, 0.006744124460965395, -0.023225754499435425, -0.0034261594992130995, -0.05178910493850708, -0.0007274953532032669, 0.023225754499435425, 0.015561976470053196, -0.009710457175970078, 0.024469992145895958, 0.0032638676930218935, -0.02118809148669243, 0.006203151773661375, -0.02153070643544197, -0.014056270010769367, 0.038481179624795914, -0.0292846467345953, -0.02492080256342888, -0.010891580954194069, -0.05366447567939758, 0.02903219312429428, -0.065313421189785, 0.030997727066278458, 0.03891395777463913, -0.015543944202363491, -0.04937276244163513, 0.021278252825140953, -0.034459952265024185, 0.01141452044248581, 0.024830639362335205, -0.0006970656686462462, 0.016625888645648956, -0.026056844741106033, -0.008303928188979626, -0.005693736020475626, 0.038372986018657684, 0.04634331539273262, 0.006847810931503773, -0.051464520394802094, 0.038445115089416504, -0.011279277503490448, -0.035722218453884125, 0.01794225536286831, -0.02309952676296234, 0.015002971515059471, -0.0002056822704616934, -0.004523883108049631, -0.013073503039777279, -0.04500891640782356, -0.0071543618105351925, 0.00863752793520689, -0.002470441162586212, 0.010684208013117313, 0.011261245235800743, 0.035992708057165146, 0.04230405390262604, -0.06726092100143433, 0.005982254631817341, 0.059867627918720245, -0.0047064609825611115, 0.012415319681167603, -0.03267474099993706, 0.07941477000713348, 0.0025606034323573112, 0.02969939261674881, 0.049012113362550735, -0.012162866070866585, 0.006437573116272688, 0.010675191879272461, 0.013181697577238083, 0.023460175842046738, -0.029753489419817924, -0.010287494398653507, 0.02771582640707493, 0.005513411946594715, -0.0004795496060978621, -0.052257947623729706, 0.02208971232175827, -0.004264666698873043, -0.019745497032999992, 0.03207967057824135, 0.04302534833550453, -0.003737218677997589, 0.009737505577504635, -0.009800619445741177, 0.006671994458884001, -0.009313743561506271, 0.007943280041217804, 0.027174854651093483, -0.027228951454162598, -0.009313743561506271, -0.022288069128990173, -0.029014160856604576, 0.0022934982553124428, -0.000124254627735354, -0.05420544743537903, -0.009620294906198978, -0.01660785637795925, 0.00949406810104847, -0.017121780663728714, 0.016139013692736626, -0.01713981293141842, 0.015543944202363491, -0.03913034871220589, -0.01796930469572544, 0.013010389171540737, 0.010152251459658146, 0.01512919832020998, -0.04190734028816223, -0.010630110278725624, 0.016382452100515366, -0.014813631772994995, 0.009313743561506271, 0.0249929316341877, -0.007194934878498316, 0.047064609825611115, -0.01102682389318943, -0.037110716104507446, 0.003840905148535967, 0.029050225391983986, 0.020430728793144226, 0.00036177539732307196, 0.03696645796298981, -0.02302739769220352, 0.011198131367564201, -0.0045982664451003075, 0.00649167038500309, -0.025948649272322655, -0.0026349870022386312, -0.02690436691045761, 0.008583431132137775, -0.020791377872228622, -0.04212372750043869, -0.004192537162452936, 0.008457204326987267, 0.010494867339730263, 0.028455154970288277, -0.01643654890358448, 0.021873323246836662, 0.029483003541827202, -0.04554988816380501, 0.029789553955197334, -0.016382452100515366, 0.06235610321164131, -0.009800619445741177, -0.04205159842967987, 0.01003504078835249, -0.027301080524921417, -0.012117785401642323, 0.024542121216654778, 0.020502859726548195, 0.015480831265449524, 0.03202557563781738, 0.013154649175703526, 0.04075326398015022, 5.191364107304253e-05, 0.002767976140603423, 0.020502859726548195, 0.03262064605951309, -0.029230549931526184, 0.0341353677213192, 0.018519293516874313, -0.01380381640046835, -0.027319112792611122, -0.025732260197401047, -0.015787381678819656, 0.007699842564761639, 0.016274256631731987, 0.01378578320145607, 0.024379828944802284, -0.004967931192368269, 0.012902195565402508, 0.020466795191168785, 0.00526095787063241, -0.024830639362335205, -0.031773120164871216, -0.015796398743987083, 0.036245159804821014, 0.007442880421876907, -0.010458802804350853, -0.013443167321383953, 0.008312944322824478, 0.008087539114058018, -0.02324378676712513, -0.005815454758703709, -0.011144034564495087, 0.0005040624528191984, 0.0001804650528356433, 0.026147006079554558, -0.014957890845835209, 0.00886293314397335, -0.006500686518847942, 0.03366652503609657, -0.016111966222524643, 0.0043886397033929825, -0.031051823869347572, 0.0013129854341968894, -0.009394889697432518, -0.02093563787639141, 0.0017018094658851624, 0.00767730176448822, 0.07328374683856964, -0.013587427325546741, 0.036064837127923965, -0.009467019699513912, -0.06589045375585556, -0.0112882936373353, -0.006365443579852581, 0.012505481950938702, -0.009358825162053108, -0.022630684077739716, 0.004562201909720898, 0.009503084234893322, -0.031105920672416687, 0.029374809935688972, -0.008804327808320522, 0.0011512571945786476, -0.02872564271092415, 0.009047766216099262, 0.006784697063267231, 0.003432921599596739, -0.0253716129809618, -0.033414069563150406, 0.01266777329146862, -0.004546423442661762, -0.016770148649811745, -0.0036200080066919327, -0.030510852113366127, 0.023965083062648773, 0.0015812176279723644, 0.009881764650344849, -0.013848897069692612, 0.02041269652545452, -0.015381652861833572, -0.006699043326079845, 0.04645150899887085, 0.019456978887319565, 0.03640745207667351, -0.007014610804617405, -0.011784185655415058, -0.028419090434908867, 0.01936681754887104, 0.011135018430650234, 0.009575214236974716, -0.04032048583030701, 0.03364849090576172, 0.0020849984139204025, 0.01738325133919716, 0.04280896112322807, 0.03812053054571152, -0.014993955381214619, -0.018302904441952705, -0.018167661502957344, -0.043710581958293915, 0.017220959067344666, 0.004291715566068888, 0.014398885890841484, 0.01880781166255474, 0.019529107958078384, -0.0630413368344307, 0.015787381678819656, 0.029086289927363396, -0.025065060704946518, -0.004591504577547312, -0.065313421189785, -0.013001373037695885, 0.018573390319943428, -0.03959919139742851, -0.03272883966565132, 0.0253716129809618, -0.02484867163002491, 0.008817852474749088, 0.012171882204711437, -0.023514272645115852, -0.025804391130805016, -0.01576934941112995, 0.04536956548690796, -0.007726890966296196, -0.010882563889026642, -0.0035771809052675962, -0.01988975703716278, 0.000534492137376219, -0.018230775371193886, -0.010422737337648869, 0.03604680299758911, -0.008394090458750725, 0.04446794465184212, -0.0225765872746706, 0.009521116502583027, -0.04288109019398689, -0.026706011965870857, -0.025876520201563835, -0.012469417415559292, -0.012523514218628407, -0.005220384802669287, -0.027102723717689514, -0.0391664132475853, -0.007952296175062656, -0.03388291224837303, -0.00030683286604471505, 0.02526341751217842, -0.010693224146962166, -0.021656934171915054, -0.008596954867243767, 0.060047950595617294, -0.008015410043299198, -0.03876969963312149, -0.004372861236333847, -0.023748693987727165, -0.017563575878739357, 0.00011636544513748959, -0.018753714859485626, 0.027138788253068924, 0.03491076081991196, -0.017644720152020454, 0.026183070614933968, 0.0001629961479920894, 0.0019497552420943975, 0.013848897069692612, -0.04432368278503418, 0.009845700114965439, -0.002871662611141801, 0.03198951110243797, -0.025533903390169144, 0.00037501793121919036, -0.009926846250891685, 0.013037438504397869, 0.005089649930596352, 0.013668572530150414, -0.02306346222758293, 0.024451958015561104, 0.020809410139918327, 0.0016950472490862012, 0.0092325983569026, 0.0016860311152413487, 0.0021717792842537165, 0.004302985966205597, -0.02373066172003746, -0.002817565342411399, 0.012559578754007816, 0.029014160856604576, -0.012875146232545376, -0.005657671019434929, 0.0014347042888402939, 0.04017622768878937, -0.001599250128492713, 0.00623020064085722, -0.04785803705453873, -0.005856027826666832, 0.03148460015654564, 0.011531731113791466, -0.0201422106474638, -0.019384849816560745, -0.001532755559310317, -0.008087539114058018, -0.021206123754382133, 0.02641749195754528, 0.033341940492391586, -0.009602262638509274, -0.024343764409422874, -0.0050535849295556545, 0.021368416026234627, -0.040536876767873764, -0.005044568795710802, -0.013362022116780281, 0.011775168590247631, 0.002903219312429428, 0.012000573799014091, 0.0027972788084298372, -0.002849122043699026, 0.03815659508109093, 0.007695334497839212, 0.043710581958293915, 0.034604210406541824, 0.05398906022310257, 0.009169484488666058, -0.015327555127441883, 0.045802343636751175, -0.046956416219472885, -0.02921251766383648, 0.03260261192917824, -0.010512899607419968, -0.015327555127441883, 0.04569414630532265, -0.019619271159172058, -0.032512448728084564, -0.008898998610675335, -0.0026147007010877132, -0.005883076228201389, -0.014416918158531189, 0.03157476335763931, 0.00036459293914958835, -0.005675703752785921, -0.010476835072040558, 0.03866150602698326, -0.01490379311144352, -0.018131596967577934, 0.023604435846209526, -0.031322311609983444, 0.0047425259836018085, 0.07681810110807419, 0.018897974863648415, 0.033937010914087296, 0.0006131022237241268, 0.035055018961429596, 0.0009241614025086164, -0.01768980175256729, -0.010269462130963802, -0.028112540021538734, 0.032368190586566925, -0.013812832534313202, 0.006478146184235811, 0.002256306353956461, 0.018176676705479622, -0.035055018961429596, -0.0024591709952801466, -0.01765373721718788, 0.016950473189353943, -0.021620869636535645, -0.006252740975469351, -0.03159279748797417, 0.007203951012343168, 0.024902768433094025, -0.009791603311896324, 0.0663953647017479, 0.013280875980854034, 0.018420115113258362, -0.015381652861833572, 0.020899573341012, -0.007735907565802336, 0.011883363127708435, 0.03409930318593979, 0.0358123816549778, -0.017302105203270912, 0.03220589831471443, -0.017284072935581207, 0.001178869279101491, 0.022143809124827385, 0.0010954693425446749, 0.01581443101167679, 0.029194485396146774, 0.05171697586774826, -0.014813631772994995, -0.01734718680381775, -0.016310323029756546, -0.024866703897714615, -0.005062601529061794, 0.021999549120664597, -0.010864531621336937, -0.014344788156449795, 0.01266777329146862, -0.0820835679769516, 0.024596218019723892, -0.03485666587948799, 0.01832093670964241, -0.008844900876283646, -0.011964509263634682, 0.025678163394331932, -0.04746132344007492, 0.04208766296505928, -0.0030790353193879128, -0.03280096873641014, 0.011405504308640957, -0.012739903293550014, 0.028437122702598572, 0.03977951407432556, -0.01842913217842579, 0.009971926920115948, -0.0034013648983091116, 0.010729288682341576, -0.02007008157670498, -0.027156822383403778, -0.01432675588876009, -0.03703858703374863, -0.018122579902410507, 0.020538924261927605, 0.01626524142920971, 0.013758734799921513, 0.015625089406967163, -0.03658777475357056, 0.013948075473308563, 0.02391098625957966, -0.00041474562021903694, -0.021692998707294464, 0.011522714979946613, -0.05413331836462021, 0.013443167321383953, 0.02373066172003746, -0.07465421408414841, -0.004792115185409784, -0.008921538479626179, -0.009557181969285011, -0.001341161085292697, 0.0044968342408537865, 0.026724044233560562, 0.02787811867892742, -0.0402844212949276, -0.05160878226161003, -0.03179115429520607, 0.021963484585285187, 0.0026890842709690332, -0.010242413729429245, 0.010476835072040558, -0.012352206744253635, -0.005256449803709984, 0.001291571999900043, -0.011594844982028008, 0.00802442617714405, 0.008542858064174652, -0.06992971897125244, 0.00034317944664508104, -0.03070920705795288, -0.013073503039777279, -0.006694535259157419, -0.03213376924395561, 0.0065367515198886395, 0.025533903390169144, 0.006910924334079027, 0.010467818938195705, 0.048002295196056366, 0.007731399033218622, -0.06390689313411713, 0.023225754499435425, -0.0020478065125644207, 0.0274273082613945, 0.018266839906573296, 0.05810045078396797, 0.006176103372126818, -0.011162066832184792, 0.010720272548496723, 0.0008339993073605001, -0.05315956845879555, 0.005328579340130091, -0.012965308502316475, -0.013416118919849396, -0.01106288842856884, 0.0031331325881183147, -0.009421938098967075, 0.0066269137896597385, 0.019078297540545464, 0.015300506725907326, -0.01909632980823517, 0.027138788253068924, 0.013767750933766365, 0.009385873563587666, -0.021729063242673874, 0.024794574826955795, -0.032368190586566925, -0.02044876292347908, -0.03649761527776718, 0.05481855198740959, 0.006509703118354082, 0.005517920013517141, -0.01601278781890869, 0.03981557860970497, -0.007127313409000635, 0.025353580713272095, 0.01776193268597126, -0.0010098153725266457, -0.014633307233452797, -0.0010594045743346214, -0.03794020786881447, 0.00276572210714221, -0.052438270300626755, 0.04320567473769188, -0.00830843672156334, -0.0008441425743512809, -0.04764164984226227, -0.017013587057590485, 0.0021819225512444973, -0.025533903390169144, 0.016553759574890137, -0.021837258711457253, -0.022594619542360306, 0.008817852474749088, -0.028833836317062378, -0.04558595269918442, -0.00023442142992280424, 0.016454581171274185, 0.02906825765967369, 0.030312495306134224, -0.012812033295631409, 0.021584805101156235, -0.00018638194887898862, 0.03361242637038231, 0.02286510542035103, -0.03085346706211567, 0.014047253876924515, 0.017085716128349304, -0.0028108032420277596, 0.009917830117046833, -0.03750742971897125, 0.02787811867892742, -0.0455138236284256, -0.01598573848605156, 0.0034509541001170874, 0.024506056681275368, -0.01685129478573799, 0.003834142815321684, 0.01845617964863777, -0.023081494495272636, 0.005003996193408966, -0.004548677243292332, 0.022774944081902504, -0.015589025802910328, 0.04991373419761658, -0.022666748613119125, -0.023784758523106575, 0.054602161049842834, 0.005468330811709166, -0.00012115530989831313, 0.021368416026234627, -0.007469929289072752, 0.009746521711349487, -0.007997377775609493, 0.010449786670506, -0.03312555328011513, -0.014471015892922878, -0.006261757109314203, 0.056513600051403046, 0.02544374205172062, 0.007001086138188839, -0.02659781649708748, 0.030835434794425964, -0.023496240377426147, 0.027842054143548012, -0.043602388352155685, 0.00687485933303833, -0.0007844101637601852, -6.311346078291535e-05, -0.03619106486439705, -0.0020906333811581135, -0.00911087915301323, 0.020683184266090393, -0.010215364396572113, 0.012739903293550014, -0.013930043205618858, 0.02477654255926609, -0.00021103564358782023, -0.007203951012343168, 6.399395351763815e-05, -0.009259646758437157, 0.010179299861192703, -0.0324583537876606, 0.013479232788085938, 0.007614188361912966, -0.05478248745203018, -0.03335997462272644, 0.012379255145788193, 0.009034241549670696, 0.02421753667294979, 0.020701216533780098, 0.02118809148669243, 0.022450361400842667, 0.005720784422010183, 0.02977152168750763, 0.017374234274029732, 0.0067892055958509445, 0.005472838878631592, -0.020196307450532913, -0.03563205897808075, -0.00875924713909626, -0.016878344118595123, -0.004174504894763231, -0.004312002100050449, 0.01909632980823517, -0.01741029880940914, 0.02630929835140705, 0.019420914351940155, -0.01902420073747635, 0.007240016013383865, 0.01958320662379265, -0.026742076501250267, 0.00975553784519434, -0.011053872294723988, -0.017338169738650322, -0.018537325784564018, -0.041438497602939606, 0.009701441042125225, 0.039382800459861755, 0.028671544045209885, 0.02659781649708748, 0.014092334546148777, -0.005170796066522598, -0.03655171021819115, 0.01940288208425045, -0.018402082845568657, 0.009277679026126862, -0.005463822744786739, 0.022847073152661324, -0.009467019699513912, -0.0029415381141006947, -0.04540563002228737, 0.02935677580535412, 0.016878344118595123, -0.0024321223609149456, -0.010891580954194069, 0.009971926920115948, 0.0034780027344822884, 0.010539948008954525, -0.0328189991414547, 0.013966107740998268, 0.009313743561506271, -0.010332575999200344, 0.025047028437256813, -0.032999325543642044, -0.011089936830103397, 0.0008768263505771756, -0.013010389171540737, 0.02156677283346653, -0.005653162952512503, 0.017058666795492172, -0.014543144963681698, 0.0009838937548920512, -0.018591422587633133, 0.0006424048915505409, -0.03530747443437576, -0.008980143815279007, 0.026724044233560562, -0.0023599928244948387, 0.00806049071252346, -0.005896600894629955, -0.01661687344312668, -0.012541546486318111, 0.010062089189887047, -0.030474785715341568, -0.004406671971082687, 0.02331591583788395, -0.003888240084052086, 0.05103174224495888, 0.01633737049996853, -0.03417143225669861, -0.02712075598537922, 0.02959119714796543, -0.043602388352155685, 0.005626114550977945, 0.011351407505571842, -0.02488473616540432, 0.02648962289094925, -0.019168460741639137, -0.01591360941529274, -0.006144546438008547, 0.005544968415051699, 0.006676502991467714, 0.015174279920756817, -0.004643347579985857, 0.0028085492085665464, -0.0014031475875526667, -0.005143747199326754, -0.0061174980364739895, 0.01154976338148117, 0.061021704226732254, 0.007875658571720123, -0.05326776206493378, -0.028797771781682968, -0.01156779658049345, 0.031123952940106392, 0.017861109226942062, 0.017121780663728714, -0.024469992145895958, -0.044828590005636215, -0.009394889697432518, -0.03491076081991196, -0.006442081183195114, -0.050130121409893036, 0.010648142546415329, -0.036840230226516724, -0.020773345604538918, -0.019745497032999992, -0.013028422370553017, -0.015255426056683064, -0.0032931703608483076, 0.011270261369645596, -0.03873363509774208, 0.04493678733706474, 0.004397655837237835, -0.013930043205618858, 0.0055224280804395676, 0.003940083552151918, -0.02003401704132557, 0.021133994683623314, -0.04731706529855728, -0.03651564568281174, -0.06852319091558456, -0.023640500381588936, -0.011423536576330662, -0.019276654347777367, -0.010179299861192703, -0.004032499622553587, 0.019745497032999992, -0.01246040128171444, 0.027283048257231712, 0.024506056681275368, -0.0012273314641788602, 0.010098153725266457, 0.0033359972294420004, -0.030907563865184784, -0.03473043814301491, 0.054457902908325195, 0.057811930775642395, -0.01755455881357193, -0.00623020064085722, 0.029897749423980713, -0.0001415826554875821, -0.013848897069692612, 0.006013811565935612, 0.000311904470436275, -0.0034171431325376034, -0.03280096873641014, -0.019637303426861763, -0.01636441983282566, 0.026219135150313377, -0.0028355978429317474, -0.01951107569038868, -0.02425360307097435, -0.00691994046792388, 0.006527735386043787, -0.023568371310830116, 0.00207147398032248, -0.004411180038005114, -0.03559599444270134, 0.02932071126997471, -0.014317739754915237, 0.009313743561506271, 0.00161390146240592, 0.008299420587718487, -0.012730887159705162, -0.0184651967138052, 0.04497285187244415, 0.0041722506284713745, -0.010476835072040558, -0.025642098858952522, 0.018402082845568657, 0.02160283736884594, 0.025101125240325928, -0.016625888645648956, -0.00869162566959858, 0.018329953774809837, -0.036389417946338654, 0.027138788253068924, -0.0020286471117287874, 0.0005683029303327203, -0.035018954426050186, -0.0016432041302323341, -0.02059302106499672, 0.0221979059278965, -0.013325956650078297, -0.0002503406722098589, -0.030240364372730255, 0.0016499662306159735, -0.00830843672156334, 0.01787012629210949, 0.007943280041217804, 0.02708469144999981, -0.004656871780753136, -0.0012656503822654486, -0.04003196954727173, 0.023406079038977623, -0.009128911420702934, 0.0326567105948925, -0.0406811349093914, 0.016526710242033005, -0.018717650324106216, 0.007483453489840031, 0.001636441913433373, -0.02227003686130047, 0.001154074794612825, -0.017770947888493538, 0.007767464034259319, 0.006739616394042969, 0.03667793795466423, 0.0077178748324513435, -0.0028243274427950382, -0.005905617028474808, 0.008064999245107174, -0.029014160856604576, 0.003780045546591282, 0.01667998731136322, 0.02055695652961731, -0.03088953159749508, -0.002628224901854992, 0.021656934171915054, 0.00023892954050097615, -0.017329154536128044, 0.02582242339849472, -0.010864531621336937, -0.03029446303844452, 0.006608881056308746, 0.0010701112914830446, 0.012604660354554653, 0.026651913300156593, 0.009286695159971714, -0.06989365071058273, -0.017112765461206436, 0.017229976132512093, 0.0013648286694660783, 0.020737281069159508, 0.004787607118487358, 0.00020483699336182326, 0.013542345724999905, 0.009647343307733536, -0.007681810297071934, -0.02712075598537922, -0.02659781649708748, -0.0067215836606919765, -0.0006970656686462462, -0.0007849736721254885, -0.008876457810401917, 0.018555358052253723, -0.005040060728788376, -0.006040859967470169, -0.0003079598827753216, 0.03873363509774208, -0.002524538431316614, -0.026507655158638954, 0.04288109019398689, 0.0028829327784478664, -0.012072703801095486, 0.011820250190794468, -0.017491444945335388, -0.03308948874473572, 0.005396201275289059, 0.014218561351299286, 0.047028545290231705, 0.00019863835768774152, -0.023297883570194244, 0.04129423573613167, -0.025317514315247536, 0.003942337352782488, 0.0014177989214658737, -0.020430728793144226, -0.028419090434908867, -0.04075326398015022, -0.013884961605072021, 0.001855085021816194, -0.023460175842046738, -0.005441281944513321, 0.002050060546025634, 0.02585848793387413, 0.0010391180403530598, -0.0028874408453702927, 0.019655335694551468, -0.002366754924878478, -0.02593061700463295, 0.031069856137037277, 0.013343988917768002, -0.014489048160612583, 0.0033698081970214844, 0.04197946935892105, -0.00036008484312333167, -0.016589824110269547, -0.02003401704132557, 0.017843076959252357, -0.011089936830103397, 0.032440319657325745, 0.02962726354598999, 0.040464747697114944, -0.03647958114743233, 0.04353025555610657, -0.0006491670501418412, -0.021909387782216072, 0.05359234660863876, 0.0036109916400164366, -0.019673367962241173, -0.0388057641685009, 0.031123952940106392, 0.003574926871806383, 0.005599065683782101, 0.04753345251083374, -0.017572591081261635, 0.019348785281181335, 0.02048482745885849, -0.044395811855793, -0.012433351948857307, 0.03440585359930992, -0.0019598985090851784, 0.0227569118142128, -0.008894490078091621, 0.022991333156824112, 0.024307699874043465, 0.004073072224855423, 0.004481055773794651, 0.01608491688966751, -0.029374809935688972, 0.03678613156080246, -0.012559578754007816, -0.03202557563781738, 0.012649741023778915, 0.000413900357671082, -0.021837258711457253, -0.014930842444300652, 0.013930043205618858, 0.03909428417682648, -0.0054322658106684685, 0.030655110254883766, -0.009737505577504635, -0.01741931587457657, 0.004113645292818546, 0.010918629355728626, -0.01850126124918461, 0.005526936147361994, 0.035055018961429596, -0.013127600774168968, -0.00314891105517745, 0.02436179667711258, -0.006473638117313385, 0.024091310799121857, -0.003978402353823185, 0.002312657656148076, 0.03211573511362076, 0.00623020064085722, -0.006748632527887821, -0.025209320709109306, -0.024632282555103302, 0.020358599722385406, 0.04342206194996834, -0.015011987648904324, 0.010702240280807018, 0.0075014857575297356, -0.0018866417231038213, -0.01601278781890869, 0.030546916648745537, 0.009665376506745815, 0.010404705069959164, 0.000318103120662272, 0.004508104640990496, 0.024830639362335205, 0.003063257085159421, 0.004059548024088144, 0.0005519610713236034, 0.022252004593610764, -0.026669945567846298, 0.024379828944802284, 0.02872564271092415, -0.016355402767658234, 0.009728489443659782, -0.007388783153146505, 0.0018032417865470052, 0.02585848793387413, 0.009566198103129864, -0.007776480168104172, 0.020791377872228622, -0.005206860601902008, 0.030204299837350845, 0.027896150946617126, -0.027265015989542007, 0.031340342015028, 0.015516895800828934, -0.013425135053694248, -0.029266614466905594, -0.014921826310455799, 0.01933075301349163, 0.0053240712732076645, -0.030420688912272453, -0.02279297634959221, 0.008168685249984264, 0.0040167211554944515, -0.02302739769220352, -0.016184095293283463, -0.01111698616296053, -0.03162886202335358, 0.005729801021516323, 0.030691174790263176, -0.00019314410747028887, 0.012397287413477898, -0.016463598236441612, 0.03381078317761421, -0.00503555266186595, -0.014840680174529552, 0.015390668995678425, 0.031051823869347572, 0.0060093034990131855, -0.009845700114965439, -0.026471590623259544, 0.021783161908388138, 0.009854716248810291, 0.013677588663995266, -0.0005714022554457188, -0.0004217895329929888, 0.004963423125445843, 0.01895207166671753, 0.00040347536560148, -0.00833999365568161, -0.03963525593280792, -0.005342104006558657, -0.017491444945335388, -0.016202127560973167, 0.007817053236067295, -0.025119157508015633, 0.021512674167752266, -0.012307125143706799, 0.027517469599843025, -0.0221979059278965, -0.006910924334079027, 0.008258847519755363, -0.024488024413585663, -0.03747136518359184, 0.008596954867243767, -0.047100674360990524, 0.00764123722910881, 0.015480831265449524, 0.031250178813934326, -0.0025944141671061516, -0.0038296347483992577, 0.01246040128171444, 0.00029330854886211455]\n"
     ]
    }
   ],
   "source": [
    "documents = [\n",
    "    \"인공지능은 컴퓨터 과학의 한 분야입니다.\",\n",
    "    \"머신러닝은 인공지능의 하위 분야입니다.\",\n",
    "    \"딥러닝은 머신러닝의 한 종류입니다.\",\n",
    "    \"자연어 처리는 컴퓨터가 인간의 언어를 이해하고 생성하는 기술입니다.\",\n",
    "    \"컴퓨터 비전은 컴퓨터가 디지털 이미지나 비디오를 이해하는 방법을 연구합니다.\"\n",
    "\n",
    "]\n",
    "\n",
    "document_embeddings = embeddings_model.embed_documents(documents)\n",
    "\n",
    "print(f'임베딩 벡터의 개수 : {len(document_embeddings)}')\n",
    "print(f'임베딩 벡터의 차원: {len(document_embeddings[0])}') # 이것이 크다는 것은 문맥의 의미를 더 잘 이해한다는 것임\n",
    "print(document_embeddings[0])"
   ]
  },
  {
   "cell_type": "code",
   "execution_count": 40,
   "id": "980d2dc3",
   "metadata": {},
   "outputs": [
    {
     "name": "stdout",
     "output_type": "stream",
     "text": [
      "임베딩 벡터의 차원: 1536)\n",
      "[-0.02091635763645172, 0.02398630976676941, 0.0015708074206486344, 0.0022573855239897966, 0.012233573012053967, -0.03739422932267189, -0.02559526078402996, 0.04064911976456642, -0.004914696794003248, 0.015016872435808182, -0.001784640597179532, -0.004621109459549189, -0.008174208924174309, -0.07745154947042465, 0.002212307183071971, -0.01989920437335968, -0.0551481693983078, -0.027943957597017288, 0.018077576532959938, -0.06998010724782944, -0.031050896272063255, 0.027426134794950485, -0.04157380387187004, 0.001499144360423088, 0.010106799192726612, -0.0519302673637867, 0.007268018089234829, -0.008271300233900547, -0.0041865077801048756, -0.03506402671337128, 0.03413934260606766, -0.022784220054745674, -0.003042211290448904, -0.05640573799610138, 0.051708344370126724, -0.00659762229770422, 0.006819546222686768, -0.018780337646603584, -0.010217760689556599, 0.022987650707364082, -0.013888757675886154, 0.033418089151382446, 0.006371074356138706, 0.02964537777006626, -0.047232870012521744, 0.02922002226114273, -0.029441947117447853, 0.004979424644261599, -0.009515000507235527, 0.046604085713624954, -0.04789864271879196, 0.027185717597603798, -0.00408941600471735, 0.00639881519600749, -0.0067178308963775635, 0.05492624267935753, 0.006759441923350096, 0.02724119834601879, -0.007212537340819836, 0.05067269876599312, -0.007721113506704569, -0.00437375670298934, 0.008802994154393673, 0.03608117997646332, -0.06520873308181763, -0.01144759077578783, -0.010781818069517612, 0.036654483526945114, -0.04061213135719299, -0.03001525066792965, 0.03928058594465256, -0.0008570667123422027, -0.07116369903087616, -0.0074945660308003426, -0.01332470029592514, 0.012954826466739178, -0.01744879223406315, 0.041129954159259796, 0.005150491371750832, 0.01893753372132778, 0.016339169815182686, 0.01374080777168274, 0.009995836764574051, -0.04493965581059456, -0.009269959293305874, -0.02428220771253109, -0.03460168465971947, -0.049563076347112656, -0.049932949244976044, 0.006278606131672859, -0.02437467686831951, 0.05333578586578369, -0.024393171072006226, 0.024855513125658035, -0.024337690323591232, 0.04220258817076683, 0.07885707169771194, -0.00542789651080966, 0.002561375265941024, 0.024097271263599396, -0.03351055830717087, -0.00809561088681221, 0.016431638970971107, 0.03828192874789238, 0.022617775946855545, -0.05603586509823799, -0.010828052647411823, 0.021915016695857048, 0.021859535947442055, 0.010522906668484211, 0.01812381111085415, 0.009246842935681343, -0.08100233972072601, 0.045050617307424545, -0.01682000607252121, -0.00435295095667243, 0.00889546237885952, -0.03304821625351906, -0.018771089613437653, -0.04120393097400665, -0.0286652110517025, 0.0026284148916602135, 0.028850149363279343, -0.009681443683803082, -0.02988579496741295, -0.02108280174434185, -0.0012182715581730008, -0.03683942183852196, -0.0198622178286314, -0.00424892408773303, -0.010818805545568466, 0.0194738507270813, -0.03659900277853012, 0.004334457218647003, 0.022580789402127266, -0.06661425530910492, 0.021526649594306946, 0.04575337842106819, -0.019344395026564598, -0.05721946060657501, 0.021822547540068626, -0.009894121438264847, -0.02563224732875824, -0.0029058202635496855, -0.04793563112616539, -0.03462017700076103, -0.011983907781541348, -0.020805396139621735, 0.0036478794645518064, 0.000979587435722351, -0.06739098578691483, -0.009376298636198044, -0.047195885330438614, -0.03077349252998829, -0.04671504721045494, 0.03217901289463043, -0.011345875449478626, 0.030976923182606697, -0.002118682721629739, -0.003645567689090967, -0.02896111086010933, -0.00757778761908412, -0.006777935661375523, 0.004718201234936714, -0.04882332682609558, 0.049932949244976044, -0.021767066791653633, -0.002984418533742428, 0.0099311089143157, -0.014702479355037212, -0.0519302673637867, 0.006921261548995972, -0.023376017808914185, 0.00973692536354065, 0.002820286899805069, -0.01858615316450596, 0.020731421187520027, -0.0015534695703536272, -0.01325997244566679, -0.04693697392940521, -0.047750696539878845, -0.029774833470582962, -0.03482360765337944, 0.021748574450612068, -0.03609967231750488, 0.014933650381863117, -0.01593231037259102, -0.01203938852995634, 0.004211936611682177, 0.022321878001093864, 0.010365710593760014, 0.04127790406346321, 0.04131489247083664, 0.028776174411177635, -0.0011928427265956998, -0.023782879114151, -0.010217760689556599, -0.01090202759951353, 0.02668638713657856, 0.013185997493565083, 0.04279438778758049, -0.05629477649927139, 0.030255667865276337, -0.0010067499242722988, 0.0014898974914103746, 0.024892499670386314, 0.04826851934194565, -0.006537517532706261, -0.04257246106863022, -0.0044014970771968365, 0.028572743758559227, -0.01770770363509655, 0.0659484788775444, -0.048971276730298996, -0.01901150867342949, -0.020139623433351517, 0.024966474622488022, 0.03735724464058876, -0.03511950746178627, 0.02740764059126377, -0.03820795193314552, 0.009561235085129738, -0.0169032271951437, 0.007624021731317043, -0.01762448251247406, 0.014767207205295563, 0.01779092475771904, -0.036746952682733536, 0.019880712032318115, -0.036284610629081726, -0.03528594970703125, -0.021526649594306946, 0.008007765747606754, -0.008359145373106003, -0.026593919843435287, -0.020509496331214905, -0.011355122551321983, -0.00516436155885458, 0.014129175804555416, 0.01530352421104908, 0.007175549864768982, 0.028424793854355812, -0.008090986870229244, 0.007573164068162441, 0.010356463491916656, 0.015913816168904305, 0.028276843950152397, 0.024226726964116096, -0.005571222398430109, -0.010116045363247395, 0.014896662905812263, -0.030052239075303078, 0.04212861508131027, -0.010402698069810867, -0.0013696885434910655, -0.0014413516037166119, 0.026205550879240036, 0.03523046895861626, -0.0019950063433498144, 0.030422111973166466, 0.0018586153164505959, 0.024393171072006226, -0.02626103349030018, -0.021600624546408653, 0.0031901607289910316, 0.004063987173140049, 0.02184104174375534, 0.021693091839551926, -0.0011177121195942163, -0.039317574352025986, -0.039983347058296204, 0.010911273770034313, 0.01614498719573021, -0.017772430554032326, -0.018447451293468475, 0.009186738170683384, 0.0004346015921328217, -0.000418708601500839, -0.02470756322145462, 0.035729799419641495, -0.03854084014892578, -0.008405379951000214, 0.035692811012268066, -0.02230338379740715, 0.012316794134676456, 0.00914975069463253, -0.005150491371750832, -0.06047435104846954, -0.045938313007354736, -0.021064307540655136, 0.08159413933753967, -0.00639881519600749, 0.011438344605267048, 0.024984968826174736, 0.029737845063209534, -0.005700678564608097, 0.03249340504407883, 0.04582735151052475, -0.0040940395556390285, 0.009672197513282299, 0.08211196213960648, -0.03212353214621544, -0.06986913830041885, -0.04246149957180023, -0.0318831130862236, 0.06801977008581161, -0.04797261953353882, 0.013574364595115185, 0.007804335094988346, -0.019806737080216408, 0.02909056656062603, 0.03212353214621544, 0.04009430855512619, -0.02922002226114273, -0.008668914437294006, -0.029756339266896248, 0.012769889086484909, -0.012788383290171623, 0.052263155579566956, 1.634451655263547e-05, 0.0002444633864797652, -0.01117018610239029, -0.0009605157538317144, -0.016755279153585434, -0.04364509508013725, -0.008784499950706959, 0.008923202753067017, 0.0018239397322759032, -0.027222704142332077, -0.031975582242012024, 0.0359332300722599, 0.04852743074297905, -0.0285357553511858, -0.013713067397475243, -0.004070922266691923, -0.0009373986395075917, -0.032271482050418854, 0.011983907781541348, -0.04290534928441048, -0.04013129696249962, -0.04423689469695091, 0.021730080246925354, -0.0730130672454834, 0.03449072316288948, 0.04497664049267769, -0.02145267464220524, -0.029534414410591125, -0.011142444796860218, -0.0007160523673519492, 0.03217901289463043, 0.037708625197410583, -0.028147388249635696, -0.003303434466943145, -0.051412444561719894, -0.04149983078241348, -0.004329834133386612, -0.0056960550136864185, 0.012085623107850552, -0.01399971917271614, -0.02988579496741295, -0.07974477112293243, -0.027943957597017288, 0.03787506744265556, 0.03957648575305939, 0.01072633732110262, -0.0008143000886775553, 0.01711590588092804, -0.011724996380507946, 0.003328863298520446, -0.025521285831928253, -0.009237595833837986, -0.02204447239637375, 0.016080258414149284, -0.049637049436569214, -0.008719772100448608, -0.001652873121201992, -0.01523879636079073, 0.03158721327781677, -0.024559613317251205, 0.015118587762117386, 0.008571823127567768, 0.031106378883123398, -0.022488320246338844, -0.05673862621188164, -0.018188539892435074, 0.01682000607252121, 0.00673632463440299, -0.03443524241447449, -0.05910581722855568, 0.04671504721045494, 0.03883673995733261, -0.03127282112836838, -0.024966474622488022, -0.014480555430054665, -0.06868554651737213, 0.0017256919527426362, -0.016292937099933624, -0.022617775946855545, -0.018391970545053482, -0.0019510837737470865, -0.016034025698900223, -0.007674879394471645, -0.007018353324383497, -0.029571402817964554, -0.0012980254832655191, -0.03508251905441284, 0.026834337040781975, 0.04682600870728493, -0.004290535114705563, 0.05851401761174202, 0.04726985841989517, -0.03295574709773064, 0.04908223822712898, -0.001561560551635921, -0.010162279941141605, -0.03317767009139061, 0.0025706221349537373, -0.0034721894189715385, 0.011530812829732895, 0.008151091635227203, 0.019325900822877884, -0.000870359071996063, -0.006301722954958677, -0.050783660262823105, -0.0008275923901237547, 0.010615374892950058, 0.03001525066792965, 0.01387026347219944, 0.07068286091089249, -0.03630310297012329, 0.01993619278073311, 0.02997826412320137, -0.023043131455779076, -0.019159458577632904, -0.05041378363966942, 0.0198622178286314, 0.025854172185063362, -0.01391649805009365, 0.01640389859676361, 0.028221363201737404, -0.016958709806203842, -0.025521285831928253, 0.011096211150288582, -0.03158721327781677, -0.05056173354387283, 0.021101294085383415, -0.04005732014775276, 0.002995976945385337, -0.03476812690496445, -0.07967079430818558, -0.0027000780683010817, -0.030459098517894745, 0.036654483526945114, 0.06417308747768402, 0.001203245366923511, -0.047787681221961975, 0.01787414588034153, -0.005515741650015116, 0.007411344442516565, 0.01783715933561325, -0.03739422932267189, -0.017726197838783264, -0.003832816146314144, 0.034675657749176025, 0.0010980624938383698, -0.011706502176821232, -0.000724143348634243, 0.011031483300030231, -0.04157380387187004, 0.00025414369883947074, -0.08100233972072601, -0.051745329052209854, 0.04889730364084244, -0.018558412790298462, 0.01876184344291687, 0.0365065336227417, 0.01729159615933895, -0.029941275715827942, -0.03327013924717903, 0.014064447022974491, 0.00955198798328638, -0.013158257119357586, 0.012409262359142303, 0.002903508488088846, 0.04124091938138008, 0.046567097306251526, -0.06184288114309311, -0.012575705535709858, 0.04604927450418472, -0.011068470776081085, -0.014425074681639671, -0.028147388249635696, 0.07427063584327698, -0.00015286185953300446, 0.04634517431259155, 0.017180632799863815, 0.00845161359757185, -0.04682600870728493, -0.0018539918819442391, -0.002942807739600539, 0.0014205462066456676, -0.03156872093677521, -0.03382495045661926, 0.044495806097984314, -0.01117018610239029, -0.011660268530249596, -0.004817605018615723, 0.022784220054745674, -0.012020895257592201, -0.02714872919023037, -0.0036663729697465897, 0.020842382684350014, 0.0002875190111808479, 0.0142678776755929, -0.0006779091199859977, 0.02407877705991268, -0.00862268079072237, 0.03781958669424057, 0.02777751535177231, -0.017772430554032326, 0.006981366313993931, 0.004168014042079449, -0.014526790007948875, -0.0011622125748544931, 0.0004964398685842752, -0.05004391074180603, -0.0327153280377388, -0.012973319739103317, -0.011503072455525398, -0.02184104174375534, 0.009921861812472343, 0.003941466566175222, 0.01374080777168274, -0.006495906971395016, -0.020934851840138435, 0.00855795294046402, 0.03182763233780861, 0.014055200852453709, -0.016514860093593597, 0.031476251780986786, 0.014045953750610352, 0.022673258557915688, 0.009256089106202126, -0.009653703309595585, -0.0024966474156826735, 0.005395532585680485, -0.0142678776755929, -0.04934115335345268, -0.01804983615875244, 0.05085763335227966, 0.03752368688583374, 0.00843312032520771, 0.022969156503677368, -0.030218681320548058, 0.0312358345836401, 0.015257290564477444, -0.0014864299446344376, -0.009376298636198044, 0.002461971715092659, -0.005515741650015116, -0.0041379621252417564, -0.008590316399931908, -0.02639048919081688, -0.015460720285773277, -0.005423272959887981, -0.009158997796475887, 0.026002120226621628, -0.019695773720741272, 0.020842382684350014, 0.019751256331801414, -0.05278097838163376, 0.011244160123169422, -0.0076055279932916164, 0.043534133583307266, -0.030625542625784874, -0.01723611354827881, 0.01737481728196144, -0.040797069668769836, 0.003927596379071474, 0.036451052874326706, 0.004960930906236172, -0.0016621199902147055, 0.004463913384824991, 0.008844604715704918, 0.029922781512141228, 0.0029243140015751123, -0.012899345718324184, 0.03861481323838234, 0.0067686885595321655, 0.005709925200790167, 0.03234545513987541, -0.001821627956815064, 0.006777935661375523, -0.052670013159513474, -0.0010258215479552746, -0.0002866521244868636, 0.014970637857913971, 0.005349298473447561, -0.01313051674515009, 0.03149474412202835, 0.004098663106560707, 0.012603445909917355, 0.014129175804555416, -0.0020169676281511784, -0.018022095784544945, -0.018956027925014496, -0.0024850890040397644, 0.02230338379740715, 0.02529936097562313, -0.039021674543619156, -0.012520224787294865, -0.0013396362774074078, -0.0003626496181823313, -0.021064307540655136, -0.042387526482343674, -0.008067870512604713, -0.006084422580897808, 0.019418369978666306, 0.04860140383243561, -0.02250681445002556, -0.022025978192687035, -0.012834617868065834, 0.05033981055021286, -0.015164821408689022, -0.019547825679183006, -0.023727398365736008, -0.016052518039941788, 0.0003031230589840561, -0.0278329961001873, -0.0008489757310599089, 0.002577557461336255, 0.07560218125581741, -0.0198622178286314, 0.016302183270454407, 0.004329834133386612, -0.05237411707639694, -0.012843864038586617, -0.013112022541463375, 0.023801373317837715, -0.016681304201483727, -0.025151411071419716, 0.014785701408982277, 0.01943686231970787, -0.03465716540813446, 0.013833275996148586, -0.003638632595539093, -0.03047759272158146, -0.022654764354228973, 0.02091635763645172, -0.014508295804262161, -0.011678761802613735, -0.03835590183734894, -0.03563733026385307, -0.0034652543254196644, 0.023967815563082695, -0.008183456026017666, -0.011086964048445225, -0.011271901428699493, 0.02899809740483761, -0.018993014469742775, 0.009921861812472343, -0.016255948692560196, 0.02285819500684738, 0.0032687587663531303, -0.011068470776081085, 0.03548938035964966, 0.04549446329474449, 0.028480274602770805, 0.02065744623541832, -0.012270559556782246, -0.04967403784394264, -0.015506954863667488, -0.01332470029592514, 0.01098524872213602, -0.013639092445373535, 0.01584908738732338, -0.034046873450279236, 0.005307687446475029, 0.012890098616480827, 0.007018353324383497, -0.007277265191078186, 0.010319476015865803, -0.023117106407880783, -0.019048495218157768, 0.03116185963153839, 0.03247491270303726, 0.045087605714797974, 0.016875486820936203, -0.002947431057691574, -0.05903184413909912, 0.0013118957867845893, 0.027629565447568893, 0.00929307658225298, -0.002683896105736494, -0.04301631078124046, 0.028739186003804207, -0.001558093004859984, 0.013232232071459293, -0.0338064543902874, 0.04423689469695091, -0.015738125890493393, 0.03794904053211212, 0.008853851817548275, -0.028609730303287506, -0.0061214095912873745, -0.008423873223364353, 0.02622404508292675, -0.015673398971557617, 0.021933510899543762, 0.011040730401873589, -0.022229408845305443, -0.00011681362957460806, 0.007980025373399258, -0.016746031120419502, 0.020638952031731606, 0.02259928360581398, 0.04309028759598732, -0.004600304178893566, 0.00031439264421351254, -0.02516990527510643, -0.01761523447930813, -0.007022976875305176, 0.005728418938815594, -0.013038047589361668, 0.0027809878811240196, -0.015081600286066532, -0.05085763335227966, -0.002965924795717001, -0.02816588245332241, -0.014499048702418804, -0.0013003372587263584, -0.027537096291780472, -0.02681584283709526, 0.010217760689556599, 0.05241110175848007, -0.00855795294046402, -0.028406299650669098, -0.0018054459942504764, -0.04800960794091225, -0.005663691088557243, 0.0332331508398056, -0.008585693314671516, 0.02820286899805069, -0.02859123796224594, -0.02596513368189335, 0.017430298030376434, -0.013444908894598484, 0.04575337842106819, 0.02859123796224594, -0.01804983615875244, -0.00023767274979036301, -0.00166789919603616, 0.01787414588034153, -0.0001517060154583305, 0.0025937394239008427, 0.014203149825334549, 0.014637751504778862, -0.025114424526691437, 0.0312358345836401, 0.008950943127274513, 0.011614033952355385, -0.00765176210552454, 0.009561235085129738, 0.02289518155157566, -0.0012055571423843503, 0.002577557461336255, 0.006301722954958677, 0.005330804735422134, 0.011262654326856136, 0.029996756464242935, -0.007984648458659649, -0.00536316866055131, 0.02677885629236698, 0.015923062339425087, 0.03828192874789238, 0.01045817881822586, -0.0013361687306314707, -0.04061213135719299, -0.012843864038586617, 0.01976974867284298, -0.005400156136602163, 0.003777335165068507, -0.000936242809984833, -0.0017603676533326507, -0.009071152657270432, -0.00045742973452433944, 0.021064307540655136, 0.007346616592258215, -0.003638632595539093, -0.01897452026605606, -0.004380691796541214, 0.030070731416344643, 0.0006946690264157951, -0.023080118000507355, -0.010060564614832401, 0.013953485526144505, 0.007614774629473686, 0.016468627378344536, 0.019159458577632904, -0.024947980418801308, 0.010550647042691708, 0.028258351609110832, 0.02740764059126377, 0.04431086778640747, 0.020897863432765007, 0.005746912676841021, -0.018752597272396088, 0.03761615604162216, -0.0278329961001873, -0.03399139270186424, 0.0247445497661829, 0.012566459365189075, -0.027463121339678764, 0.019288914278149605, -0.023727398365736008, -0.019196445122361183, -0.004251235630363226, -0.011160939000546932, -0.0036964253522455692, -0.014785701408982277, 0.03364001214504242, -0.009625962935388088, 0.0278329961001873, -0.01117018610239029, 0.03608117997646332, 0.024689069017767906, -0.02836931310594082, -0.004410743713378906, -0.02589115872979164, 0.007998518645763397, 0.06698412448167801, 0.020860876888036728, 0.022321878001093864, -0.0018863559234887362, 0.027296679094433784, 0.006962872575968504, -0.007887556217610836, -0.02820286899805069, -0.028091907501220703, 0.011308887973427773, -0.03031115047633648, 0.0019071613205596805, -0.011789724230766296, 0.05666464939713478, -0.025373335927724838, 0.022950662299990654, -0.01930740661919117, 0.008146468549966812, 0.027167223393917084, -0.017642974853515625, -0.025558272376656532, -0.011854452081024647, 0.05666464939713478, 0.006458919495344162, 0.042646437883377075, 0.005631327163428068, 0.011336629278957844, -0.013953485526144505, -0.0028064167127013206, -0.029238516464829445, -0.006052058655768633, 0.030200187116861343, 0.034971557557582855, 0.006204631179571152, 0.021656105294823647, -0.005802393890917301, -0.005011788569390774, -0.004618797916918993, -0.00908502284437418, -0.010763324797153473, 0.02799943834543228, 0.028887135908007622, -0.028424793854355812, -0.01939987577497959, 0.024467146024107933, -0.0024388546589761972, 0.001532664173282683, 0.0673540011048317, -0.012890098616480827, -0.01876184344291687, 0.021304724738001823, -0.055037207901477814, -0.0008460860699415207, -0.028313832357525826, -0.03321465849876404, -0.019658787176012993, 0.005733042489737272, 0.030033744871616364, -0.020047154277563095, 0.02470756322145462, 0.012159598059952259, -0.021952003240585327, 0.01850293204188347, -0.027185717597603798, 0.01657034270465374, 0.0345831923186779, 0.016163481399416924, 0.028406299650669098, 0.0011951543856412172, -0.011262654326856136, 0.005987330339848995, -0.03478662297129631, -0.00849784817546606, -0.02006564848124981, -0.007855192758142948, 0.03558184951543808, 0.029330983757972717, 0.036820925772190094, 0.02074991539120674, -0.013296959921717644, -0.010578387416899204, 0.025539778172969818, 0.02141568809747696, -0.028646718710660934, -0.0036848667077720165, -0.021619116887450218, -0.007827452383935452, 0.010966755449771881, -0.04009430855512619, -0.05159738287329674, 0.01197466067969799, 0.01657034270465374, 0.005575845949351788, 0.007873686030507088, 0.003932219929993153, 0.011835958808660507, -0.02859123796224594, -0.023080118000507355, -0.012769889086484909, 0.0013465714873746037, -0.015026119537651539, -0.02648295648396015, -0.012621940113604069, 0.015442227013409138, 0.010670856572687626, 0.0035346054937690496, -0.02685283124446869, 0.0038305046036839485, -0.0018597712041810155, -0.07216235995292664, -0.002942807739600539, -0.02790697105228901, -0.014406580477952957, -0.010504413396120071, -0.02635350078344345, -0.0016089505515992641, 0.015395992435514927, 0.03247491270303726, 0.004722824785858393, 0.03656201437115669, 0.03587774932384491, -0.0691663846373558, 0.03652502968907356, 0.0056868079118430614, 0.011410603299736977, -0.009977343492209911, 0.06402513384819031, 0.006842663511633873, -0.010689349845051765, -0.0033519803546369076, 0.010661609470844269, -0.02137869969010353, 0.009533494710922241, -0.025780197232961655, 0.004408432170748711, -0.007993895560503006, 0.008151091635227203, 0.019344395026564598, 0.007984648458659649, 0.021471168845891953, -0.027167223393917084, 0.010957508347928524, 0.028054920956492424, 0.01178047712892294, 0.012215078808367252, 0.007614774629473686, 0.023505473509430885, -0.014545283280313015, -0.007129315752536058, -0.004752877168357372, 0.044754717499017715, -0.0011298485333099961, 0.0013488831464201212, -0.024300701916217804, 0.030126212164759636, 0.030329642817378044, 0.020250584930181503, 0.028350818902254105, -0.007610151544213295, 0.013065788894891739, 0.0002347831177758053, -0.054445408284664154, 0.020860876888036728, -0.022192422300577164, 0.05063571035861969, -0.02467057667672634, -0.0019060054328292608, -0.02319108135998249, 0.013676079921424389, -0.01469323318451643, 0.007046094164252281, 0.05089462175965309, -0.003331175073981285, -0.01528503093868494, -0.02356095425784588, -0.029109060764312744, -0.02302463725209236, -0.01678301952779293, -0.007591657806187868, 0.022099953144788742, 0.02981182001531124, 0.02420823462307453, 0.016884734854102135, 0.0013303894083946943, 0.0208238884806633, 0.025835677981376648, -0.042979322373867035, -0.006759441923350096, 0.042091626673936844, -0.0010911274002864957, 0.018734103068709373, 0.0055249882861971855, 0.042979322373867035, -0.042979322373867035, 0.030958428978919983, -0.023043131455779076, 0.012261313386261463, -0.004984048195183277, 0.03519348427653313, -0.0031000040471553802, -0.009607469663023949, 0.008516342379152775, 0.008729019202291965, 0.020417029038071632, -0.01914096437394619, 0.04124091938138008, -0.02786998264491558, -0.016135741025209427, 0.05496323108673096, 0.008696655742824078, -0.00982014648616314, 0.010781818069517612, -0.042054638266563416, 0.030089225620031357, 0.02028757333755493, 0.006260112393647432, -0.03608117997646332, 0.018854312598705292, 0.02099033258855343, 0.04279438778758049, 0.024226726964116096, -0.011928427033126354, -0.010976001620292664, 0.020250584930181503, -0.009385544806718826, 0.007254147902131081, -0.04934115335345268, 0.003881362034007907, -0.010559894144535065, 0.0004897937178611755, 0.0010287112090736628, -0.023542461916804314, -0.03103240393102169, 0.015109340660274029, -0.0036964253522455692, -0.015580929815769196, -0.0029081320390105247, -0.007993895560503006, -0.001755744218826294, 0.006805676035583019, 0.0034583189990371466, 5.627570499200374e-05, 0.025613753125071526, -0.04186970368027687, 0.014563776552677155, 0.03763464838266373, -0.03277080878615379, -0.03469415381550789, 0.010430438444018364, 0.011919179931282997, 0.03634009137749672, 0.014323359355330467, 0.018863558769226074, 0.023080118000507355, 0.01647787354886532, 0.034046873450279236, 0.016773771494627, 0.02263627015054226, 0.016940215602517128, 0.018308747559785843, -0.01699569635093212, -0.0037334125954657793, -0.01325997244566679, -0.019510837271809578, -0.005538858473300934, 0.026002120226621628, -0.0011714593274518847, 0.02664940059185028, 0.03277080878615379, -0.030976923182606697, -0.0014552217908203602, 0.03957648575305939, -0.007624021731317043, 0.022099953144788742, -0.01092052087187767, -0.01433260552585125, -0.001718756859190762, -0.03397290036082268, 0.027796007692813873, 0.031180353835225105, 0.01092052087187767, 0.017125152051448822, 0.00044413740397430956, -0.019455356523394585, -0.009561235085129738, 0.015923062339425087, -0.0026931429747492075, 0.007531553041189909, 0.026316514238715172, 0.016561094671487808, -0.021859535947442055, 0.0014794948510825634, -0.03924360126256943, 0.012779136188328266, 0.014637751504778862, 0.016810759902000427, -0.021193763241171837, 0.036783941090106964, 0.01758749410510063, -0.00857644621282816, 0.008567200042307377, 0.015969296917319298, 0.010282488539814949, -0.024337690323591232, 0.019492344930768013, -0.05481528118252754, 0.014045953750610352, -0.005395532585680485, 6.534194835694507e-05, 0.0005510540213435888, -0.016921721398830414, -0.010485919192433357, -0.0033704740926623344, 0.007864439859986305, -0.014933650381863117, 0.027056261897087097, -0.013149010017514229, 0.0015881451545283198, 0.003273382317274809, 3.0792707548243925e-05, -0.014545283280313015, -0.005598963238298893, -0.00973692536354065, 0.014813441783189774, -0.01475796103477478, -0.04493965581059456, -0.02128623053431511, 0.0001107453863369301, -0.043534133583307266, 0.03744971379637718, 0.006232372019439936, -0.032567378133535385, -0.015451474115252495, 0.031513240188360214, -0.02441166341304779, 0.02803642675280571, -0.007383603602647781, -0.009561235085129738, 0.037375736981630325, 0.004762123804539442, -0.006583751644939184, 0.007665632292628288, -0.01340792141854763, 0.0044431076385080814, 0.016838500276207924, 0.02415275201201439, 0.012723655439913273, -0.015590176917612553, 0.015987791121006012, -0.032234493643045425, 0.0354154072701931, 0.04094501957297325, 0.03103240393102169, -0.009773912839591503, -0.009195985272526741, 0.016893981024622917, 0.005571222398430109, 0.01682000607252121, 0.017596742138266563, -0.027722034603357315, -0.024226726964116096, 0.007984648458659649, -0.031346797943115234, 0.0030676398891955614, -0.021008826792240143, -0.013001060113310814, -0.0600305013358593, -0.036488041281700134, 0.011077716946601868, -0.006764065474271774, -0.008141844533383846, -0.0011292706476524472, -0.02032455988228321, -0.025243880227208138, 0.04286836087703705, -0.011336629278957844, -0.03317767009139061, -0.00713393883779645, 0.014212396927177906, 0.010633869096636772, 0.011142444796860218, -0.04675203561782837, -0.027759021148085594, -0.0443478561937809, -0.03861481323838234, -0.009875628165900707, -0.008978684432804585, -0.0013766236370429397, 0.01374080777168274, 0.030459098517894745, -0.015118587762117386, 0.006953625474125147, 0.024781538173556328, -0.013842523097991943, -0.009653703309595585, 0.01522030308842659, -0.025317855179309845, -0.02836931310594082, 0.0034259550739079714, 0.04227656498551369, 0.0038744269404560328, 0.008779876865446568, 0.003906791098415852, -0.007582410704344511, -0.0103472163900733, -0.013232232071459293, 0.005414026323705912, -0.014221644029021263, -0.01800360158085823, -0.0006865780451335013, -0.006592998746782541, 0.009986589662730694, -0.012048635631799698, -0.015201808884739876, -0.010023577138781548, -0.025872664526104927, -0.007078458089381456, -0.009662950411438942, 0.010180773213505745, 0.0015592487761750817, 0.010005083866417408, 0.01418465655297041, -0.004979424644261599, -0.016154233366250992, 0.00946876686066389, 0.0024388546589761972, 0.003712607314810157, -0.008336028084158897, 0.0356743186712265, -0.01117018610239029, -0.02115677483379841, -0.045938313007354736, 0.021064307540655136, 0.02862822450697422, 0.013944238424301147, -0.025909652933478355, -0.019677281379699707, 0.027814501896500587, -0.025373335927724838, -0.00862268079072237, 0.011068470776081085, 0.009445649571716785, -0.03306670859456062, -0.018401216715574265, -0.039206612855196, 0.038096990436315536, -0.005598963238298893, 0.01601553149521351, 0.0009443337912671268, 0.013352440670132637, 0.010652362369000912, 0.008553328923881054, 0.002794858068227768, 0.013842523097991943, -0.019529331475496292, -0.012446249835193157, 0.00693513173609972, 0.011022236198186874, -0.021859535947442055, 0.020675940439105034, -0.027888476848602295, -0.004318275488913059, -0.023302042856812477, -0.007471448741853237, 0.0354154072701931, -0.028646718710660934, -0.006773312110453844, -0.00038489981670863926, 0.0206944327801466, -0.014998378232121468, 0.03713531792163849, 0.0038120108656585217, 0.008789123967289925, -0.021360205486416817, 0.02006564848124981, -0.010846545919775963, -0.0057376655749976635, -0.009746172465384007, 0.02681584283709526, -0.004392249975353479, -0.014452815055847168, 0.029774833470582962, -0.01706967130303383, -0.0029381841886788607, 0.02572471648454666, -0.0020805394742637873, -0.03861481323838234, 0.008844604715704918, -0.001744185690768063, 0.015553189441561699, 0.03763464838266373, -0.006421932019293308, -0.06713207811117172, -0.016921721398830414, 3.987700983998366e-05, 0.016727538779377937, 0.00667159678414464, 0.0060705519281327724, 0.004066299181431532, -0.008752136491239071, -0.005058022681623697, 0.004389938432723284, 0.0053816623985767365, -0.011660268530249596, -0.004840721841901541, -0.009302323684096336, -0.04131489247083664, 0.010615374892950058, -0.008483977988362312, 0.007637891918420792, 0.01045817881822586, 0.0010622310219332576, 0.03203106299042702, 0.0012575705768540502, -0.025114424526691437, 0.019695773720741272, 0.009829393588006496, -0.01026399526745081, 0.017023436725139618, 0.018743349239230156, -0.039021674543619156, -0.03587774932384491, 0.022155433893203735, 0.03171667084097862, 0.00809561088681221, -0.03861481323838234, 0.0394655242562294, -0.056812599301338196, -0.005709925200790167, -0.034379761666059494, -0.030033744871616364, -0.0014875858323648572, -0.03389892354607582, 0.021896522492170334, 0.015479214489459991, -0.0009506909991614521, -0.0028850147500634193, 0.025613753125071526, 0.029497427865862846, -0.012538718059659004, -0.014517542906105518, -0.0048360987566411495, -0.00809561088681221, 0.005922602489590645, 0.0397244356572628, 0.03854084014892578, -0.014240137301385403, 0.0275740846991539, 0.01340792141854763, -0.027222704142332077, -0.028905630111694336, -0.033713988959789276, 0.01561791729182005, -0.017319336533546448, -0.0045193941332399845, 0.058957867324352264, 0.04131489247083664, -0.04131489247083664, 0.02664940059185028, 0.0247445497661829, -0.004558693151921034, 0.05004391074180603, 0.0002709035761654377, -0.027204209938645363, -0.034675657749176025, 0.007887556217610836, 0.024430157616734505, 0.03460168465971947, 0.04545747861266136, 0.002972859889268875, 0.00031814916292205453, 0.0032017191406339407, -0.016856994479894638, 0.005293817259371281, 0.024522626772522926, -0.006227748468518257, 0.000599888910073787, -0.026408981531858444, 0.00010727781773312017, 0.02922002226114273, 0.017985109239816666, -0.027666551992297173, 0.029016591608524323, -0.031975582242012024, 0.0365065336227417, -0.021341713145375252, -0.031217340379953384, 0.011632528156042099, 0.00408016936853528, -0.03942853584885597, -0.024818524718284607, 0.002744000405073166, 0.03306670859456062, -0.013167503289878368, 0.044754717499017715, -0.013592858798801899, -0.002381061902269721, 0.011965414509177208, 0.01673678494989872, 0.012871604412794113, -0.007734983693808317, 0.05544406920671463, -0.008410003036260605, -0.005025658756494522, 0.01706967130303383, -0.0018331864848732948, -0.0016944839153438807, 0.020768407732248306, -0.009958849288523197, 0.010976001620292664, 0.039058662950992584, -0.020509496331214905, -0.008359145373106003, -0.010208514519035816, 0.020250584930181503, 0.031124871224164963, 0.016135741025209427, 0.01190993282943964, -0.0019834476988762617, 0.029238516464829445, 0.021637611091136932, 0.024226726964116096, 0.03646954521536827, -0.010689349845051765, 0.003869803622364998, -0.004406120628118515, 0.026076095178723335, 0.009616715833544731, -0.03119884617626667, 0.00908502284437418, -0.0053816623985767365, -0.014878169633448124, 0.02335752360522747, 0.010781818069517612, -0.012853111140429974, 0.022654764354228973, -0.00011377950431779027, 0.009496507234871387, 0.02335752360522747, 0.020675940439105034, -0.008511718362569809, 0.03861481323838234, -0.015747372061014175, 0.015395992435514927, 0.00039414665661752224, -0.03190160542726517, 0.08662442117929459, 0.019455356523394585, -0.011105458252131939, 0.013269218616187572, -0.03449072316288948, -0.006745571736246347, 0.002394932322204113, -0.04726985841989517, 0.011068470776081085, 0.009478013962507248, 0.0036825549323111773, -0.017827913165092468, -0.021101294085383415, -0.011160939000546932, -0.010116045363247395, -0.009542741812765598, 0.01644088514149189, -0.04149983078241348, 0.02121225744485855, -0.006653103046119213, 0.023579448461532593, 0.002252761973068118, 0.008192702196538448, 0.03913263604044914, -0.0025243880227208138, -0.019048495218157768, -0.04763973131775856, -0.015414486639201641, 0.024800032377243042, -0.011022236198186874, 0.008326781913638115, -0.0362476222217083, -0.018308747559785843, -0.00343057862482965, 0.02441166341304779, 0.013592858798801899, 0.002952054375782609, -0.06746496260166168, 0.020269079133868217, -0.010541400872170925, -0.010800312273204327, -0.007346616592258215, -0.023043131455779076, 0.03719080239534378, -0.003687178483232856, 0.014813441783189774, -0.02441166341304779, 0.010670856572687626, 0.025706222280859947, 0.011798971332609653, -0.016135741025209427, 0.032271482050418854, -0.0440889447927475, 0.028239857405424118, 0.005973460152745247, 0.027222704142332077, 0.006107539404183626, 0.003946090117096901, -0.0008050532196648419, 0.0233945120126009]\n"
     ]
    }
   ],
   "source": [
    "embedded_query = embeddings_model.embed_query(\"인공지능이란 무엇인가요\")\n",
    "\n",
    "print(f'임베딩 벡터의 차원: {len(embedded_query)})')\n",
    "print(embedded_query)"
   ]
  },
  {
   "cell_type": "code",
   "execution_count": 43,
   "id": "8a9161d3",
   "metadata": {},
   "outputs": [
    {
     "name": "stdout",
     "output_type": "stream",
     "text": [
      "질문:인공지능이란 무엇인가요?\n",
      "가장 유사한 문서: 인공지능은 컴퓨터 과학의 한 분야입니다.\n",
      "유사도: 0.7117\n",
      "--------------------------------------------------\n",
      "질문:딥너링과 머신러닝의 관계는 어떻게 되나요?\n",
      "가장 유사한 문서: 딥러닝은 머신러닝의 한 종류입니다.\n",
      "유사도: 0.5588\n",
      "--------------------------------------------------\n",
      "질문:컴퓨터가 이미지를 이해하는 방법은 무엇인가요?\n",
      "가장 유사한 문서: 컴퓨터 비전은 컴퓨터가 디지털 이미지나 비디오를 이해하는 방법을 연구합니다.\n",
      "유사도: 0.7197\n",
      "--------------------------------------------------\n"
     ]
    }
   ],
   "source": [
    "from langchain_community.utils.math import cosine_similarity\n",
    "import numpy as np\n",
    "\n",
    "def find_most_similar(query, document_embeddings):\n",
    "    query_embedding = embeddings_model.embed_query(query)\n",
    "    similarities = cosine_similarity([query_embedding], document_embeddings)[0]\n",
    "\n",
    "    most_similar_idx = np.argmax(similarities) #그 중에 제일 큰 인덱스\n",
    "    return documents[most_similar_idx], similarities[most_similar_idx]\n",
    "\n",
    "queries=[\n",
    "    \"인공지능이란 무엇인가요?\",\n",
    "    \"딥너링과 머신러닝의 관계는 어떻게 되나요?\",\n",
    "    \"컴퓨터가 이미지를 이해하는 방법은 무엇인가요?\"\n",
    "]\n",
    "\n",
    "for query in queries:\n",
    "    most_similar_doc, similarity = find_most_similar(query, document_embeddings)\n",
    "    print(f\"질문:{query}\")\n",
    "    print(f\"가장 유사한 문서: {most_similar_doc}\")\n",
    "    print(f\"유사도: {similarity:.4f}\")\n",
    "    print('-'*50)"
   ]
  },
  {
   "cell_type": "code",
   "execution_count": 44,
   "id": "af3fa4a8",
   "metadata": {},
   "outputs": [
    {
     "data": {
      "text/plain": [
       "HuggingFaceEmbeddings(client=SentenceTransformer(\n",
       "  (0): Transformer({'max_seq_length': 8192, 'do_lower_case': False}) with Transformer model: XLMRobertaModel \n",
       "  (1): Pooling({'word_embedding_dimension': 1024, 'pooling_mode_cls_token': True, 'pooling_mode_mean_tokens': False, 'pooling_mode_max_tokens': False, 'pooling_mode_mean_sqrt_len_tokens': False, 'pooling_mode_weightedmean_tokens': False, 'pooling_mode_lasttoken': False, 'include_prompt': True})\n",
       "  (2): Normalize()\n",
       "), model_name='BAAI/bge-m3', cache_folder=None, model_kwargs={}, encode_kwargs={}, multi_process=False, show_progress=False)"
      ]
     },
     "execution_count": 44,
     "metadata": {},
     "output_type": "execute_result"
    }
   ],
   "source": [
    "from langchain_huggingface.embeddings import HuggingFaceEmbeddings\n",
    "\n",
    "embeddings_model = HuggingFaceEmbeddings(model_name=\"BAAI/bge-m3\")\n",
    "\n",
    "embeddings_model"
   ]
  },
  {
   "cell_type": "code",
   "execution_count": 45,
   "id": "a4534ba4",
   "metadata": {},
   "outputs": [
    {
     "name": "stdout",
     "output_type": "stream",
     "text": [
      "임베딩 벡터의 개수 : 5\n",
      "임베딩 벡터의 차원: 1024\n",
      "[-0.03941445052623749, 0.008764848113059998, -0.01268161553889513, 0.002453206107020378, -0.008944757282733917, -0.0073837218806147575, -0.005377359688282013, -0.009055864997208118, 0.03291522338986397, 0.0060455072671175, -0.027012888342142105, -0.027740875259041786, 0.00044411991257220507, 0.030136585235595703, 0.017242854461073875, 0.01709028333425522, 0.025524919852614403, -0.021856073290109634, -0.011341292411088943, -0.05702261999249458, -0.0003017137059941888, 0.013543128035962582, -0.00745010282844305, 0.01857445389032364, 0.0028946553356945515, 0.008630653843283653, -0.0007444894872605801, -0.028904108330607414, 0.02072780393064022, -0.02050059288740158, 0.00806991383433342, -0.026754198595881462, 0.003963088616728783, -0.01630389876663685, -0.07406219840049744, -0.033650368452072144, -0.023871466517448425, -0.034550052136182785, -0.034785956144332886, 0.005482987500727177, -0.0500335693359375, -0.0028035668656229973, -0.023146886378526688, -0.0749114379286766, -0.011434338986873627, -0.028992658481001854, -0.034183014184236526, -0.02552468702197075, -0.06156915798783302, 0.01355795469135046, 0.024401184171438217, -0.03127624839544296, 0.05056966468691826, 0.01297259982675314, -0.06420670449733734, 0.02719489298760891, 0.006821519695222378, 0.01040553580969572, -0.06427163630723953, -0.01602821797132492, -0.020655397325754166, 0.03011762723326683, -0.006331697106361389, -0.013117467984557152, -0.0005491788615472615, 0.04695945605635643, 0.007765491958707571, 0.02975654974579811, -0.034744080156087875, -0.03635729104280472, 0.02141391858458519, 0.017580494284629822, -0.033522170037031174, 0.013690433464944363, -0.052323490381240845, 0.0484783798456192, -0.013382785953581333, -0.01721262000501156, -0.03435642272233963, 0.021087003871798515, -0.02280254475772381, -0.006211874540895224, -0.012333830818533897, -0.04589996486902237, -0.043625324964523315, -0.033220961689949036, -0.03090287744998932, 0.06267786771059036, -0.013041095808148384, 0.0030605620704591274, -0.0340210497379303, -0.011811473406851292, 0.06983616203069687, -0.06787191331386566, -0.041217122226953506, -0.0454251766204834, -0.05954749882221222, 0.026572149246931076, 0.021793361753225327, 0.016649406403303146, -0.004795452114194632, 0.05578603595495224, 0.005842223763465881, -0.004925691522657871, 0.005203359294682741, 0.012360346503555775, 0.015873588621616364, 0.01367831788957119, -0.0043206121772527695, -0.01677749492228031, 0.024673426523804665, 0.07882759720087051, -0.0033149532973766327, 0.02773304283618927, -0.01484991516917944, -0.036296527832746506, -0.007080220151692629, -0.005244876723736525, 0.031237956136465073, 0.028104552999138832, 0.021445205435156822, 0.026932429522275925, -0.018261343240737915, -0.03545693680644035, 0.025494327768683434, -0.014402574859559536, 0.043160952627658844, -0.0065125953406095505, -0.0023869096767157316, -0.02542489394545555, 0.0072542778216302395, 0.0016669394681230187, -0.06067398190498352, 0.002136952942237258, -0.0793343335390091, -0.03168250620365143, -0.026456240564584732, -0.03457324951887131, 0.0011898735538125038, -0.026784759014844894, 0.03188098967075348, 0.008707314729690552, -0.034499384462833405, -0.02601381205022335, 0.028248101472854614, 0.02884906902909279, 0.011804240755736828, 0.006611349061131477, -0.04028214141726494, 0.006594954524189234, -0.04195798933506012, 0.0018759315134957433, -0.016849229112267494, -0.0003243584942538291, 0.008593757636845112, 0.05727248638868332, 0.03451273962855339, 0.018291309475898743, -0.03627154603600502, 0.019243353977799416, -0.011026408523321152, -0.051076490432024, -0.011925905011594296, 0.03441395238041878, 0.02501545660197735, 0.005875391885638237, 0.002253934508189559, 0.05663304403424263, -0.02504449151456356, -0.051671940833330154, -0.04070146754384041, -0.0038236903492361307, -0.08939449489116669, 0.013491159304976463, 0.03287690505385399, 0.020798636600375175, 0.04125238209962845, 0.03118397481739521, 0.010359593667089939, -0.03293048217892647, -0.02438637614250183, -0.015635890886187553, -0.017844397574663162, 0.016319524496793747, -0.0033740142825990915, -0.008289546705782413, 0.007997727952897549, 0.017579950392246246, 0.005814952775835991, -0.0015096361748874187, 0.033619582653045654, -0.023578904569149017, 0.018168527632951736, -0.01330758910626173, -0.010974681936204433, -0.06073543801903725, 0.035313572734594345, 0.03325321152806282, 0.0035984297282993793, -0.00952876266092062, -0.03346243128180504, 0.026455912739038467, 0.004845170769840479, -0.005232802592217922, -0.028605099767446518, 0.035237569361925125, -0.0023234442342072725, -0.03342469781637192, 0.020695991814136505, -0.016646746546030045, 0.050313934683799744, 0.005382917821407318, 0.006805296055972576, -0.04224148765206337, -0.050436802208423615, -0.023666486144065857, -0.0003812862851191312, 0.017486944794654846, -0.021624553948640823, -0.0511527955532074, -0.005384465213865042, -0.007931957952678204, 0.012596579268574715, 0.040384430438280106, 0.023643091320991516, 0.011450348421931267, -0.012604239396750927, -0.024017591029405594, 0.05937512218952179, 0.02274705469608307, -0.014662839472293854, 0.028443580493330956, 0.0028610816225409508, -0.027433879673480988, 0.0026598251424729824, -0.012619069777429104, -0.01932603120803833, 0.0012929788790643215, 0.024065805599093437, 0.005560114048421383, 0.00046924938214942813, -0.012332884594798088, 0.008361480198800564, 0.007104378193616867, -0.014163916930556297, -0.025789659470319748, -0.009067066945135593, 0.011334900744259357, -0.03867325931787491, 0.012458669021725655, -0.014846699312329292, -0.05338018015027046, 0.0007011149427853525, -0.037628211081027985, 0.024404335767030716, -0.022411521524190903, -0.0031276154331862926, 0.005926228128373623, 0.02924339845776558, 0.01287229172885418, -0.025251511484384537, -0.017893923446536064, -0.032658834010362625, 0.01578877680003643, 0.036837607622146606, -0.019260186702013016, 0.004153445363044739, -0.008615180850028992, 0.02560017630457878, 0.03141622245311737, 0.013882146216928959, 0.016615988686680794, 0.02648591250181198, 0.016514712944626808, 0.037105534225702286, 0.01717045158147812, 0.016321688890457153, -0.022120626643300056, 0.027622010558843613, 0.02409966289997101, -0.02487592212855816, -0.034905221313238144, 0.010859489440917969, 0.037536170333623886, 0.032445091754198074, -0.0029510187450796366, -0.021300766617059708, -0.0008491594926454127, -0.049433041363954544, -0.0502716526389122, -0.055717527866363525, -0.035786330699920654, 0.0516539067029953, -0.0265003964304924, -0.02994459494948387, 0.04084897041320801, -0.002776476787403226, -0.15416252613067627, 0.052873287349939346, -0.04403994232416153, 0.024527763947844505, 0.0007717610569670796, -0.023125799372792244, 0.02821776270866394, 0.020606141537427902, -0.06491450220346451, 0.05870119482278824, -0.015259644016623497, -0.05291959270834923, -0.026743700727820396, -0.01604013890028, 0.03513459488749504, 0.03692731261253357, 0.01824101246893406, -0.00014413133612833917, -0.02538212761282921, -0.0042935931123793125, -0.04096035659313202, -0.05058600381016731, 0.01501425914466381, -0.03581550344824791, 0.029789935797452927, -0.0450902096927166, -0.020970871672034264, -0.023698925971984863, -0.02904968522489071, -0.0343937985599041, -0.018698493018746376, -0.009413955733180046, -0.021368445828557014, 0.041909877210855484, 0.02259029820561409, 0.008137853816151619, 0.0034019192680716515, -0.0349729098379612, 0.05352339893579483, 0.006330618169158697, -0.009400810115039349, 0.034035295248031616, 0.013987434096634388, 0.005095578730106354, -0.0004018498002551496, -0.02248120680451393, 0.038704436272382736, 0.0006443642778322101, -0.013815921731293201, 0.009313303977251053, -0.02437048777937889, -0.05039580166339874, 0.04627165198326111, -0.021217262372374535, -0.03346460312604904, 0.006026161834597588, 0.010226252488791943, 0.06932579725980759, 0.02263225056231022, 0.01256889570504427, -0.04025674983859062, -0.034716781228780746, 0.019841725006699562, 0.01483395416289568, 0.013841369189321995, -0.04672090709209442, 0.055473294109106064, 0.011165871284902096, 0.021457156166434288, -0.022262319922447205, 0.0364818274974823, -0.0014091739431023598, 0.05106925591826439, -0.01689680479466915, -0.0002580969885457307, 0.049261536449193954, 0.007794075645506382, -0.07784523814916611, -0.051600441336631775, -0.08172133564949036, 0.0001815612631617114, -0.0027508637867867947, -0.00911609549075365, -0.004651397932320833, -0.04209818318486214, -0.0022109639830887318, -0.010076198726892471, -0.027880771085619926, 0.05060306191444397, 0.20528994500637054, 0.02644439786672592, -0.00022551258734893054, -0.026649249717593193, 0.03717314079403877, -0.00884224008768797, -0.014338335022330284, -0.019308755174279213, 0.017481058835983276, -0.010157187469303608, 0.00998526532202959, -0.02210446074604988, -0.0012158019235357642, 0.006270232610404491, 0.013725214637815952, 0.02520187385380268, -0.0338592529296875, -0.0011371580185368657, 0.08596235513687134, 0.02185939997434616, -0.007644908502697945, -0.0030849771574139595, 0.04453148692846298, -0.001303709577769041, -0.028895698487758636, -0.02633531019091606, 0.0028093711007386446, 0.010797255672514439, -0.01945134624838829, -0.036453668028116226, 0.005088219419121742, 0.02991410158574581, -0.010681968182325363, 0.00668497197329998, 0.02388142980635166, 0.017712926492094994, 0.0014703982742503285, -0.01895172894001007, 0.009166152216494083, 0.007664768490940332, -0.020509911701083183, -0.015714965760707855, -0.001461324281990528, 0.007429524324834347, 0.009566866792738438, 0.010711194016039371, 0.006898301653563976, -0.009391158819198608, -0.019545521587133408, -0.035453129559755325, -0.06176724657416344, -0.022272849455475807, -0.0431184396147728, 0.018352795392274857, -0.002340212929993868, -0.004222696181386709, -0.043274860829114914, 0.025858143344521523, 0.017618432641029358, 0.008789444342255592, 0.03943892940878868, 0.00882461667060852, 0.033270299434661865, 0.02598056010901928, -0.009331374429166317, -0.005429025739431381, -0.03740306571125984, -0.05824077129364014, 0.058875735849142075, -0.003742871107533574, 0.013187007047235966, 0.014792914502322674, -0.04668256267905235, -0.022107357159256935, 0.006471659522503614, 0.003505814354866743, 0.03154466673731804, 0.026691237464547157, 0.02857639454305172, 0.028033770620822906, -0.029319938272237778, 0.010856660082936287, -0.027783192694187164, 0.03786864131689072, 0.007742194924503565, -0.0514553040266037, -0.014120903797447681, 0.05561647564172745, 0.017498530447483063, -0.024795711040496826, 0.013818337582051754, 0.008258553221821785, -0.009095114655792713, 0.044248390942811966, -0.01329843606799841, 0.022851206362247467, 0.007554680574685335, -0.005556196440011263, -0.02685144916176796, 0.04283802583813667, -0.030624551698565483, -0.043705523014068604, -0.009680411778390408, -0.006718836259096861, 0.016627758741378784, 0.020827841013669968, 0.020590966567397118, 0.05548373982310295, 0.009113775566220284, 0.04802144318819046, 0.002895117737352848, 0.026987796649336815, -0.051990218460559845, -0.04606880247592926, 0.014079599641263485, -0.010256743058562279, 0.02094566822052002, 0.020687086507678032, 0.006968574598431587, 0.014875837601721287, -0.03136388584971428, 0.0012487262720242143, 0.01880241185426712, 0.03199198469519615, 0.00028788161580450833, -0.027227697893977165, 0.04708467423915863, 0.033834058791399, -0.015769002959132195, 0.019647110253572464, 0.060615766793489456, 0.0018481869483366609, 0.004004715010523796, 0.04876017943024635, 0.022826777771115303, 0.014284435659646988, -0.014066212810575962, 0.021967392414808273, 0.05986209958791733, 0.0002834529441315681, 0.01490861363708973, 0.007023236248642206, 0.024416398257017136, 0.008015756495296955, 0.01087257917970419, 0.001623623538762331, -0.013646877370774746, 0.04847606271505356, -0.023516252636909485, -0.006223450414836407, 0.0007701823487877846, -0.02226422168314457, 0.058263808488845825, -0.0425332710146904, -0.008776901289820671, -0.029511017724871635, -0.021039290353655815, -0.005618670489639044, 0.03724319487810135, -0.022321170195937157, 0.02959318459033966, 0.022220907732844353, 0.06000766530632973, 0.05433725193142891, -0.013108964078128338, 0.04675421863794327, -0.00401958217844367, -0.020036820322275162, -0.009979183785617352, -0.052365098148584366, 0.012971536256372929, -0.02396402135491371, -0.04701244458556175, 0.017680251970887184, -0.06316707283258438, -0.012216208502650261, -0.051538754254579544, 0.01671617664396763, 0.002896486083045602, 0.0023543699644505978, 0.04698430374264717, 0.00523611344397068, 0.028605902567505836, 0.01803353615105152, 0.002688364591449499, 0.012599187903106213, 0.04312582686543465, -0.012468741275370121, 0.016190819442272186, -0.03503527119755745, -0.013990488834679127, 0.0850161612033844, -0.0006753899506293237, -0.03510754927992821, 0.018908224999904633, -0.04388415068387985, 0.018178407102823257, -0.014595218934118748, 0.05074280872941017, -0.01459877286106348, -0.01224845927208662, -0.05382172390818596, 0.00917732436209917, -0.013291004113852978, -0.026121504604816437, 0.019020941108465195, -0.009157782420516014, 0.015958424657583237, -0.012059297412633896, 0.023945920169353485, 0.010822105221450329, 0.0012781597906723619, -0.04741375893354416, 0.028183521702885628, -0.03028205968439579, 0.03450252115726471, -0.03545202687382698, 0.010610704310238361, 0.02175796777009964, -0.07106901705265045, -0.011429186910390854, -0.0007577657816000283, 0.0009730145684443414, -0.06687965244054794, 0.0017512959893792868, 0.030838053673505783, -0.013645228929817677, -0.020122958347201347, -0.019696658477187157, 0.04643265902996063, -0.004844081588089466, -0.08160027861595154, 0.040443047881126404, 0.004950438626110554, 0.03106473572552204, 0.005250941030681133, -0.006103127263486385, 0.014033702202141285, -0.021181907504796982, -0.019575361162424088, 0.025881540030241013, -0.026794644072651863, 0.06484147161245346, 0.017436444759368896, 0.02530406229197979, 0.012567217461764812, 0.006157862953841686, -0.015259120613336563, -0.0029800529591739178, 0.004574266728013754, -0.011685431934893131, -0.04778236150741577, 0.04852068051695824, 0.027301853522658348, 0.019908662885427475, -0.046112310141325, 0.049470845609903336, -0.015534117817878723, -0.02295883186161518, 0.007057528011500835, 0.011417149566113949, 0.028111224994063377, -0.0009655554313212633, 0.005214741453528404, 0.0058796824887394905, 0.0409088134765625, 0.04670417308807373, 0.013859489932656288, -0.04856492578983307, -0.03641865774989128, 0.030556630343198776, -0.0033170697279274464, -0.03998246416449547, -0.03232389688491821, 0.03208169713616371, -0.002212338149547577, -0.03743819147348404, 0.04703685641288757, 0.04756614938378334, -0.003721168963238597, -0.0048499442636966705, 0.054563842713832855, 0.008762187324464321, 0.014281686395406723, 0.013041425496339798, -0.005775482393801212, 0.011362412013113499, 0.005727213341742754, 0.028392244130373, -0.03743183985352516, 0.017423391342163086, 0.009146100841462612, -0.04311313480138779, 0.010060444474220276, -0.013028775341808796, 0.02631356380879879, -0.008787056431174278, 0.04881313070654869, -0.02394179254770279, -0.008417542092502117, -0.030199937522411346, -0.011565571650862694, -0.008227541111409664, -0.0007779707084409893, 0.036086179316043854, 0.019429702311754227, 0.01580188050866127, -0.06475582718849182, 0.0322716161608696, -0.01971476711332798, 0.012444691732525826, 0.0005196271231397986, 0.03724118322134018, 0.04861580580472946, -0.030769038945436478, -0.011096972040832043, 0.030283836647868156, -0.04953470081090927, 0.054928380995988846, -0.0020628164056688547, 0.04958369582891464, 0.0007331087836064398, -0.006119831465184689, -0.023130185902118683, 0.009980812668800354, 0.023883339017629623, -0.019458536058664322, -0.03200145438313484, 0.029113808646798134, -0.05370786041021347, -0.012846654281020164, 0.03300855681300163, -0.002457789843901992, 0.02562246471643448, 0.0028969887644052505, -0.016086380928754807, -0.01989271678030491, -0.03626823425292969, 0.05153731256723404, 0.02597828023135662, -0.023754622787237167, -0.0021327033173292875, 0.05663057416677475, -0.02122490480542183, 0.026157844811677933, -0.03065486066043377, -0.009088555350899696, -0.0013654757058247924, 0.007371808867901564, 0.014015519991517067, -0.038815684616565704, -0.00517585314810276, -0.020652448758482933, -0.0854281410574913, 0.03286979719996452, -0.021121669560670853, -0.0017047026194632053, -0.02385287545621395, 0.010193399153649807, 0.00315288407728076, -0.04626765102148056, 0.00437856325879693, 0.0127662792801857, 0.03188915550708771, -0.006445439998060465, 0.06173041835427284, 0.027293331921100616, -0.040185313671827316, 0.012747325003147125, -0.0434139110147953, -0.03434227406978607, 0.024028999730944633, 0.045110832899808884, -0.06422783434391022, -0.002670811954885721, 0.01576581783592701, -0.04633603245019913, 0.015471864491701126, -0.012263933196663857, 0.004063956439495087, 0.00287000578828156, -0.059097934514284134, -0.0497787669301033, -0.03188014775514603, 0.0042823865078389645, -0.04063795879483223, -0.010036937892436981, -0.02049512416124344, 0.04349435493350029, 0.00918308924883604, -0.021456951275467873, -0.036665648221969604, 0.03871417045593262, -0.0285770446062088, -0.12108999490737915, 0.011257986538112164, -0.021855873987078667, 0.038476478308439255, -0.020778898149728775, 0.026198500767350197, -0.005205582827329636, 0.007620614487677813, 0.023885339498519897, -0.06817088276147842, -0.010705300606787205, 0.0383872464299202, 0.020878417417407036, -0.013643725775182247, -0.0012990288669243455, 0.01889580488204956, -0.01062721200287342, 0.019094279035925865, 0.007302974816411734, 0.025121130049228668, -0.003089906182140112, 0.01935056410729885, 0.04545747861266136, -0.006982765160501003, 0.016584398224949837, -0.004083536099642515, 0.006178656592965126, 0.010033611208200455, -0.06160513684153557, 0.008099166676402092, 0.05615949630737305, -0.05707838386297226, 0.005859646014869213, 0.0026495291385799646, -0.052220381796360016, -0.0299502145498991, -0.04529864713549614, 0.004038611892610788, -0.027648000046610832, 0.03871120885014534, -0.03272446617484093, 0.027157515287399292, 0.03960347920656204, -0.011242413893342018, 0.015820488333702087, 0.08895587176084518, -0.03150158375501633, -0.016731765121221542, -0.014683903194963932, -0.02074112929403782, 0.029698267579078674, -0.026172680780291557, -0.012390865944325924, 0.05219876393675804, -0.01278004888445139, 0.016312677413225174, -0.05087518319487572, 0.009121483191847801, -0.00313637126237154, 0.07734204083681107, -0.04193482547998428, 0.0007514443132095039, -0.030584556981921196, 0.013006380759179592, -0.007410403341054916, 0.030986057594418526, -0.05732092633843422, -0.010988319292664528, -0.015135087072849274, 0.006888857111334801, 0.008642567321658134, 0.06573335081338882, 0.03371092304587364, -0.03401574864983559, 0.029345404356718063, 0.011673970147967339, 0.051056768745183945, 0.007065086159855127, 0.019810937345027924, -0.03461391478776932, 0.016095582395792007, 0.012484722770750523, -0.04676222428679466, -0.02751578949391842, 0.01037660799920559, -0.02294725365936756, -0.0341225266456604, -0.003230020636692643, -0.008177163079380989, -0.02337176911532879, -0.048484642058610916, -0.011113783344626427, -0.01951933465898037, -0.0038489040452986956, -0.04734348878264427, 0.013848778791725636, 0.0020971072372049093, 0.012429009191691875, -0.016072377562522888, -0.012233719229698181, -0.007150484714657068, -0.005227204877883196, 0.009924722835421562, -0.0023524079006165266, -0.020415889099240303, 0.03459920361638069, 0.0664309561252594, -0.010721628554165363, 0.05480988696217537, -0.03403067961335182, 0.009117666631937027, -0.014219526201486588, -0.05166011303663254, 0.039497654885053635, -0.002909444272518158, -0.012116190046072006, 0.01622280664741993, 0.06202355772256851, 0.01534039806574583, 0.032064445316791534, 0.046687863767147064, -0.026615308597683907, 0.0022645804565399885, -0.018055344000458717, 0.06148137152194977, 0.0034600934013724327, 0.000789506419096142, 0.0458180233836174, 0.04978005960583687, 4.842199814447667e-07, 0.015820657834410667, -0.028666410595178604, 0.0513312965631485, -0.019402440637350082, 0.0501457042992115, 0.001262991689145565, 0.0666620060801506, 0.032210998237133026, -0.07578133791685104, -0.02677566558122635, -0.022792527452111244, -0.013899172656238079, -0.0027472928632050753, -0.01722531020641327, -0.05203042924404144, -0.006385997869074345, 0.02829090878367424, -0.05922159552574158, -0.006042583379894495, -0.010329843498766422, -0.020534338429570198, -0.025234172120690346, 0.0064850132912397385, 0.05987747386097908, -0.06461494415998459, 0.039172276854515076, -0.03935927152633667, 0.01159712579101324, -0.0050013186410069466, -0.02177659049630165, 0.024796174839138985, -0.02105584554374218, -0.01434142142534256, 0.00503738084807992, -0.02690310776233673, -0.015666238963603973, -0.020005540922284126, -0.017518416047096252, -0.002119163516908884, 0.03180164471268654, 0.03315679728984833, 0.06110072135925293, -0.02178020402789116, -0.007200476247817278, 0.023457041010260582, 0.0045004175044596195, -0.03394908830523491, 0.030627720057964325, 0.05058339238166809, 0.019436292350292206, 0.0303652323782444, -0.008498151786625385, 0.03861614689230919, 0.024106768891215324, -0.029866786673665047, -0.022483771666884422, -0.029365161433815956, 0.05913860723376274, 0.02399420365691185, -0.05173459276556969, -0.02144564501941204, -0.00802871398627758, -0.045875344425439835, 0.01853395439684391, -0.012980912812054157, 0.062045540660619736, 0.025514403358101845, 0.03043605387210846, -0.013861718587577343, 0.01149920467287302, -0.0768980160355568, -0.01568572036921978, 0.031369224190711975, -0.010092422366142273, -0.004928586073219776, 0.005839566234499216, -0.05361056327819824, -0.0019884761422872543, -0.023305809125304222, -0.012968521565198898, 0.008794065564870834, 0.018897265195846558, 0.0008403917890973389, -0.0075892736203968525, 0.04887888953089714, -0.05043143406510353, 0.012651998549699783, -0.005049560219049454, -0.015551907941699028, 0.0036741825751960278, 0.002968963235616684, 0.007681547664105892, -0.026818852871656418, -0.010751387104392052, 0.013961038552224636, -0.031508371233940125, 0.010267532430589199, 0.05015924572944641, -0.03511187434196472, -0.000825826427899301, -0.028183406218886375, -0.02412126399576664, 0.0028528431430459023, 0.02042170614004135, -0.013471641577780247, -0.014262369833886623, 0.022602247074246407, 0.038974639028310776, -0.008240492083132267, -0.01573222689330578, 0.05449069291353226, 0.008341755717992783, 0.03494136035442352, -0.017748065292835236]\n"
     ]
    }
   ],
   "source": [
    "document_embeddings = embeddings_model.embed_documents(documents)\n",
    "\n",
    "print(f'임베딩 벡터의 개수 : {len(document_embeddings)}')\n",
    "print(f'임베딩 벡터의 차원: {len(document_embeddings[0])}') # 이것이 크다는 것은 문맥의 의미를 더 잘 이해한다는 것임\n",
    "print(document_embeddings[0])"
   ]
  },
  {
   "cell_type": "code",
   "execution_count": 50,
   "id": "e1e6dbe1",
   "metadata": {},
   "outputs": [
    {
     "name": "stdout",
     "output_type": "stream",
     "text": [
      "임베딩 벡터의 차원: 1024\n",
      "[-0.033113330602645874, -0.001989420037716627, 0.007813130505383015, -0.016877755522727966, -0.00382491247728467, -0.03805626183748245, -0.003247153479605913, 0.012107563205063343, 0.02320011332631111, 0.000982496072538197, -0.0216963030397892, 0.014633803628385067, -0.017240021377801895, 0.0021135646384209394, 0.015075035393238068, 0.024408556520938873, 0.012920490466058254, -0.023749252781271935, -0.018628058955073357, -0.054002515971660614, -0.010363011620938778, -0.006493027787655592, -0.015853049233555794, 0.0014714243588969111, 0.05450388044118881, 0.05267682671546936, -0.008884347043931484, -0.02539072558283806, 0.018550962209701538, -0.010204436257481575, -0.004201825242489576, -0.006751663982868195, -0.00445488840341568, 0.014455076307058334, -0.034354303032159805, -0.008989865891635418, -0.01309332437813282, -0.04491860419511795, -0.03544776886701584, 0.006338787730783224, -0.01207438763231039, 0.018651580438017845, -0.01840200461447239, -0.042516279965639114, -0.0045873746275901794, -0.0404464490711689, -0.026049574837088585, -0.022309808060526848, -0.02404918521642685, -0.005744828376919031, 0.034736279398202896, -0.053370632231235504, 0.021439433097839355, 0.028870871290564537, -0.004985207226127386, 0.05140034109354019, -0.008548738434910774, 0.026168406009674072, -0.07551857084035873, -0.01346299797296524, -0.027644777670502663, -0.009459965862333775, -0.03793322667479515, -0.01834181323647499, 0.01775268092751503, 0.06529965996742249, 0.025063322857022285, -0.01043602917343378, -0.01852533221244812, -0.03499218076467514, -0.0016819637967273593, 0.04198690131306648, -0.05852489173412323, 0.04867953807115555, -0.045642953366041183, 0.011090126819908619, 0.013559035025537014, 0.006559721194207668, -0.03431924805045128, 0.0164579376578331, 0.04048646241426468, -0.012750503607094288, -0.03187920153141022, -0.011250700801610947, -0.016108307987451553, -0.009427434764802456, -0.01334006804972887, 0.06599985063076019, -0.010208061896264553, 0.00859685055911541, -0.037437863647937775, 0.003826676169410348, 0.046902116388082504, -0.10136406868696213, -0.016328444704413414, -0.07928023487329483, -0.0360381044447422, 0.007237264886498451, 0.015443956479430199, 0.030792169272899628, -0.004096288233995438, 0.04018356278538704, 0.012940101325511932, -0.021334143355488777, 0.027584804221987724, 0.003773698816075921, -0.00017152508371509612, 0.013157804496586323, -0.030661270022392273, -0.004665764048695564, 0.03734069690108299, 0.03998560085892677, 0.02338414080440998, 0.03738657757639885, -0.045290105044841766, -0.05329449847340584, 0.011842912063002586, -0.0008856984786689281, 0.02495417557656765, 0.03833010047674179, -0.008021572604775429, 0.02190578542649746, -0.03327706456184387, -0.046458613127470016, -0.011512613855302334, -0.020388780161738396, 0.03366660326719284, 0.025008322671055794, -0.009052849374711514, -0.013919833116233349, 0.028633831068873405, -0.013064013794064522, -0.08244625478982925, -0.007099575828760862, -0.06636732816696167, -0.016898851841688156, 0.004076617769896984, -0.03335262089967728, 0.025926345959305763, -0.03463342785835266, 0.03862768039107323, 0.008583062328398228, -0.04153857380151749, -0.029364824295043945, 0.020083226263523102, -0.0010496169561520219, 0.0061946650967001915, -0.009637504816055298, -0.009211260825395584, 0.02226092666387558, -0.020495032891631126, -0.018963109701871872, -0.032078731805086136, -0.0019874239806085825, 0.008038010448217392, 0.04750005900859833, 0.01017394196242094, 0.024270074442029, -0.044250112026929855, 0.03363390266895294, 0.03287982940673828, -0.003378934459760785, 0.00010471615678397939, 0.017267318442463875, -0.012728792615234852, 0.00545098353177309, 0.003049226710572839, 0.025873128324747086, -0.013429476879537106, -0.027648665010929108, -0.033793605864048004, 0.008198775351047516, -0.03154047578573227, 0.033195190131664276, 0.017394140362739563, 0.006907688919454813, 0.06810560822486877, 0.031192386522889137, -0.008468501269817352, -0.005961814429610968, -0.05174834653735161, -0.019615812227129936, -0.014954227022826672, 0.0021156109869480133, -0.0035582035779953003, 0.010108637623488903, 0.016215039417147636, 0.01506610307842493, 0.023098137229681015, -0.004202280659228563, -0.014491096138954163, -0.020096613094210625, 0.01477561704814434, -0.004016117658466101, -0.001056867535226047, -0.03486248850822449, 0.037091560661792755, 0.04458308964967728, -0.00635211868211627, -0.042478758841753006, -0.0242561474442482, 0.031274620443582535, 0.015322747640311718, 0.0056941816583275795, -0.04704584553837776, 0.012662403285503387, -0.001648238394409418, -0.048787571489810944, 0.010502041317522526, -0.032384149730205536, 0.02174360491335392, 0.04340672120451927, 0.04678168147802353, -0.023469533771276474, -0.052823569625616074, -0.009814317338168621, -0.019017519429326057, 0.04391072690486908, -0.005756066646426916, -0.009849649854004383, -0.014163907617330551, 0.016010787338018417, -4.271978104952723e-05, 0.02711816318333149, 0.03003539703786373, -0.0001929715072037652, 0.0409071184694767, -0.019226400181651115, 0.024211589246988297, 0.008100954815745354, 0.00731644406914711, 0.06050283834338188, 0.014139432460069656, -0.03281869739294052, -0.0037868402432650328, -0.018805474042892456, -0.037846364080905914, -0.017687726765871048, 0.010875137522816658, 0.024977298453450203, -0.02855546772480011, -0.00016603134281467646, -0.03479702025651932, 0.029552437365055084, -0.010437323711812496, -0.012027187272906303, -0.01991978846490383, -0.025593282654881477, -0.01173336897045374, 0.021792730316519737, 0.0011429169680923223, -0.03758170083165169, 0.004256207030266523, -0.013275914825499058, 0.05051633343100548, 0.012620815075933933, -0.017774885520339012, 0.004552334081381559, 0.011222897097468376, 0.03098701685667038, 0.007949871942400932, -0.02403079904615879, -0.004087897948920727, 0.032218895852565765, 0.05461238697171211, 0.0035424090456217527, 0.00134576007258147, -0.03144256770610809, 0.013757733628153801, 0.030710851773619652, -0.017471861094236374, -0.01769261620938778, -0.022829052060842514, 0.003893620101734996, 0.04031476750969887, -0.012888479977846146, -0.008056108839809895, -0.016979696229100227, 0.02141697145998478, 0.009498379193246365, -0.017836788669228554, -0.05645470321178436, -0.013062337413430214, 0.04337811842560768, 0.02725244127213955, -0.02015848457813263, -0.0319511741399765, 0.004400464706122875, -0.00748025206848979, -0.037338096648454666, -0.006158363074064255, -0.023807089775800705, 0.054443296045064926, -0.02127300575375557, -0.028791964054107666, -0.013377639465034008, -0.03682887181639671, -0.13713985681533813, 0.01972014084458351, -0.03293392434716225, 0.020113470032811165, -0.005445868708193302, -0.03275223448872566, 0.01970936730504036, -0.006658242084085941, -0.0054293908178806305, 0.03352892026305199, 0.002699682954698801, -0.04699027165770531, -0.04764127731323242, -0.030503850430250168, 0.031067734584212303, 0.011080003343522549, 0.014178331941366196, -0.019255930557847023, -0.035275354981422424, -0.04321959987282753, -0.017336376011371613, -0.05924461781978607, 0.0037741304840892553, -0.05008348077535629, 0.05514683574438095, -0.013618852011859417, 0.014015228487551212, -0.00747136864811182, -0.04618101194500923, -0.057761408388614655, -0.02120148204267025, -0.043087176978588104, -0.008064917288720608, 0.048790160566568375, 0.05032505840063095, 0.009691538289189339, -0.002819543471559882, -0.021773945540189743, 0.040150098502635956, -0.0030028887558728456, 0.005484943278133869, 0.0008904875721782446, 0.027613678947091103, 0.03657669946551323, 0.0024566783104091883, 0.017036763951182365, 0.033489666879177094, -0.01931874267756939, 0.024322545155882835, 0.0016339386347681284, -0.03013005666434765, -0.001834356808103621, 0.048196326941251755, -0.040409862995147705, 0.01503035705536604, -0.010440883226692677, 0.03767857700586319, 0.07910624146461487, 0.043638329952955246, -0.003302939934656024, -0.048145078122615814, 0.03302082419395447, -0.01236992422491312, 0.026041479781270027, -0.016106225550174713, -0.011724386364221573, 0.07659619301557541, 0.01917874440550804, -0.004275556653738022, -0.030148644000291824, 0.0423908568918705, -0.004623533692210913, 0.005673103034496307, -0.013443464413285255, 0.02175452932715416, 0.03733455762267113, 0.00325244409032166, -0.05173640325665474, -0.0453028529882431, -0.08106838911771774, 0.021296055987477303, -0.01981908455491066, -0.005975150968879461, 0.0024550098460167646, -0.020121484994888306, -0.025037959218025208, -0.0013036405434831977, 0.0038822961505502462, 0.01846150867640972, 0.23546649515628815, -0.013953004963696003, 0.021502183750271797, -0.03078589029610157, -0.011578011326491833, -0.009669389575719833, -0.014755556359887123, -0.016723107546567917, 0.014283153228461742, -0.019015967845916748, 0.003232346847653389, -0.008158312179148197, 0.005115751642733812, 0.0036154864355921745, 0.020147809758782387, 0.05645112320780754, -0.027487000450491905, 0.010443205013871193, 0.06774596124887466, 0.0060799033381044865, 0.004164514131844044, 0.013507924042642117, 0.03887346759438515, 0.008282742463052273, -0.01715201511979103, -0.006443910766392946, 0.013669331558048725, 0.02869809977710247, -0.016242295503616333, -0.01993054337799549, -0.007695984560996294, 0.006654330994933844, 0.016597703099250793, -0.010838099755346775, 0.007256062235683203, 0.018334561958909035, -0.007730595767498016, -0.02841958962380886, 0.020551772788167, -0.002394984243437648, -0.030210088938474655, -0.018977807834744453, 0.03498230129480362, -0.010016673244535923, 0.011339331045746803, 0.017672982066869736, 0.013761891983449459, 0.020499324426054955, -0.058557264506816864, -0.01874789223074913, -0.03052230179309845, 0.000641016464214772, -0.04969272390007973, 0.0007284900639206171, -0.0126970075070858, -0.022354543209075928, -0.017786217853426933, 0.03858352452516556, 0.016896113753318787, -0.016455337405204773, 0.0683734342455864, -0.00485722441226244, 0.021940359845757484, -0.03226348012685776, 0.0046852328814566135, -0.01766722835600376, -0.03592980280518532, -0.0823870450258255, -0.011020544916391373, -0.00183276052121073, 0.0004883166984654963, -0.008790899999439716, -0.0393608957529068, -0.009299419820308685, 0.02540319226682186, 0.03160617873072624, 0.03682512044906616, 0.04527153819799423, 0.007000115234404802, 0.004477004520595074, 0.0107555091381073, 0.003692763391882181, -0.04289785772562027, 0.015551691874861717, 0.006341717205941677, -0.03708404302597046, -0.033244796097278595, 0.047435373067855835, 0.033993784338235855, -0.036646246910095215, 0.04443942382931709, -0.014695709571242332, -0.04283219575881958, 0.03878859058022499, 0.012218212708830833, -0.004661074839532375, 0.06443440169095993, 0.008991270326077938, 0.01016981340944767, 0.04200145602226257, -0.04149780794978142, -0.026875188574194908, 0.0006437705596908927, 0.047496091574430466, 0.05343756824731827, -0.0008117489633150399, 0.015798838809132576, 0.07161280512809753, 0.004907774273306131, 0.10390526801347733, -0.012045873329043388, -0.009704399853944778, -0.03649241849780083, -0.0063970861956477165, 0.02749084122478962, 0.006264121737331152, 0.03128792718052864, -0.02231261134147644, 0.009524079039692879, 0.010738102719187737, -0.05000568926334381, 0.03758200258016586, -0.0022637739311903715, -0.01564786024391651, 0.025287002325057983, -0.03204195201396942, 0.03626920282840729, -0.006781155243515968, -0.00785895437002182, 0.015244433656334877, 0.0388789027929306, 0.007709407713264227, 0.027580024674534798, 0.06349398195743561, 0.0448945090174675, 0.010813030414283276, -0.01298176497220993, 0.03334196284413338, 0.026176782324910164, 0.024227527901530266, 0.0028053871355950832, -0.00157992634922266, 0.0004278887645341456, 0.021965304389595985, 0.010391616262495518, 0.00770807359367609, 0.01950732432305813, 0.026503168046474457, -0.03350608050823212, -0.0382322259247303, -0.03557359427213669, -0.018879763782024384, -0.005648259539157152, -0.0774221196770668, -0.0034037469886243343, -0.030876213684678078, -0.0028088197577744722, -0.03947547823190689, 0.00018194789299741387, -0.03387930244207382, 0.03343866765499115, -0.01824977993965149, 0.047612641006708145, 0.11108162254095078, 0.011889882385730743, 0.07383688539266586, 0.057026684284210205, 0.00543339503929019, 0.003592108376324177, -0.07374879717826843, 0.04727744683623314, -0.03471331670880318, -0.043601397424936295, 0.00482280645519495, -0.028168978169560432, -0.01987946219742298, -0.02854091115295887, 0.002912124851718545, 0.008083065040409565, -0.04663827642798424, 0.014949290081858635, 0.023665817454457283, 0.025262217968702316, 0.047687921673059464, -0.004966100677847862, -0.0019067161483690143, 0.051648665219545364, -0.004671502858400345, 0.014634155668318272, -0.01757894828915596, 0.00021143043704796582, 0.07373113930225372, 0.0070016030222177505, -0.007363419514149427, 0.02271917834877968, -0.032873764634132385, 0.01958595961332321, -0.017262088134884834, 0.051226403564214706, 0.02724805288016796, 0.03491050750017166, -0.05701538175344467, 0.0033200420439243317, -0.005393073428422213, 0.01755530759692192, 0.009710152633488178, -0.017611298710107803, -0.0009253944153897464, -0.020631317049264908, 0.042541034519672394, 0.025981400161981583, 0.000197718502022326, -0.0318659283220768, -0.00488763302564621, -0.03435646370053291, 0.022305874153971672, -0.03963082283735275, 0.03340628743171692, 0.019078711047768593, -0.05251697450876236, -0.025698222219944, 0.03124096617102623, 0.01347963698208332, -0.07253619283437729, -0.0006493512773886323, 0.04831373319029808, -0.02567647024989128, -0.02414192631840706, 0.020962746813893318, 0.040515873581171036, 0.009226574562489986, -0.06837042421102524, 0.014152582734823227, 0.04239002987742424, 0.015006870962679386, -0.018084535375237465, -0.027868684381246567, -0.017140671610832214, -0.01688503660261631, -0.03151978924870491, 0.03667476028203964, -0.006612391211092472, 0.07138117402791977, 0.019286954775452614, 0.013245543465018272, -0.015009365975856781, 0.003874954069033265, -0.0012491209199652076, -0.010660252533853054, 0.018780941143631935, -0.032833270728588104, -0.009474232792854309, 0.04392334073781967, 0.0063283671624958515, 0.012224303558468819, -0.01506029162555933, 0.038245849311351776, 0.0033059129491448402, -0.01567072607576847, -0.0058007328771054745, 0.005792388692498207, 0.02937931939959526, -0.028014643117785454, 0.0025389380753040314, -0.006481018848717213, 0.023666951805353165, 0.010190397500991821, 0.0033307054545730352, -0.05407271906733513, -0.05436545982956886, 0.03104310669004917, 0.017889445647597313, -0.02225060574710369, -0.04951177537441254, -0.02518158033490181, 0.026658589020371437, -0.0462866947054863, 0.019047608599066734, 0.0009558139136061072, 0.04334309324622154, -0.01888277195394039, 0.06888310611248016, -0.013628165237605572, 0.034062471240758896, -0.027706289663910866, -0.00439314404502511, 0.01406512875109911, -0.02742210403084755, 0.0008795553585514426, -0.06833288073539734, -0.0019057545578107238, -0.021503865718841553, -0.04979865625500679, 0.01177840307354927, -0.007322215475142002, 0.06025098264217377, -0.021467534825205803, 0.03716880455613136, -0.027080558240413666, -0.02263193391263485, -0.03540109470486641, -0.002943717874586582, -0.01506354846060276, 0.01738153211772442, -0.0024103273171931505, 0.027152009308338165, 0.012601343914866447, -0.03818121924996376, 0.02582201361656189, -0.00027537858113646507, -0.019378313794732094, 0.005100342910736799, 0.028696486726403236, 0.0324295349419117, -0.05014357343316078, -0.017874622717499733, 0.03963685408234596, -0.07238521426916122, 0.02650057151913643, 0.026683978736400604, 0.05675455927848816, 0.024218803271651268, -0.00015907686611171812, -0.041114289313554764, 0.03295176103711128, -0.00021567977091763169, -0.030835242941975594, -0.03354690223932266, 0.02978517673909664, -0.07057531923055649, -0.0149606354534626, 0.041069407016038895, -0.007609643507748842, -0.003304474288597703, 5.904865975026041e-05, -0.0006631003925576806, -0.026580385863780975, -0.024469584226608276, 0.04359022527933121, -0.01094280555844307, 0.043523453176021576, 0.005217431113123894, 0.045469339936971664, -0.017581569030880928, -0.01772145740687847, -0.05503028631210327, 0.011333456262946129, 0.019237421452999115, -0.003255776595324278, 0.033037543296813965, 0.007721711881458759, 0.04408234730362892, -0.04866489768028259, -0.05315522477030754, 0.04319612309336662, 0.011641341261565685, -0.030189264565706253, -0.017765743657946587, 0.023798802867531776, 0.010302882641553879, -0.045971307903528214, 0.02826019376516342, 0.010769176296889782, 0.0334574319422245, 0.01628570444881916, 0.010712589137256145, 0.0034774059895426035, -0.02663874439895153, 0.0011849154252558947, -0.015499847009778023, -0.011527945287525654, 0.013245059177279472, 0.058130986988544464, -0.03540091961622238, -0.01615006849169731, 0.015725048258900642, -0.014394662342965603, -0.015499618835747242, -0.011099385097622871, -0.022098688408732414, -0.007454445585608482, -0.06495359539985657, -0.04295051097869873, -0.03465920686721802, -0.012410580180585384, -0.024732597172260284, 0.0026926021091639996, -0.04425215348601341, 0.04041976109147072, -0.05396633222699165, -0.03212728723883629, -0.03848404809832573, -0.001969272270798683, -0.006396118085831404, -0.13916733860969543, 0.028024014085531235, -0.0009078455623239279, -0.0042878370732069016, -0.035003360360860825, 0.013250233605504036, -0.02406890131533146, -0.0034378485288470984, 0.014654491096735, -0.029531298205256462, -0.01837385818362236, 0.05275110527873039, -0.03875769302248955, -0.010617289692163467, -0.0025456140283495188, 0.02647140622138977, -0.016164349392056465, 0.020665662363171577, -0.014714169315993786, -0.015690185129642487, -0.04335669055581093, -0.009519899263978004, 0.029418496415019035, -0.026744242757558823, 0.04668624326586723, 0.022739779204130173, 0.027872687205672264, 0.037461213767528534, -0.039974261075258255, -0.01052901428192854, 0.01754949614405632, -0.07360110431909561, 0.04366174712777138, -0.005350552499294281, -0.05337974801659584, -0.024939943104982376, -0.022497549653053284, -0.012698464095592499, -0.005456053651869297, 0.005961408838629723, 0.0014473982155323029, 0.012746118009090424, 0.0043256874196231365, -0.024057572707533836, -0.036101482808589935, 0.03965289518237114, -0.030365152284502983, -0.026730040088295937, -0.023771222680807114, 0.007711201906204224, 0.029958488419651985, -0.02550456114113331, 0.008333929814398289, 0.020528335124254227, -0.01220917422324419, 0.025917023420333862, -0.051900699734687805, 0.026930037885904312, -0.01532337348908186, 0.09332914650440216, -0.004445238504558802, 0.001485191285610199, -0.026193223893642426, 0.0266890749335289, -0.02186395227909088, 0.018523942679166794, -0.039298344403505325, 0.009922303259372711, 0.023681778460741043, 0.013398542068898678, -0.009408362209796906, 0.008407066576182842, 0.01375371403992176, -0.018673280254006386, 0.03455674275755882, 0.010913101956248283, 0.03695553168654442, 0.01852450892329216, -0.019291402772068977, -0.026609687134623528, 0.0321490578353405, -0.0013695027446374297, -0.03879748284816742, -0.011365008540451527, -0.020784739404916763, 0.00434629013761878, -0.03297923877835274, 0.009867679327726364, 0.014341737143695354, -0.014785177074372768, -0.07234425097703934, -0.017602846026420593, 0.004182550124824047, 0.011830460280179977, -0.05138951167464256, 0.008748656138777733, -0.018485287204384804, -0.0013007578672841191, -0.03180249035358429, -0.018348924815654755, -0.014864256605505943, -0.004893506411463022, 0.022193431854248047, 0.026950770989060402, -0.017803119495511055, 0.01679236814379692, 0.06044008582830429, -0.01422183308750391, 0.010133499279618263, -0.010618913918733597, 0.014545750804245472, -0.00602446123957634, -0.0011754484148696065, 0.037111636251211166, 0.0012738376390188932, -0.010678444057703018, 0.0288045983761549, 0.03542004153132439, 0.0014637785498052835, 0.028658201918005943, -0.0037203978281468153, -0.012665423564612865, -0.01950656622648239, -0.01631876267492771, 0.04221543297171593, 0.05707627534866333, 0.0004616950755007565, 0.016226716339588165, 0.09711800515651703, 0.0018991308752447367, 0.027151376008987427, -0.060852956026792526, 0.01890171319246292, -0.010310513898730278, 0.029171472415328026, -0.030853621661663055, 0.03149481117725372, 0.04299153387546539, -0.03963010013103485, -0.06612321734428406, -0.0148351164534688, 0.020511385053396225, -0.022780228406190872, -0.00031572949956171215, -0.05339832603931427, -0.0253458134829998, 0.021541770547628403, -0.006079609971493483, -0.046434227377176285, -0.0541912205517292, -0.008167038671672344, -0.01797686330974102, 0.0016967663541436195, 0.03379179537296295, -0.009219388477504253, 0.03803296014666557, -0.018617169931530952, 0.0060322764329612255, -0.019254544749855995, 0.02346745692193508, 0.01019010879099369, -0.017314162105321884, -0.028233768418431282, -0.005388206802308559, -0.03784320876002312, -0.030010700225830078, -0.0100420406088233, -0.012301316484808922, -0.02085025981068611, 0.01874321699142456, 0.011657021939754486, 0.06730959564447403, -0.034117408096790314, 0.04107622429728508, 0.03391924872994423, -0.010233363136649132, 0.0022197242360562086, 0.07042048126459122, 0.009740279987454414, -0.02172062173485756, 0.02916688099503517, -0.02893993817269802, 0.014594471082091331, 0.024801287800073624, -0.02809506095945835, -0.03812391310930252, -0.010857954621315002, 0.06161879375576973, 0.030104506760835648, -0.00888732448220253, -0.008466237224638462, 0.006894243415445089, 0.01559668779373169, -0.004113614559173584, 0.029511982575058937, 0.04061998426914215, 0.03222044184803963, 0.03395432233810425, -0.02816646359860897, 0.023592928424477577, -0.05588805675506592, -0.018376147374510765, 0.04651225730776787, -0.017289765179157257, -0.005295939277857542, 0.0024614077992737293, -0.04010384529829025, -0.006938610225915909, -0.016049981117248535, 0.0013267521280795336, -0.020326383411884308, -0.027287345379590988, 0.017295194789767265, 0.009921399876475334, 0.015596941113471985, -0.029841836541891098, 0.032908402383327484, -0.008613198064267635, -0.02302299626171589, -0.011350949294865131, -0.0069913361221551895, -0.014424676075577736, -0.008691219612956047, -0.024578364565968513, 0.011275799944996834, -0.05488386005163193, 0.005782049149274826, 0.05232745409011841, -0.021502170711755753, 0.010558610782027245, 0.023774219676852226, -0.05600109323859215, -0.041045598685741425, 0.04843579977750778, 0.013611260801553726, -0.01882418803870678, 0.047626808285713196, 0.013564935885369778, -0.004170498810708523, -0.037158332765102386, 0.05081337317824364, -0.018375933170318604, 0.0024213280994445086, -0.03138447180390358]\n"
     ]
    }
   ],
   "source": [
    "embedded_query = embeddings_model.embed_query(\"인공지능이란 무엇인가요\")\n",
    "\n",
    "print(f'임베딩 벡터의 차원: {len(embedded_query)}')\n",
    "print(embedded_query)"
   ]
  },
  {
   "cell_type": "code",
   "execution_count": 51,
   "id": "4e6aebf5",
   "metadata": {},
   "outputs": [
    {
     "name": "stdout",
     "output_type": "stream",
     "text": [
      "질문: 인공지능이란 무엇인가요?\n",
      "가장 유사한 문서: 인공지능은 컴퓨터 과학의 한 분야입니다.\n",
      "유사도: 0.7269\n",
      "--------------------------------------------------\n",
      "질문: 딥러닝과 머신러닝의 관계는 어떻게 되나요?\n",
      "가장 유사한 문서: 딥러닝은 머신러닝의 한 종류입니다.\n",
      "유사도: 0.7057\n",
      "--------------------------------------------------\n",
      "질문: 컴퓨타가 이미지를 이해하는 방법은?\n",
      "가장 유사한 문서: 컴퓨터 비전은 컴퓨터가 디지털 이미지나 비디오를 이해하는 방법을 연구합니다.\n",
      "유사도: 0.6683\n",
      "--------------------------------------------------\n"
     ]
    }
   ],
   "source": [
    "def find_most_similar(query, document_embeddings):\n",
    "    query_embedding = embeddings_model.embed_query(query)\n",
    "    similarities = cosine_similarity([query_embedding], document_embeddings)[0]\n",
    "    most_similr_idx = np.argmax(similarities)\n",
    "    return documents[most_similr_idx], similarities[most_similr_idx]\n",
    "\n",
    "queries = [\n",
    "    \"인공지능이란 무엇인가요?\",\n",
    "    \"딥러닝과 머신러닝의 관계는 어떻게 되나요?\",\n",
    "    \"컴퓨타가 이미지를 이해하는 방법은?\"\n",
    "]\n",
    "\n",
    "for query in queries:\n",
    "    most_similar_doc, similarity = find_most_similar(query, document_embeddings)\n",
    "    print(f\"질문: {query}\")\n",
    "    print(f\"가장 유사한 문서: {most_similar_doc}\")\n",
    "    print(f\"유사도: {similarity:.4f}\")\n",
    "    print('-' * 50)"
   ]
  },
  {
   "cell_type": "code",
   "execution_count": null,
   "id": "8b3fea4f",
   "metadata": {},
   "outputs": [],
   "source": []
  }
 ],
 "metadata": {
  "kernelspec": {
   "display_name": "langchain-env-I6Y7WdhY-py3.11",
   "language": "python",
   "name": "python3"
  },
  "language_info": {
   "codemirror_mode": {
    "name": "ipython",
    "version": 3
   },
   "file_extension": ".py",
   "mimetype": "text/x-python",
   "name": "python",
   "nbconvert_exporter": "python",
   "pygments_lexer": "ipython3",
   "version": "3.11.9"
  }
 },
 "nbformat": 4,
 "nbformat_minor": 5
}
